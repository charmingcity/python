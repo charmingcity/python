{
 "cells": [
  {
   "cell_type": "markdown",
   "metadata": {},
   "source": [
    "### Printing"
   ]
  },
  {
   "cell_type": "code",
   "execution_count": 1,
   "metadata": {},
   "outputs": [
    {
     "name": "stdout",
     "output_type": "stream",
     "text": [
      "Hello World\n"
     ]
    }
   ],
   "source": [
    "print(\"Hello World\")"
   ]
  },
  {
   "cell_type": "code",
   "execution_count": 5,
   "metadata": {},
   "outputs": [
    {
     "name": "stdout",
     "output_type": "stream",
     "text": [
      "Seoul Property Insight\n"
     ]
    }
   ],
   "source": [
    "print(\"Seoul Property Insight\")"
   ]
  },
  {
   "cell_type": "code",
   "execution_count": 6,
   "metadata": {},
   "outputs": [
    {
     "name": "stdout",
     "output_type": "stream",
     "text": [
      "real estate fintech\n"
     ]
    }
   ],
   "source": [
    "print(\"real estate fintech\")"
   ]
  },
  {
   "cell_type": "markdown",
   "metadata": {},
   "source": [
    "### Math Operations "
   ]
  },
  {
   "cell_type": "code",
   "execution_count": 7,
   "metadata": {},
   "outputs": [
    {
     "name": "stdout",
     "output_type": "stream",
     "text": [
      "Dogs 30.0\n"
     ]
    }
   ],
   "source": [
    "print(\"Dogs\", 25 + 30 / 6)"
   ]
  },
  {
   "cell_type": "code",
   "execution_count": 1,
   "metadata": {},
   "outputs": [
    {
     "name": "stdout",
     "output_type": "stream",
     "text": [
      "Cats 25\n"
     ]
    }
   ],
   "source": [
    "print(\"Cats\", 100 - 25 * 3 )"
   ]
  },
  {
   "cell_type": "code",
   "execution_count": 4,
   "metadata": {},
   "outputs": [
    {
     "name": "stdout",
     "output_type": "stream",
     "text": [
      "12.0\n"
     ]
    }
   ],
   "source": [
    "print( 3 + 12 / 4 + 6 )"
   ]
  },
  {
   "cell_type": "code",
   "execution_count": 12,
   "metadata": {},
   "outputs": [
    {
     "name": "stdout",
     "output_type": "stream",
     "text": [
      "False\n"
     ]
    }
   ],
   "source": [
    "print ( 4 + 1 < 5 - 7 )"
   ]
  },
  {
   "cell_type": "code",
   "execution_count": 14,
   "metadata": {},
   "outputs": [
    {
     "name": "stdout",
     "output_type": "stream",
     "text": [
      "Is it greater or equal? True\n"
     ]
    }
   ],
   "source": [
    "print( \"Is it greater or equal?\", 5 >= -2)"
   ]
  },
  {
   "cell_type": "markdown",
   "metadata": {},
   "source": [
    "### Variables"
   ]
  },
  {
   "cell_type": "code",
   "execution_count": 8,
   "metadata": {},
   "outputs": [
    {
     "name": "stdout",
     "output_type": "stream",
     "text": [
      "There are 100 car available\n",
      "There are only 30 drivers abailable.\n",
      "There will be 70 empty cars today.\n",
      "We need to put 3.0 passengers in each car.\n"
     ]
    }
   ],
   "source": [
    "cars = 100\n",
    "drivers = 30 \n",
    "passengers = 90 \n",
    "cars_not_driven = cars - drivers\n",
    "cars_driven = drivers\n",
    "average_passengers_per_car = passengers / cars_driven\n",
    "\n",
    "print(\"There are\", cars, \"car available\")\n",
    "print(\"There are only\", drivers, \"drivers abailable.\")\n",
    "print(\"There will be\", cars_not_driven, \"empty cars today.\")\n",
    "print(\"We need to put\", average_passengers_per_car, \"passengers in each car.\")"
   ]
  },
  {
   "cell_type": "markdown",
   "metadata": {},
   "source": [
    "### Strings & Text"
   ]
  },
  {
   "cell_type": "code",
   "execution_count": 19,
   "metadata": {
    "scrolled": false
   },
   "outputs": [
    {
     "name": "stdout",
     "output_type": "stream",
     "text": [
      "Let`s talk about charmings.\n",
      "He`s got Brown eyes and Black hair\n",
      "If I add 36, 172, and 80 I get 288.\n"
     ]
    }
   ],
   "source": [
    "my_name = 'charmings'\n",
    "my_age = 36\n",
    "my_height = 172\n",
    "my_weight = 80\n",
    "my_eyes = 'Brown'\n",
    "my_hairs = 'Black'\n",
    "\n",
    "print(\"Let`s talk about %s.\" %my_name)\n",
    "print(\"He`s got %s eyes and %s hair\" % (my_eyes, my_hairs))\n",
    "\n",
    "print(\"If I add %s, %s, and %s I get %s.\" % (my_age, my_height, my_weight, my_age + my_height + my_weight))"
   ]
  },
  {
   "cell_type": "markdown",
   "metadata": {},
   "source": [
    "# 1. 자료의 구조: 자료형"
   ]
  },
  {
   "cell_type": "code",
   "execution_count": 47,
   "metadata": {},
   "outputs": [
    {
     "name": "stdout",
     "output_type": "stream",
     "text": [
      "1 5 안녕하세요\n"
     ]
    }
   ],
   "source": [
    "# 변수는 어떤 값을 저장하고 있는 공간을 의미. 변수는 다음과 같이 좌변에 변수명을, 우변에 변수에 저장할 값을 입력 \n",
    "# 변수 = 변수에 저장할 값\n",
    "\n",
    "a = 1 \n",
    "b = 5\n",
    "c = \"안녕하세요\"\n",
    "\n",
    "print (a, b, c)"
   ]
  },
  {
   "cell_type": "code",
   "execution_count": 73,
   "metadata": {},
   "outputs": [
    {
     "data": {
      "text/plain": [
       "int"
      ]
     },
     "execution_count": 73,
     "metadata": {},
     "output_type": "execute_result"
    }
   ],
   "source": [
    "a = 10 \n",
    "type(a)"
   ]
  },
  {
   "cell_type": "code",
   "execution_count": null,
   "metadata": {},
   "outputs": [],
   "source": [
    "#### 자료형: 프로그래밍을 할 때 쓰이는 숫자, 문자열 등 자료 형태로 사용하는 것\n",
    "#### 숫자 자료형으로는 int형과 float형이 있으며 숫자 자료형 간에는 사칙 연산과 제곱 연상 등이 가능.\n",
    "#### 문자열 자료형으로 str형이 있으며 큰따옴표 혹은 작은따옴표로 감싸서 정의\n",
    "#### 배열 자료형으로 list와 tuple이 있으며 두 자료형 모두 인덱싱과 슬라이싱이 가능 (리스트의 요소는 변경할 수 없고 튜플은 변경할 수 있음)\n",
    "#### 집합 자료형으로 set형이 있으며 요소 간 순서가 없고 요소의 중복을 허용하지 않음\n",
    "#### 사전 자료형인 dictionary는 키와 값의 쌍으로 구성된 자료형, 키를 기준으로 데이터를 관리할 수 있음\n"
   ]
  },
  {
   "cell_type": "markdown",
   "metadata": {},
   "source": [
    "## 1. 1 숫자형: int와 float "
   ]
  },
  {
   "cell_type": "code",
   "execution_count": 84,
   "metadata": {},
   "outputs": [
    {
     "name": "stdout",
     "output_type": "stream",
     "text": [
      "<class 'int'> <class 'float'>\n"
     ]
    }
   ],
   "source": [
    "a = 10     #정수형(int)\n",
    "b = 2.5    #실수형(float)\n",
    "\n",
    "print(type(a), type(b))"
   ]
  },
  {
   "cell_type": "code",
   "execution_count": 69,
   "metadata": {},
   "outputs": [
    {
     "name": "stdout",
     "output_type": "stream",
     "text": [
      "12345\n",
      "100\n",
      "12445\n",
      "<class 'int'>\n"
     ]
    }
   ],
   "source": [
    "a = 12345\n",
    "b = 100\n",
    "c = a + b\n",
    "\n",
    "print(a)\n",
    "print(b)\n",
    "print(c)\n",
    "print(type(a))"
   ]
  },
  {
   "cell_type": "code",
   "execution_count": 25,
   "metadata": {},
   "outputs": [
    {
     "name": "stdout",
     "output_type": "stream",
     "text": [
      "12.5\n",
      "1.5\n",
      "38.5\n",
      "1.2727272727272727\n"
     ]
    }
   ],
   "source": [
    "# int형과 float형인 변수에 대해서는 사칙연산을 할 수 있음\n",
    "\n",
    "a = 7\n",
    "b = 5.5\n",
    "\n",
    "print(a + b)\n",
    "print(a - b)\n",
    "print(a * b)\n",
    "print(a / b)"
   ]
  },
  {
   "cell_type": "markdown",
   "metadata": {},
   "source": [
    "## 1. 2 문자열 자료형: str\n",
    "\n",
    "####  문자열 자료형이란 말 그대로 문자를 의미\n",
    "#### 문자의 양옆에 큰따옴표(\")혹은 작은따옴표(')로 감싸서 정의"
   ]
  },
  {
   "cell_type": "code",
   "execution_count": 86,
   "metadata": {},
   "outputs": [
    {
     "name": "stdout",
     "output_type": "stream",
     "text": [
      "python 서울역 2002\n"
     ]
    }
   ],
   "source": [
    "x = \"python\"\n",
    "y = '서울역'\n",
    "z = '2002'   #숫자형 양옆에 따옴표를 감싸서 문자로 취급 \n",
    "print(x, y, z)"
   ]
  },
  {
   "cell_type": "code",
   "execution_count": 31,
   "metadata": {},
   "outputs": [
    {
     "name": "stdout",
     "output_type": "stream",
     "text": [
      "'작은따옴표가 포함' \"큰따옴표가 포함\"\n"
     ]
    }
   ],
   "source": [
    "a = \"'작은따옴표를 포함'\"\n",
    "b = '\"큰따옴표를 포함\"'\n",
    "print(a,b)"
   ]
  },
  {
   "cell_type": "code",
   "execution_count": 2,
   "metadata": {},
   "outputs": [
    {
     "name": "stdout",
     "output_type": "stream",
     "text": [
      "서울프라퍼티인사이트\n"
     ]
    }
   ],
   "source": [
    "a = \"서울\"\n",
    "b = \"프라퍼티\"\n",
    "c = \"인사이트\"\n",
    "\n",
    "print(a+b+c)"
   ]
  },
  {
   "cell_type": "markdown",
   "metadata": {},
   "source": [
    "#### 인덱싱과 슬라이싱"
   ]
  },
  {
   "cell_type": "code",
   "execution_count": 5,
   "metadata": {
    "scrolled": true
   },
   "outputs": [
    {
     "name": "stdout",
     "output_type": "stream",
     "text": [
      "서\n",
      "퍼\n",
      "이\n",
      "서울프라\n",
      "울프라\n",
      "서울프라\n",
      "울라티사트\n"
     ]
    }
   ],
   "source": [
    "# 문자열은 순서가 있는 자료형으로, 인덱싱(indexing)과 슬라이싱(slicing)이 가능\n",
    "\n",
    "##인덱싱\n",
    "s = \"서울프라퍼티인사이트\"\n",
    "print(s[0])   #인덱스는 0부터 시작함, 첫번째 글자\n",
    "print(s[4])   #다섯번째 글자 \n",
    "print(s[-2])  #역순, 뒤에서 두번째 글자\n",
    "\n",
    "\n",
    "##슬라이싱\n",
    "print(s[1:4])      #시작 1, 종료 4, 증가 폭 1  \n",
    "print(s[:4])       #시작 0, 종료 4. 증가 폭 1 "
   ]
  },
  {
   "cell_type": "code",
   "execution_count": 5,
   "metadata": {},
   "outputs": [
    {
     "name": "stdout",
     "output_type": "stream",
     "text": [
      "블록체인을 부동산 금융에 접목합니다.\n",
      "['A', 'B', 'C']\n",
      "A= 10, B = 20, C = 30\n"
     ]
    }
   ],
   "source": [
    "# 문자열 내장함수(built-in function)\n",
    "# 문자열 자료형에 내재된 함수인 메소드(method) \n",
    "\n",
    "\n",
    "# replace 메소드: 문자열에서 일부를 바꿀 때 사용\n",
    "\n",
    "s = \"인공지능을 부동산 금융에 접목합니다.\"\n",
    "print(s.replace(\"인공지능\", \"블록체인\"))\n",
    "\n",
    "# split 메소드 : 문자열에 포함된 부분 문자열을 기준으로 분할 \n",
    "\n",
    "s = \"A\\tB\\tC\"\n",
    "print(s.split(\"\\t\"))\n",
    "\n",
    "# format 메소드 : 문자열의 빈칸을 채우는 데 사용하는 메소드, print문과 함께 결과 출력\n",
    "\n",
    "A = 10\n",
    "B = 20\n",
    "C = 30\n",
    "print(\"A= {}, B = {}, C = {}\".format(A, B, C))"
   ]
  },
  {
   "cell_type": "markdown",
   "metadata": {},
   "source": [
    "## 1. 3 배열 자료형: 리스트(list)와 튜플(tuple)"
   ]
  },
  {
   "cell_type": "markdown",
   "metadata": {},
   "source": [
    "### 리스트(list) : 가변형(mutable), 시퀀스, 가장 유용한 자료형, []:대괄호 , 요소의 중복허용"
   ]
  },
  {
   "cell_type": "code",
   "execution_count": 11,
   "metadata": {},
   "outputs": [
    {
     "name": "stdout",
     "output_type": "stream",
     "text": [
      "[1, 2, 3, 4, 5, 6]\n",
      "<class 'list'>\n",
      "['a', 'hello', 123]\n",
      "2\n"
     ]
    }
   ],
   "source": [
    "# 배열(array)은 여러 개의 요소를 하나의 묶음으로 관리하는 자료형을 의미, 순서가 존재 \n",
    "# 리스트는 대괄호, 튜플은 소괄호\n",
    "\n",
    "a = [1,2,3,4,5,6]\n",
    "print(a)\n",
    "print(type(a)) # <class 'list'>\n",
    "\n",
    "b = ['a','hello',123]\n",
    "print(b)\n",
    "\n",
    "# 리스트 안에 리스트 \n",
    "c = [[1,2,3], [4,5,6]]\n",
    "print(c[0][1])\n"
   ]
  },
  {
   "cell_type": "code",
   "execution_count": 12,
   "metadata": {},
   "outputs": [
    {
     "name": "stdout",
     "output_type": "stream",
     "text": [
      "0번째 요소: A, 2번째 요소: C\n",
      "['B', 'C']\n",
      "0번째 요소: A, 3번째 요소: D\n",
      "('B', 'C')\n"
     ]
    }
   ],
   "source": [
    "# 리스트와 튜플 비교 \n",
    "\n",
    "L = [1, 2, 3, 4]\n",
    "T = (1, 2, 3, 4)\n",
    "\n",
    "# 인덱싱과 슬라이싱 (for 리스트, 튜플)\n",
    "\n",
    "L = [\"A\", \"B\", \"C\", \"D\", \"E\"]\n",
    "print(\"0번째 요소: {}, 2번째 요소: {}\".format(L[0],L[2])) #인덱싱\n",
    "print(L[1:3])   #슬라이싱\n",
    "\n",
    "T = (\"A\", \"B\", \"C\", \"D\", \"E\")\n",
    "print(\"0번째 요소: {}, 3번째 요소: {}\".format(L[0],L[3])) #인덱싱\n",
    "print(T[1:3])  #슬라이싱\n"
   ]
  },
  {
   "cell_type": "code",
   "execution_count": 13,
   "metadata": {},
   "outputs": [
    {
     "name": "stdout",
     "output_type": "stream",
     "text": [
      "[1, 2, 3, 4, 5]\n",
      "(1, 2, 3, 4, 5)\n"
     ]
    }
   ],
   "source": [
    "# 리스트와 튜플은 문자열과 마찬가지로 + 연산 가능\n",
    "\n",
    "print([1,2,3] + [4,5])\n",
    "print((1,2,3) + (4,5))"
   ]
  },
  {
   "cell_type": "code",
   "execution_count": 7,
   "metadata": {},
   "outputs": [
    {
     "name": "stdout",
     "output_type": "stream",
     "text": [
      "[1, 2, 3, 4]\n",
      "[1, 2, 3, 4, 5]\n",
      "['b', 'c']\n"
     ]
    }
   ],
   "source": [
    "# 리스트 내장 함수 \n",
    "# append 메소드\n",
    "\n",
    "X = [1, 2, 3]\n",
    "X.append(4)\n",
    "print(X)\n",
    "\n",
    "# insert 메소드\n",
    "L = [1, 3, 4, 5]\n",
    "L.insert(1, 2)\n",
    "print(L)\n",
    "\n",
    "# remove 메소드\n",
    "L = [\"a\", \"b\", \"c\"]\n",
    "L.remove(\"a\")\n",
    "print(L)"
   ]
  },
  {
   "cell_type": "markdown",
   "metadata": {},
   "source": [
    "### 튜플(tuple) : 불변형(immutable), 시퀀스형, () : 소괄호 사용, 중복 데이터 허용 "
   ]
  },
  {
   "cell_type": "code",
   "execution_count": 15,
   "metadata": {},
   "outputs": [
    {
     "name": "stdout",
     "output_type": "stream",
     "text": [
      "(1, 2, 3, 4, 5) <class 'tuple'>\n",
      "1 2 3 5 4\n",
      "(10, 2, 3, 4, 5)\n"
     ]
    }
   ],
   "source": [
    "# 튜플은 리스트와 달리 데이터 변경이 불가하다. \n",
    "\n",
    "a = (1,2,3,4,5)\n",
    "print(a,type(a)) # <class 'tuple'>\n",
    "\n",
    "# indexing\n",
    "print(a[0],a[1],a[2],a[-1],a[-2])\n",
    "\n",
    "# a[0] = 10  # TypeError  , 요소 변경 불가\n",
    "\n",
    "b = list(a)\n",
    "b[0] = 10\n",
    "b = tuple(b)\n",
    "print(b)"
   ]
  },
  {
   "cell_type": "markdown",
   "metadata": {},
   "source": [
    "## 1. 4 집합 자료형 : set"
   ]
  },
  {
   "cell_type": "code",
   "execution_count": 34,
   "metadata": {},
   "outputs": [
    {
     "name": "stdout",
     "output_type": "stream",
     "text": [
      "{1, 2, 3} {1, 2, 3}\n",
      "[1, 2, 3]\n"
     ]
    }
   ],
   "source": [
    "#집합 자료형은 집합을 나타내는 자료형으로, 요소 간 순서가 없고 요소의 중복을 허용하지 않는 자료형\n",
    "\n",
    "s1 = {1, 2, 3, 2, 1}\n",
    "s2 = set([1, 2, 3, 2, 1])\n",
    "print(s1, s2)\n",
    "\n",
    "L = [1, 2, 3, 1, 2, 3]\n",
    "L = list(set(L))\n",
    "print(L)\n"
   ]
  },
  {
   "cell_type": "code",
   "execution_count": 22,
   "metadata": {},
   "outputs": [
    {
     "name": "stdout",
     "output_type": "stream",
     "text": [
      "{1, 2, 3, 4, 5}\n"
     ]
    }
   ],
   "source": [
    "#집합 자료형은 집합을 나타내는 자료형으로, 요소 간 순서가 없고 요소의 중복을 허용하지 않는 자료형\n",
    "\n",
    "a = [1,2,3,4,5,3,4,2,1,2,4,5]\n",
    "\n",
    "a_set = set(a)\n",
    "\n",
    "print(a_set)\n"
   ]
  },
  {
   "cell_type": "code",
   "execution_count": 38,
   "metadata": {
    "scrolled": true
   },
   "outputs": [
    {
     "name": "stdout",
     "output_type": "stream",
     "text": [
      "{3, 4}\n",
      "{3, 4}\n",
      "{1, 2, 3, 4, 5, 6}\n",
      "{1, 2, 3, 4, 5, 6}\n",
      "{1, 2}\n",
      "{1, 2}\n"
     ]
    }
   ],
   "source": [
    "# 집합 자료형에서는 교집합, 합집합, 차집합 연산을 지원\n",
    "\n",
    "# 교집합 연산: &, intersection 메서드\n",
    "s1 = {1, 2, 3, 4}\n",
    "s2 = {3, 4, 5, 6}\n",
    "print(s1 & s2)\n",
    "print(s1.intersection(s2))\n",
    "\n",
    "# 합집합 연산: |, union 메서드\n",
    "print(s1|s2)\n",
    "print(s1.union(s2))\n",
    "\n",
    "#차집합 연산: -, difference 메서드\n",
    "print (s1 - s2)\n",
    "print(s1.difference(s2))"
   ]
  },
  {
   "cell_type": "markdown",
   "metadata": {},
   "source": [
    "## 1. 5 사전 자료형: dictionary"
   ]
  },
  {
   "cell_type": "code",
   "execution_count": 16,
   "metadata": {},
   "outputs": [
    {
     "name": "stdout",
     "output_type": "stream",
     "text": [
      "1\n",
      "{'A': 1, 'B': 5, 'C': 3, 'D': 4}\n",
      "{'B': 5, 'C': 3, 'D': 4}\n",
      "dict_keys([1, 2, 3])\n",
      "dict_values(['A', 'B', 'C'])\n",
      "dict_items([(1, 'A'), (2, 'B'), (3, 'C')])\n"
     ]
    }
   ],
   "source": [
    "# 사전 자료형 딕셔너리(dictionary)는 키(key)와 값(value)의 쌍으로 구성된 순서가 없는 자료형 \n",
    "# 리스트와 튜플의 경우에는 위치를 나타내는 인덱스로만 데이터를 관리할 수 있는 반면, 딕셔너리는 키를 기준으로 데이터를 관리할 수 있음\n",
    "\n",
    "X = {\"A\":1, \"B\":2, \"C\":3}\n",
    "print(X[\"A\"])\n",
    "\n",
    "\n",
    "X[\"D\"] = 4\n",
    "X[\"B\"] = 5\n",
    "print(X)\n",
    "\n",
    "#del 함수\n",
    "\n",
    "del(X[\"A\"])\n",
    "print(X)\n",
    "\n",
    "\n",
    "# 딕셔너리 구성 요소를 확인하는 데 사용하는 메서드로는 key(), values(), items()\n",
    "# key()는 딕셔너리의 모든 키를, values()는 딕셔너리의 모든 키를, items() 딕셔너리의 모든 쌍을 반환\n",
    "\n",
    "X = {1:\"A\", 2:\"B\", 3:\"C\"}\n",
    "print(X.keys())\n",
    "print(X.values())\n",
    "print(X.items())"
   ]
  },
  {
   "cell_type": "markdown",
   "metadata": {},
   "source": [
    "## 1. 6 부울 자료형: bool"
   ]
  },
  {
   "cell_type": "code",
   "execution_count": 1,
   "metadata": {},
   "outputs": [
    {
     "name": "stdout",
     "output_type": "stream",
     "text": [
      "True False\n",
      "<class 'bool'> <class 'bool'>\n"
     ]
    }
   ],
   "source": [
    "#부울 자료형이란 참(True)와 거짓(True)을 나타내는 자료형으로, 조건문에서 주로 활용됨, 부울 자료형에 속하는 값은 True와 False\n",
    "\n",
    "a = True\n",
    "b = False\n",
    "print(a, b)\n",
    "print(type(a), type(b))"
   ]
  },
  {
   "cell_type": "code",
   "execution_count": 17,
   "metadata": {},
   "outputs": [
    {
     "name": "stdout",
     "output_type": "stream",
     "text": [
      "True\n",
      "False\n",
      "False\n",
      "False\n"
     ]
    }
   ],
   "source": [
    "# 부울 연산자\n",
    "\n",
    "print(True and True)\n",
    "print(True and False)\n",
    "print(False & False)\n",
    "print(False & True)"
   ]
  },
  {
   "cell_type": "markdown",
   "metadata": {},
   "source": [
    "# 2. 제어 구조: 조건문 (if 문)"
   ]
  },
  {
   "cell_type": "code",
   "execution_count": 8,
   "metadata": {},
   "outputs": [
    {
     "name": "stdout",
     "output_type": "stream",
     "text": [
      "참\n"
     ]
    }
   ],
   "source": [
    "# 조건문: 조건을 만족했을 대 특정 코드를 실행하는 문법 \n",
    "# if 조건 뒤에는 콜론(:)이 항상 있어야 하며 조건에 따른 코드 블록은 들여쓰기(indent) 되어야 함\n",
    "# 콜론과 들여쓰기는 if 뿐만 아니라, for문, while문, 함수 정의 등에 사용되는 파이썬 공통 문법\n",
    "# 코드 블록을 구성하는 코드의 들여쓰기 수준은 모두 같아야 하며 4칸을 권장 (tab 키를 이용해 4칸 이동)\n",
    "\n",
    "\n",
    "cond = True\n",
    "if cond:\n",
    "    print(\"참\")\n",
    "else:\n",
    "    print(\"거짓\")"
   ]
  },
  {
   "cell_type": "markdown",
   "metadata": {},
   "source": [
    "# 3. 제어 구조: 반복문 (for문 / while문)"
   ]
  },
  {
   "cell_type": "markdown",
   "metadata": {},
   "source": [
    "## 3. 1 for문"
   ]
  },
  {
   "cell_type": "code",
   "execution_count": 19,
   "metadata": {},
   "outputs": [
    {
     "name": "stdout",
     "output_type": "stream",
     "text": [
      "A\n",
      "B\n",
      "C\n"
     ]
    }
   ],
   "source": [
    "# for문: 한 변수가 순회 가능한 객체를 순회하면서 코드 블록을 반복적으로 실행\n",
    "# for 변수 in 순회 가능한 객체:\n",
    "#     수행할 라인 1\n",
    "#     수행할 라인 2 \n",
    "\n",
    "L = [\"A\", \"B\", \"C\"]\n",
    "for i in L : # i가 l을 순회\n",
    "    print(i)"
   ]
  },
  {
   "cell_type": "code",
   "execution_count": 18,
   "metadata": {},
   "outputs": [
    {
     "name": "stdout",
     "output_type": "stream",
     "text": [
      "1 1 1\n",
      "2 4 8\n",
      "3 9 27\n",
      "4 16 64\n",
      "5 25 125\n"
     ]
    }
   ],
   "source": [
    "T = [1, 2, 3, 4, 5]\n",
    "for a in T:\n",
    "    x = a ** 2\n",
    "    y = a ** 3\n",
    "    print(a, x, y)"
   ]
  },
  {
   "cell_type": "code",
   "execution_count": 4,
   "metadata": {},
   "outputs": [
    {
     "name": "stdout",
     "output_type": "stream",
     "text": [
      "1 A\n",
      "2 B\n",
      "3 C\n"
     ]
    }
   ],
   "source": [
    "X = [[1, \"A\"], [2, \"B\"], [3, \"C\"]]\n",
    "for a, b in X:\n",
    "    print(a, b)"
   ]
  },
  {
   "cell_type": "code",
   "execution_count": 6,
   "metadata": {},
   "outputs": [
    {
     "name": "stdout",
     "output_type": "stream",
     "text": [
      "1 A\n",
      "2 B\n",
      "3 C\n"
     ]
    }
   ],
   "source": [
    "#zip 함수, 두 배열을 동시에 순회하며 둘 이상의 배열을 순서대로 짝지어주는 역할 \n",
    "\n",
    "A = [1, 2, 3]\n",
    "B = [\"A\", \"B\", \"C\"]\n",
    "\n",
    "for a, b in zip(A, B):    #a는 A를, b는 B를 순회\n",
    "    print(a, b)"
   ]
  },
  {
   "cell_type": "markdown",
   "metadata": {},
   "source": [
    "## 3. 2  while문"
   ]
  },
  {
   "cell_type": "code",
   "execution_count": 2,
   "metadata": {},
   "outputs": [
    {
     "name": "stdout",
     "output_type": "stream",
     "text": [
      "1\n",
      "2\n",
      "3\n",
      "4\n",
      "5\n"
     ]
    }
   ],
   "source": [
    "#  while 문은 특정한 조건을 만족하는 동안 코등 블록을 반복해서 실행 \n",
    "# if 문과 차이점은 코드 블록을 실행한 다음에 다시 조건을 만족하는지 검사\n",
    "# 즉, while문은 조건을 만족하는 한 계속 while문 아래 있는 코드를 반복 실행 \n",
    "\n",
    "x = 1               #x를 1로 초기화\n",
    "while x <=5 :      #x가 5보다 작거나 같은지를 검사\n",
    "    print(x)\n",
    "    x +=1          #x를 1만큼 증가, X가 6으로 조건을 만족하지 않을 때까지 조건문을 반복 "
   ]
  },
  {
   "cell_type": "markdown",
   "metadata": {},
   "source": [
    "#### for문과 while 문 비교"
   ]
  },
  {
   "cell_type": "code",
   "execution_count": 16,
   "metadata": {},
   "outputs": [
    {
     "name": "stdout",
     "output_type": "stream",
     "text": [
      "1\n",
      "2\n",
      "3\n",
      "4\n",
      "5\n",
      "27\n",
      "27\n"
     ]
    }
   ],
   "source": [
    "# for문과 달리 while문의 경우 변수를 초기화 해야 하며 업데이트 조건도 설정해야 함 \n",
    "# 특정한 요소를 순회하는 경우는 while문 보다 for문이 편리\n",
    "# for문은 한 변수가 순회 가능한 객체를 순회하면서 코드 블록을 반복해서 실행하는 데 사용하며,range 함수를 통해 특정 횟수만큼 반복하는데 사용\n",
    "# while문은 특정한 조건을 만족하는 동안 코드 블록을 반복해서 실행, 조건이 계속 참이면 무한히 코드를 실행(무한 루프)\n",
    "# while문의 경우 코드의 가독성을 위해 의도적으로 무한 루프에 빠지게 하고 원하는 조건을 충족하면 break문을 통해 나올 수 있게 설정 할 수 있음\n",
    "\n",
    "for i in range(1,6):\n",
    "    print(i)\n",
    "    \n",
    "    \n",
    "# while 문은 특정한 조건을 만족하는 코드를 반복해서 수행해야 하는 상황에 적합\n",
    "\n",
    "n = 1 \n",
    "while 2 ** n < 10 ** 8:\n",
    "    n += 1\n",
    "print(n)\n",
    "\n",
    "# 무한 루프와 break 문 \n",
    "n = 1\n",
    "while True:\n",
    "    if 2**n >= 10 ** 8:\n",
    "        break         # break가 강제로 반복문을 멈추게 함 \n",
    "    n += 1\n",
    "print(n)"
   ]
  },
  {
   "cell_type": "markdown",
   "metadata": {},
   "source": [
    "# 4. 함수"
   ]
  },
  {
   "cell_type": "code",
   "execution_count": 1,
   "metadata": {},
   "outputs": [
    {
     "name": "stdout",
     "output_type": "stream",
     "text": [
      "1\n"
     ]
    }
   ],
   "source": [
    "# 함수(function): 특정 작업을 반복적으로 수행하기 위해 독립적으로 설계된 프로그램 코드 \n",
    "# 함수를 정의 def, 키워드 출력 return\n",
    "\n",
    "def f(x): #인자가 x인 함수 f를 정의\n",
    "    y = 2*x - 1\n",
    "    return y\n",
    "\n",
    "print(f(1))"
   ]
  },
  {
   "cell_type": "code",
   "execution_count": 12,
   "metadata": {},
   "outputs": [
    {
     "name": "stdout",
     "output_type": "stream",
     "text": [
      "서울\n",
      "서울\n",
      "프라퍼티인사이트\n"
     ]
    }
   ],
   "source": [
    "def print_n_times(msg, n =2): # n의 기본값은 2로 설정\n",
    "    for _ in range(n):\n",
    "        print(msg)\n",
    "        \n",
    "print_n_times(\"서울\") # n을 입력하지 않았기 때문에 기본 값인 2번 출력 \n",
    "print_n_times(\"프라퍼티인사이트\", 1) # n을 1로 입력, 1번 출력 \n"
   ]
  },
  {
   "cell_type": "markdown",
   "metadata": {},
   "source": [
    "# 5. 클래스"
   ]
  },
  {
   "cell_type": "code",
   "execution_count": null,
   "metadata": {},
   "outputs": [],
   "source": [
    "# 클래스는 객체를 만드는 틀. 객체는 파이썬에서 사용하는 모든 변수를 의미 \n",
    "# 클래스는 함수 뿐만 아니라 함수와 관련된 변수까지 한꺼번에 묶어서 관리하고 재사용할 수 있게 해줌 \n",
    "# 클래스라는 틀을 통해 만든 객체를 인스턴스(instance)라고 함\n",
    "# 클래스를 붕어빵을 찍어내는 틀이라면 객체는 붕어빵 틀로 마든 하나하나의 붕어빵 \n",
    "# 객체는 임의의 변수를 뜻하며 인스턴스는 특정한 클래스를 통해 만든 객체 \n",
    "# 클래스에 포함되는 변수를 속성(attribute)라고 하며, 클래스에 포함된 함수를 메소드(method)라고 함\n",
    "\n",
    "파이썬 클래스 관련 용어\n",
    "(1) 클래스(class) : class 문으로 정의하며, 멤버와 메서드를 가지는 객체이다, 새로운 이름 공간을 갖는 단위\n",
    "(2) 클래스 객체(class object) : 클래스와 같은 의미\n",
    "\n",
    "(3) 클래스 인스턴스  : 클래스를 호출하여 생성된 객체  \n",
    "(4) 클래스 인스턴스 객체 : 클래스 인스턴스와 같은 의미\n",
    "\n",
    "(5) 멤버 : 클래스 혹은 클래스 인스턴스 공간에 정의 된 변수\n",
    "(6) 메소드 : 클래스 공간에 정의된 함수, def 사용\n",
    "(7) 속성(Attribute) : 멤버와 메소드 전체를 가리킨다\n",
    "\n",
    "(8) 상속 : 상위 클래스의 속성과 행동을 그대로 받아들이고 추가로 필요한 기능을 덧 붙이는것   "
   ]
  },
  {
   "cell_type": "code",
   "execution_count": 102,
   "metadata": {},
   "outputs": [
    {
     "name": "stdout",
     "output_type": "stream",
     "text": [
      "<class '__main__.Ourclass'>\n"
     ]
    }
   ],
   "source": [
    "class Ourclass:\n",
    "    pass\n",
    "\n",
    "a = Ourclass()\n",
    "b = Ourclass()\n",
    "\n",
    "print(type(a))"
   ]
  },
  {
   "cell_type": "code",
   "execution_count": 103,
   "metadata": {},
   "outputs": [
    {
     "name": "stdout",
     "output_type": "stream",
     "text": [
      "<class 'pandas.core.frame.DataFrame'>\n",
      "<class 'int'>\n"
     ]
    }
   ],
   "source": [
    "import pandas as pd \n",
    "df = pd.DataFrame()\n",
    "x = 1\n",
    "\n",
    "print(type(df))\n",
    "print(type(x))"
   ]
  },
  {
   "cell_type": "code",
   "execution_count": 43,
   "metadata": {},
   "outputs": [
    {
     "name": "stdout",
     "output_type": "stream",
     "text": [
      "<class '__main__.Simple'>\n",
      "<__main__.Simple object at 0x000001E43E9E24C0>\n",
      "<__main__.Simple object at 0x000001E43E9E2F40>\n"
     ]
    }
   ],
   "source": [
    "# class 클래스 이름:\n",
    "#           속성 ....\n",
    "\n",
    "\n",
    "# 클래스 생성\n",
    "class Simple :\n",
    "    pass\n",
    "\n",
    "print(Simple)\n",
    "\n",
    "# 인스턴스의 생성\n",
    "s1 = Simple()\n",
    "print(s1)\n",
    "\n",
    "s2 = Simple()\n",
    "print(s2)\n",
    "\n",
    "# 인스턴스의 삭제(소멸) : 파이썬에서는 종료시 자동으로 소멸\n",
    "del s1\n",
    "# print(s1)  # NameError "
   ]
  },
  {
   "cell_type": "code",
   "execution_count": 18,
   "metadata": {},
   "outputs": [
    {
     "name": "stdout",
     "output_type": "stream",
     "text": [
      "<class '__main__.Ourclass'>\n",
      "<class '__main__.Ourclass'>\n"
     ]
    }
   ],
   "source": [
    "class Ourclass:   #ourclass라는 클래스를 정의\n",
    "    pass\n",
    "a = Ourclass()     #ourclass 클래스로 만들어진 인스턴스 a \n",
    "b = Ourclass()     #ourclass 클래스로 만들어진 인스턴스 b\n",
    "\n",
    "print(type(a))        #__main__ 은 현재 실행 준인 코드 파일을 의미 \n",
    "print(type(b))\n",
    "\n",
    "## 클래스가 만들어내는 인스턴스는 모두 해당 클래스의 자료형이 되는 것 "
   ]
  },
  {
   "cell_type": "code",
   "execution_count": 20,
   "metadata": {},
   "outputs": [
    {
     "name": "stdout",
     "output_type": "stream",
     "text": [
      "100\n",
      "[1, 2, 3, 4]\n",
      "서로 안녕이라고 인사하기\n"
     ]
    }
   ],
   "source": [
    "# 멤버 접근 :  클래스 멤버와 인스턴스 멤버\n",
    "\n",
    "# (1) 클래스 멤버의 구현과 접근 방법\n",
    "class MyClass:\n",
    "    cl_mem = 100\n",
    "    cl_list = [1,2,3,4]\n",
    "    a = '서로 안녕이라고 인사하기'\n",
    "\n",
    "# 클래스 객체를 통해서 접근\n",
    "print(MyClass.cl_mem)\n",
    "print(MyClass.cl_list)\n",
    "print(MyClass.a)\n"
   ]
  },
  {
   "cell_type": "markdown",
   "metadata": {},
   "source": [
    "### 생산자와 속성  "
   ]
  },
  {
   "cell_type": "code",
   "execution_count": 32,
   "metadata": {},
   "outputs": [
    {
     "name": "stdout",
     "output_type": "stream",
     "text": [
      "삼성전자 코스피\n"
     ]
    }
   ],
   "source": [
    "# 같은 클래스를 통해서 만들어진 인스턴스라도 그 특성은 다를 수 있다. \n",
    "# 가령 L1 = [1, 2, 3]과 L2 = [5, 6]은 모두 리스트라는 클래스의 인스턴트이지만, 리스트 안에 속한 요소라는 특성은 서로 다름\n",
    "# 이러한 객체의 특성을 파이썬에서는 속성(attribute)라고 부른다.\n",
    "# 객체의 속성은 생성자(__int__)라는 함수를 통해 할당됨\n",
    "\n",
    "class Stock:     # stock이라는 이름의 클래스 선언\n",
    "    def __init__(self, name, market = \"코스피\"): # __init__이라는 이름의 함수(생성자)를 생성, 클래스 내부에 있는 함수를 메서드라고 함\n",
    "        self.name = name      # 속성 정의 1 \n",
    "        self.market = market    # 속성 정의 2 \n",
    "        \n",
    "samsung = Stock(\"삼성전자\", \"코스피\") #클래스 호출 \n",
    "print(samsung.name, samsung.market)"
   ]
  },
  {
   "cell_type": "markdown",
   "metadata": {},
   "source": [
    "### 클래스의 상속\n",
    "#### 클래스 A에서 상속된 클래스 B가 있다고 할때,\n",
    "#### A를 부모(Parent) 클래스라고 하며,\n",
    "#### B를 자식(Child) 클래스라 한다."
   ]
  },
  {
   "cell_type": "code",
   "execution_count": 51,
   "metadata": {},
   "outputs": [],
   "source": [
    "# 부모(상위) 클래스\n",
    "class Person:       \n",
    "    def __init__(self,name,phone=None):  # 생성자\n",
    "        self.name = name\n",
    "        self.phone = phone\n",
    "        \n",
    "    def get_info(self):\n",
    "        return self.name,self.phone"
   ]
  },
  {
   "cell_type": "code",
   "execution_count": 52,
   "metadata": {},
   "outputs": [
    {
     "name": "stdout",
     "output_type": "stream",
     "text": [
      "('홍길동', '010-1234-1234')\n"
     ]
    }
   ],
   "source": [
    "p = Person('홍길동','010-1234-1234')   # 인스턴스의 생성\n",
    "print(p.get_info())"
   ]
  },
  {
   "cell_type": "code",
   "execution_count": 53,
   "metadata": {},
   "outputs": [
    {
     "name": "stdout",
     "output_type": "stream",
     "text": [
      "(<class 'object'>,)\n"
     ]
    }
   ],
   "source": [
    "print(Person.__bases__)  # base 클래스를 모두 tuple로 반환 \n",
    "                         # 파이썬의 모든 클래스의 base 클래스는 object 이다."
   ]
  },
  {
   "cell_type": "code",
   "execution_count": 57,
   "metadata": {},
   "outputs": [],
   "source": [
    "# 자식(하위) 클래스\n",
    "class Employee(Person):                   # base 클래스는 괄호 안에 표현한\n",
    "    def __init__(self,name,phone,position,salary):\n",
    "#         self.name = name\n",
    "#         sel.phone = phone\n",
    "#         Person.__init__(slef,name,phone) # Person 클래스 생성자 호출\n",
    "          super().__init__(name,phone)     #  상위 클래스 생성자 호출\n",
    "          self.position = position\n",
    "          self.salary  = salary\n",
    "       \n",
    "\n",
    "    # 메서드의 확장\n",
    "    # 하위 클래스에서 그 속성을 변화시키지 위해서 상위 클래스의 메서드를 호출하고, \n",
    "    # 그 결과를 활용하는 것을 말한다.\n",
    "    def get_info(self):\n",
    "        ret = super().get_info()\n",
    "        return ret, self.position, self.salary        \n",
    "            \n",
    "#  super() 메서드 : 현재 클래스의 상위(수퍼) 클래스를 얻어 낸다   "
   ]
  },
  {
   "cell_type": "code",
   "execution_count": 58,
   "metadata": {},
   "outputs": [
    {
     "name": "stdout",
     "output_type": "stream",
     "text": [
      "(('김', '1111'), '과장', 500)\n",
      "(('홍', '2222'), '부장', 500)\n"
     ]
    }
   ],
   "source": [
    "m1 = Employee('김','1111','과장',500)\n",
    "print(m1.get_info())\n",
    "\n",
    "m2 = Employee('홍','2222','부장',500)\n",
    "print(m2.get_info())"
   ]
  },
  {
   "cell_type": "markdown",
   "metadata": {},
   "source": [
    "\n",
    "# 6. 패키지와 모듈"
   ]
  },
  {
   "cell_type": "markdown",
   "metadata": {},
   "source": [
    "## 6.1 기본 개념"
   ]
  },
  {
   "cell_type": "code",
   "execution_count": null,
   "metadata": {},
   "outputs": [],
   "source": [
    "# 자주 사용하는 함수와 클래스 등을 필요할 때마다 만들지 않고 다른 곳에서 저장해두었다가 꺼내서 쓰는 것이 효율적\n",
    "# 패키지(package): 모듈의 집합 / 모듈(module): 코딩으로 기능하는 파일, 함수와 클래스의 집합 \n",
    "# 모듈은 클래스와 함수의 집합인 파이썬 파일이고, 패키지는 여러 모듈의 집합 \n",
    "# 모듈 파일은 여러 개의 함수와 클래스를 포함하며, 한 패키지는 여러 개의 모듈을 포함 "
   ]
  },
  {
   "cell_type": "markdown",
   "metadata": {},
   "source": [
    "## 6. 2 모듈 임포트 및 함수 사용법"
   ]
  },
  {
   "cell_type": "code",
   "execution_count": null,
   "metadata": {},
   "outputs": [],
   "source": [
    "#패키지와 모듈 내부에 있는 함수를 불러오는 방법 \n",
    "# 1. import 2. import와 as 3. from을 사용해 특정 함수만 불러오기 4. from을 사용해 모든 함수 불러오기 \n"
   ]
  },
  {
   "cell_type": "code",
   "execution_count": 59,
   "metadata": {},
   "outputs": [
    {
     "name": "stdout",
     "output_type": "stream",
     "text": [
      "2.0\n"
     ]
    }
   ],
   "source": [
    "# 사용법 1. import만 사용하기\n",
    "\n",
    "import math     #math 모듈 불러오기\n",
    "print(math.sqrt(4))  # 모듈명, 함수명 / math 모듈 내 sqrt 제곱근 함수 사용 "
   ]
  },
  {
   "cell_type": "code",
   "execution_count": 60,
   "metadata": {},
   "outputs": [
    {
     "name": "stdout",
     "output_type": "stream",
     "text": [
      "2.0\n"
     ]
    }
   ],
   "source": [
    "# 사용법 2. import와 as 사용하기\n",
    "\n",
    "\n",
    "import math as M\n",
    "print(M.sqrt(4))"
   ]
  },
  {
   "cell_type": "code",
   "execution_count": 61,
   "metadata": {},
   "outputs": [
    {
     "name": "stdout",
     "output_type": "stream",
     "text": [
      "2.0\n"
     ]
    }
   ],
   "source": [
    "# 사용법 3. from을 사용해 특정 함수만 불러오기\n",
    "# from 모듈명 import 함수명\n",
    "# 함수명 \n",
    "\n",
    "from math import sqrt # math 내의 sqrt 함수만 사용\n",
    "print(sqrt(4))"
   ]
  },
  {
   "cell_type": "code",
   "execution_count": 62,
   "metadata": {},
   "outputs": [
    {
     "name": "stdout",
     "output_type": "stream",
     "text": [
      "2.0\n",
      "0.0\n"
     ]
    }
   ],
   "source": [
    "# 사용법 4. from을 사용해 모든 함수 불러오기\n",
    "\n",
    "#from 모듈명 import *\n",
    "# 함수명\n",
    "\n",
    "from math import *\n",
    "print(sqrt(4))\n",
    "print(sin(0))"
   ]
  },
  {
   "cell_type": "markdown",
   "metadata": {},
   "source": [
    "## 6. 3 패키지에 속한 모듈 불러오기"
   ]
  },
  {
   "cell_type": "code",
   "execution_count": 66,
   "metadata": {},
   "outputs": [
    {
     "data": {
      "text/plain": [
       "<function scipy.spatial.distance.cdist(XA, XB, metric='euclidean', *, out=None, **kwargs)>"
      ]
     },
     "execution_count": 66,
     "metadata": {},
     "output_type": "execute_result"
    }
   ],
   "source": [
    "# 패캐지 -> 세부패키지 -> 함수 \n",
    "\n",
    "from scipy.spatial.distance import cdist  #distance 모듈까지 from으로 불러와 cdist함수를 불러옴 \n",
    "cdist\n",
    "\n",
    "from scipy.spatial import distance  # spatial 패키지 안에 있는 distance 모듈을 불러와 distance.cdist 함수 사용 \n",
    "distance.cdist\n",
    "\n",
    "from scipy import spatial   #scipy 내에 있는 spatial 패키지를 불러옴. 패지지 안에서 distance와 cdist를 순차적으로 접근하여 사ㅏ용\n",
    "spatial.distance.cdist\n",
    "\n",
    "import scipy                #scipy 패키지를 통으로 불러옴 \n",
    "scipy.spatial.distance.cdist"
   ]
  },
  {
   "cell_type": "markdown",
   "metadata": {},
   "source": [
    "## 추천 유튜브 영상 \n",
    "\n",
    "#### 코딩 1시간만에 배우기 – 파이썬, Teccboi Wonie / https://www.youtube.com/watch?v=M6kQTpIqpLs&t=3882s\n",
    "#### 파이썬 코딩 무료 강의 (기본편) - 6시간 뒤면 여러분도 개발자가 될 수 있어요, 나도코딩 https://www.youtube.com/watch?v=kWiCuklohdY&t=142s \n",
    "#### 최신 파이썬 코딩 무료 강의 - 5시간만 투자하면 개발자가 됩니다 / 조코딩https://www.youtube.com/watch?v=KL1MIuBfWe0&t=3589s \n"
   ]
  }
 ],
 "metadata": {
  "blpn": {
   "base_numbering": 1,
   "blpnPosition": {
    "height": "calc(100% - 180px)",
    "right": "10px",
    "top": "150px",
    "width": "50%"
   },
   "blpn_cell": false,
   "blpn_section_display": true,
   "blpn_window_display": false,
   "nav_menu": {},
   "number_sections": true,
   "sideBar": true,
   "title_cell": "BlackPen 0.1.8",
   "title_sidebar": "BlackPen 0.1.8"
  },
  "kernelspec": {
   "display_name": "Python 3 (ipykernel)",
   "language": "python",
   "name": "python3"
  },
  "language_info": {
   "codemirror_mode": {
    "name": "ipython",
    "version": 3
   },
   "file_extension": ".py",
   "mimetype": "text/x-python",
   "name": "python",
   "nbconvert_exporter": "python",
   "pygments_lexer": "ipython3",
   "version": "3.9.7"
  }
 },
 "nbformat": 4,
 "nbformat_minor": 4
}
