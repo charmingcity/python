{
 "cells": [
  {
   "cell_type": "markdown",
   "id": "a2322763",
   "metadata": {},
   "source": [
    "## 넘파이 NumPy ndarray: 다차원 배열 객체"
   ]
  },
  {
   "cell_type": "markdown",
   "id": "c84d3d68",
   "metadata": {},
   "source": [
    "#### Numerical Python의 줄임말\n",
    "\n",
    "1. 빠르고 효율적인 메모리 사용, 벡터 연산, 브로드캐스팅(확대) 기능을 제공하는 다차원 배열인 ndarray (n dimentional array)를 제공\n",
    "1. for 문 등 반복문을 작성할 필요없이 전체 배열에 대해 빠른 연산을 제공\n",
    "1. 배열 데이터를 디스크에 쓰거나 읽을 수 있는 도구\n",
    "1. 선형대수, 난수 발생기, 푸리에(Fourier) 변환 기능\n",
    "1. C, C++, 포트란 등 다른 언어로 쓰여진 코드를 통합하는 도구"
   ]
  },
  {
   "cell_type": "markdown",
   "id": "89e82938",
   "metadata": {},
   "source": [
    "## 1.넘파이 자료형 ndarray : 다차원 배열 객체 \n",
    "\n",
    "#####  NumPy의 핵심 기능 중 하나는 ndarray라고 하는 n차원의 배열 객체. 파이썬에서 사용할 수 있는 대규모 데이터 집합을 담을 수 있는 있는 빠르고 유용한 구조"
   ]
  },
  {
   "cell_type": "code",
   "execution_count": 12,
   "id": "3c909c41",
   "metadata": {},
   "outputs": [],
   "source": [
    "# np.array(object, dtype) object는 ndarray로 변환할 배열이며, dtype은 ndarray 요소의 자료형"
   ]
  },
  {
   "cell_type": "code",
   "execution_count": 7,
   "id": "009f5d43",
   "metadata": {},
   "outputs": [
    {
     "data": {
      "text/plain": [
       "array([1, 2, 3])"
      ]
     },
     "execution_count": 7,
     "metadata": {},
     "output_type": "execute_result"
    }
   ],
   "source": [
    "import numpy as np\n",
    "L = [1, 2, 3]  \n",
    "arr = np.array(L) \n",
    "arr       "
   ]
  },
  {
   "cell_type": "code",
   "execution_count": 6,
   "id": "7f23853b",
   "metadata": {},
   "outputs": [
    {
     "data": {
      "text/plain": [
       "array([3, 6, 9])"
      ]
     },
     "execution_count": 6,
     "metadata": {},
     "output_type": "execute_result"
    }
   ],
   "source": [
    "arr * 3"
   ]
  },
  {
   "cell_type": "code",
   "execution_count": 7,
   "id": "de69e480",
   "metadata": {},
   "outputs": [
    {
     "data": {
      "text/plain": [
       "array([2, 4, 6])"
      ]
     },
     "execution_count": 7,
     "metadata": {},
     "output_type": "execute_result"
    }
   ],
   "source": [
    "arr + arr"
   ]
  },
  {
   "cell_type": "markdown",
   "id": "b5dbe1ee",
   "metadata": {},
   "source": [
    "#### 참고. 파이썬 리스트와 비교 "
   ]
  },
  {
   "cell_type": "code",
   "execution_count": 13,
   "id": "6d921b48",
   "metadata": {},
   "outputs": [
    {
     "data": {
      "text/plain": [
       "[1, 2, 3, 1, 2, 3, 1, 2, 3]"
      ]
     },
     "execution_count": 13,
     "metadata": {},
     "output_type": "execute_result"
    }
   ],
   "source": [
    "L * 3 "
   ]
  },
  {
   "cell_type": "code",
   "execution_count": 11,
   "id": "ea19b4f1",
   "metadata": {},
   "outputs": [
    {
     "data": {
      "text/plain": [
       "[1, 2, 3, 1, 2, 3]"
      ]
     },
     "execution_count": 11,
     "metadata": {},
     "output_type": "execute_result"
    }
   ],
   "source": [
    "L + L "
   ]
  },
  {
   "cell_type": "markdown",
   "id": "a3f7eed1",
   "metadata": {},
   "source": [
    "### ndarray : 다차원 배열 객체 \n"
   ]
  },
  {
   "cell_type": "code",
   "execution_count": 11,
   "id": "352b81ae",
   "metadata": {},
   "outputs": [
    {
     "data": {
      "text/plain": [
       "array([[ 0.92232193, -1.42785941,  1.90692312],\n",
       "       [ 0.74244544,  0.16978314, -0.37038063]])"
      ]
     },
     "execution_count": 11,
     "metadata": {},
     "output_type": "execute_result"
    }
   ],
   "source": [
    "##numpy 패키지를 임포트하여 임의의 값이 들어 있는 배열 생성 \n",
    "\n",
    "import numpy as np \n",
    "\n",
    "data = np.random.randn(2, 3)\n",
    "\n",
    "data\n"
   ]
  },
  {
   "cell_type": "code",
   "execution_count": 13,
   "id": "f19a0f3d",
   "metadata": {},
   "outputs": [
    {
     "data": {
      "text/plain": [
       "array([[ 1.84464385, -2.85571883,  3.81384625],\n",
       "       [ 1.48489088,  0.33956627, -0.74076126]])"
      ]
     },
     "execution_count": 13,
     "metadata": {},
     "output_type": "execute_result"
    }
   ],
   "source": [
    "data * 10 \n"
   ]
  },
  {
   "cell_type": "code",
   "execution_count": 14,
   "id": "e7a05ce9",
   "metadata": {},
   "outputs": [
    {
     "data": {
      "text/plain": [
       "array([[ 1.84464385, -2.85571883,  3.81384625],\n",
       "       [ 1.48489088,  0.33956627, -0.74076126]])"
      ]
     },
     "execution_count": 14,
     "metadata": {},
     "output_type": "execute_result"
    }
   ],
   "source": [
    "data + data"
   ]
  },
  {
   "cell_type": "code",
   "execution_count": 15,
   "id": "5c6189c8",
   "metadata": {},
   "outputs": [
    {
     "data": {
      "text/plain": [
       "(2, 3)"
      ]
     },
     "execution_count": 15,
     "metadata": {},
     "output_type": "execute_result"
    }
   ],
   "source": [
    "data.shape"
   ]
  },
  {
   "cell_type": "markdown",
   "id": "3630670b",
   "metadata": {},
   "source": [
    "### ndarray 생성하기"
   ]
  },
  {
   "cell_type": "code",
   "execution_count": 19,
   "id": "1e78d290",
   "metadata": {},
   "outputs": [
    {
     "data": {
      "text/plain": [
       "array([ 5. ,  6.5,  7. ,  9. , 10. ])"
      ]
     },
     "execution_count": 19,
     "metadata": {},
     "output_type": "execute_result"
    }
   ],
   "source": [
    "# array 함수를 이용하면 손쉽게 배열을 생성할 수 있다. 순차적인 객체를 넘겨받고, 넘겨받은 데이터가 들어 있는 새로운 NumPy 배열을 생성\n",
    "# array 함수는 리스트와 튜플 등을 ndarray 형태로 바꿈 \n",
    "# 파이썬 list를 array로 변경하기\n",
    "\n",
    "data1 = [5, 6.5, 7, 9, 10]   #1차원 벡터 \n",
    "arr1 = np.array(data1)\n",
    "\n",
    "arr1 "
   ]
  },
  {
   "cell_type": "code",
   "execution_count": 24,
   "id": "997b2e9f",
   "metadata": {},
   "outputs": [
    {
     "data": {
      "text/plain": [
       "array([[1, 2, 3, 4],\n",
       "       [5, 6, 7, 8]])"
      ]
     },
     "execution_count": 24,
     "metadata": {},
     "output_type": "execute_result"
    }
   ],
   "source": [
    "# 같은 길이를 가지는 리스트를 내포하고 있는 데이터는 다차원 배열로 전환 가능\n",
    "\n",
    "data2 = [[1, 2, 3, 4],[5, 6, 7, 8]] #2차원 행렬\n",
    "\n",
    "arr2 = np.array(data2)\n",
    "\n",
    "arr2"
   ]
  },
  {
   "cell_type": "code",
   "execution_count": 27,
   "id": "44b5b437",
   "metadata": {},
   "outputs": [
    {
     "data": {
      "text/plain": [
       "2"
      ]
     },
     "execution_count": 27,
     "metadata": {},
     "output_type": "execute_result"
    }
   ],
   "source": [
    "# ndim과 shape 속성을 활용해서 차원을 확인할 수 있음\n",
    "\n",
    "arr2.ndim\n"
   ]
  },
  {
   "cell_type": "code",
   "execution_count": 28,
   "id": "486c1513",
   "metadata": {},
   "outputs": [
    {
     "data": {
      "text/plain": [
       "(2, 4)"
      ]
     },
     "execution_count": 28,
     "metadata": {},
     "output_type": "execute_result"
    }
   ],
   "source": [
    "arr2.shape"
   ]
  },
  {
   "cell_type": "code",
   "execution_count": 31,
   "id": "6d206264",
   "metadata": {},
   "outputs": [
    {
     "data": {
      "text/plain": [
       "array([0., 0., 0., 0., 0., 0., 0., 0., 0., 0.])"
      ]
     },
     "execution_count": 31,
     "metadata": {},
     "output_type": "execute_result"
    }
   ],
   "source": [
    "# np.array는 새로운 배열을 생성하기 위한 여러 함수를 갖고 있다. zeros 함수는 주어진 길이나 모양에 각각 0과 1이 들어 있는 배열을 생성.\n",
    "\n",
    "np.zeros(5)\n"
   ]
  },
  {
   "cell_type": "code",
   "execution_count": 32,
   "id": "c7b0988c",
   "metadata": {},
   "outputs": [
    {
     "data": {
      "text/plain": [
       "array([[0., 0., 0., 0., 0.],\n",
       "       [0., 0., 0., 0., 0.],\n",
       "       [0., 0., 0., 0., 0.]])"
      ]
     },
     "execution_count": 32,
     "metadata": {},
     "output_type": "execute_result"
    }
   ],
   "source": [
    "np.zeros((3,5))"
   ]
  },
  {
   "cell_type": "code",
   "execution_count": 33,
   "id": "c8f11dfe",
   "metadata": {},
   "outputs": [
    {
     "data": {
      "text/plain": [
       "array([[[0., 0.],\n",
       "        [0., 0.],\n",
       "        [0., 0.]],\n",
       "\n",
       "       [[0., 0.],\n",
       "        [0., 0.],\n",
       "        [0., 0.]]])"
      ]
     },
     "execution_count": 33,
     "metadata": {},
     "output_type": "execute_result"
    }
   ],
   "source": [
    "np.zeros((2, 3, 2))"
   ]
  },
  {
   "cell_type": "code",
   "execution_count": 35,
   "id": "cc5921a8",
   "metadata": {},
   "outputs": [
    {
     "data": {
      "text/plain": [
       "array([ 0,  1,  2,  3,  4,  5,  6,  7,  8,  9, 10, 11, 12, 13, 14])"
      ]
     },
     "execution_count": 35,
     "metadata": {},
     "output_type": "execute_result"
    }
   ],
   "source": [
    "np.arange(15)"
   ]
  },
  {
   "cell_type": "markdown",
   "id": "15476b05",
   "metadata": {},
   "source": [
    "## 2. 인덱싱과 슬라이싱"
   ]
  },
  {
   "cell_type": "code",
   "execution_count": 84,
   "id": "2c5fbb4d",
   "metadata": {},
   "outputs": [
    {
     "data": {
      "text/plain": [
       "2"
      ]
     },
     "execution_count": 84,
     "metadata": {},
     "output_type": "execute_result"
    }
   ],
   "source": [
    "data = np.array([1, 2, 3])\n",
    "\n",
    "data[1]\n"
   ]
  },
  {
   "cell_type": "code",
   "execution_count": 85,
   "id": "fc130e4f",
   "metadata": {},
   "outputs": [
    {
     "data": {
      "text/plain": [
       "array([1, 2])"
      ]
     },
     "execution_count": 85,
     "metadata": {},
     "output_type": "execute_result"
    }
   ],
   "source": [
    "data[0:2]"
   ]
  },
  {
   "cell_type": "code",
   "execution_count": 86,
   "id": "e001edc2",
   "metadata": {},
   "outputs": [
    {
     "data": {
      "text/plain": [
       "array([2, 3])"
      ]
     },
     "execution_count": 86,
     "metadata": {},
     "output_type": "execute_result"
    }
   ],
   "source": [
    "data[1:]"
   ]
  },
  {
   "cell_type": "code",
   "execution_count": 87,
   "id": "90f438bc",
   "metadata": {},
   "outputs": [
    {
     "data": {
      "text/plain": [
       "array([2, 3])"
      ]
     },
     "execution_count": 87,
     "metadata": {},
     "output_type": "execute_result"
    }
   ],
   "source": [
    "data[-2:]"
   ]
  },
  {
   "cell_type": "code",
   "execution_count": 70,
   "id": "eb10356e",
   "metadata": {},
   "outputs": [
    {
     "data": {
      "text/plain": [
       "array([0, 1, 2, 3, 4, 5, 6, 7, 8, 9])"
      ]
     },
     "execution_count": 70,
     "metadata": {},
     "output_type": "execute_result"
    }
   ],
   "source": [
    "arr = np.arange(10)\n",
    "\n",
    "arr"
   ]
  },
  {
   "cell_type": "code",
   "execution_count": 71,
   "id": "8ba3d301",
   "metadata": {},
   "outputs": [
    {
     "data": {
      "text/plain": [
       "5"
      ]
     },
     "execution_count": 71,
     "metadata": {},
     "output_type": "execute_result"
    }
   ],
   "source": [
    "arr[5] "
   ]
  },
  {
   "cell_type": "code",
   "execution_count": 72,
   "id": "315033a2",
   "metadata": {},
   "outputs": [
    {
     "data": {
      "text/plain": [
       "array([5, 6, 7])"
      ]
     },
     "execution_count": 72,
     "metadata": {},
     "output_type": "execute_result"
    }
   ],
   "source": [
    "arr[5:8]"
   ]
  },
  {
   "cell_type": "code",
   "execution_count": 73,
   "id": "38493d98",
   "metadata": {},
   "outputs": [
    {
     "data": {
      "text/plain": [
       "array([ 0,  1,  2,  3,  4, 12, 12, 12,  8,  9])"
      ]
     },
     "execution_count": 73,
     "metadata": {},
     "output_type": "execute_result"
    }
   ],
   "source": [
    "arr[5:8] = 12 \n",
    "arr"
   ]
  },
  {
   "cell_type": "code",
   "execution_count": 74,
   "id": "e0839b5a",
   "metadata": {},
   "outputs": [
    {
     "data": {
      "text/plain": [
       "array([12, 12, 12])"
      ]
     },
     "execution_count": 74,
     "metadata": {},
     "output_type": "execute_result"
    }
   ],
   "source": [
    "arr_slice = arr[5:8]\n",
    "arr_slice"
   ]
  },
  {
   "cell_type": "code",
   "execution_count": 75,
   "id": "77726ad6",
   "metadata": {},
   "outputs": [
    {
     "data": {
      "text/plain": [
       "array([   0,    1,    2,    3,    4,   12,   12, 5555,    8,    9])"
      ]
     },
     "execution_count": 75,
     "metadata": {},
     "output_type": "execute_result"
    }
   ],
   "source": [
    "arr_slice[2]= 5555\n",
    "arr"
   ]
  },
  {
   "cell_type": "code",
   "execution_count": 76,
   "id": "31a250a2",
   "metadata": {},
   "outputs": [
    {
     "data": {
      "text/plain": [
       "array([7, 8, 9])"
      ]
     },
     "execution_count": 76,
     "metadata": {},
     "output_type": "execute_result"
    }
   ],
   "source": [
    "# 다차원 배열 \n",
    "\n",
    "arr2d = np.array([[1, 2, 3], [4, 5, 6], [7, 8, 9]])\n",
    "\n",
    "arr2d[2]"
   ]
  },
  {
   "cell_type": "code",
   "execution_count": 77,
   "id": "42984a51",
   "metadata": {},
   "outputs": [
    {
     "data": {
      "text/plain": [
       "3"
      ]
     },
     "execution_count": 77,
     "metadata": {},
     "output_type": "execute_result"
    }
   ],
   "source": [
    "arr2d[0][2]"
   ]
  },
  {
   "cell_type": "code",
   "execution_count": 91,
   "id": "4399b2ee",
   "metadata": {},
   "outputs": [
    {
     "name": "stdout",
     "output_type": "stream",
     "text": [
      "2\n",
      "2\n"
     ]
    }
   ],
   "source": [
    "# n차원 배열의 요소는 각 차원에서의 위치를 요소로 하는 튜플로 접근할 수 있다. \n",
    "# 예를 들어, (n, m) 크기의 ndarray X에서 i번째 행, j번째 열은 x[i, j]로 접근할 수 있다.\n",
    "# 각 차원에서 인덱싱할 인덱스는 콤마로 구분한다.\n",
    "\n",
    "import numpy as np \n",
    "X = [[1, 2], [3, 4]]\n",
    "print(X[0][1])\n",
    "\n",
    "X = np.array(X)\n",
    "print(X[0, 1])  # 0번째 행, 1번째 열"
   ]
  },
  {
   "cell_type": "markdown",
   "id": "2fe07d86",
   "metadata": {},
   "source": [
    "## 3. 차원(Dimension)과 형태(Shape)\n",
    "\n",
    "### 차원: 1, 2, 3차원, n차원\n",
    "### 형태: 차원의 요소의 수 \n",
    "\n",
    "#### 1차원 Shape (x, )  벡터 vector  [1차원 텐서]\n",
    "#### 2차원 Shape (x, y), 행렬 matrix  [2차원 텐서]\n",
    "#### 3차원 Shape (x, y, z), (면, 행, 열)  텐서 tensor [3차원 텐서]\n",
    "\n",
    "....\n",
    "\n",
    "####  n차원 Shape: (x, y, z....)"
   ]
  },
  {
   "cell_type": "code",
   "execution_count": 17,
   "id": "67b3f495",
   "metadata": {},
   "outputs": [
    {
     "name": "stdout",
     "output_type": "stream",
     "text": [
      "(3,)\n",
      "(2, 3)\n",
      "(2, 2, 2)\n"
     ]
    }
   ],
   "source": [
    "arr1 = np.array([1, 2, 3])    #1차원 \n",
    "arr2 = np.array([[1, 2, 3], [4, 5, 6]])  # 2차원 \n",
    "arr3 = np.array([[[1, 2], [3, 4]],[[5, 6], [7, 8]]])  #3차원\n",
    "\n",
    "print(arr1.shape)  #크기가 3인 벡터 \n",
    "print(arr2.shape)  #크기가 (2 x 3)인 행렬\n",
    "print(arr3.shape)  # 크기가 (2 x 2 x 2)인 텐서"
   ]
  },
  {
   "cell_type": "code",
   "execution_count": 95,
   "id": "cf23f3f8",
   "metadata": {},
   "outputs": [
    {
     "data": {
      "text/plain": [
       "array([1, 2, 3, 4])"
      ]
     },
     "execution_count": 95,
     "metadata": {},
     "output_type": "execute_result"
    }
   ],
   "source": [
    "# 1차원 배열 \n",
    "import numpy as np\n",
    "data1 = [1, 2, 3, 4]  # 크기가 4인 벡터 \n",
    "arr1 = np.array(data1)\n",
    "arr1"
   ]
  },
  {
   "cell_type": "code",
   "execution_count": 94,
   "id": "b42000b3",
   "metadata": {},
   "outputs": [
    {
     "data": {
      "text/plain": [
       "array([[ 1,  2,  3,  4],\n",
       "       [ 5,  6,  7,  8],\n",
       "       [ 9, 10, 11, 12]])"
      ]
     },
     "execution_count": 94,
     "metadata": {},
     "output_type": "execute_result"
    }
   ],
   "source": [
    "#2차원 배열\n",
    "data2 = [[1, 2, 3, 4], [5, 6, 7, 8], [9, 10, 11, 12]]   # (3*4) 행렬\n",
    "arr2 = np.array(data2)\n",
    "arr2        "
   ]
  },
  {
   "cell_type": "code",
   "execution_count": 102,
   "id": "5b81cc15",
   "metadata": {},
   "outputs": [
    {
     "data": {
      "text/plain": [
       "array([[[1, 2, 3, 4],\n",
       "        [5, 6, 7, 8]],\n",
       "\n",
       "       [[3, 4, 5, 6],\n",
       "        [4, 5, 6, 7]]])"
      ]
     },
     "execution_count": 102,
     "metadata": {},
     "output_type": "execute_result"
    }
   ],
   "source": [
    "# 3 차원 배열의 Shape : (면,행,열)\n",
    "data3 = [[1, 2, 3, 4], [5, 6, 7, 8]],[[3, 4, 5, 6],[4, 5, 6, 7]]\n",
    "arr3  = np.array(data3)\n",
    "arr3"
   ]
  },
  {
   "cell_type": "code",
   "execution_count": 14,
   "id": "12a0c67f",
   "metadata": {},
   "outputs": [
    {
     "data": {
      "text/plain": [
       "1"
      ]
     },
     "execution_count": 14,
     "metadata": {},
     "output_type": "execute_result"
    }
   ],
   "source": [
    "#차원(dimension) 확인\n",
    "arr1.ndim"
   ]
  },
  {
   "cell_type": "code",
   "execution_count": 15,
   "id": "4ddf87c1",
   "metadata": {},
   "outputs": [
    {
     "data": {
      "text/plain": [
       "2"
      ]
     },
     "execution_count": 15,
     "metadata": {},
     "output_type": "execute_result"
    }
   ],
   "source": [
    "arr2.ndim"
   ]
  },
  {
   "cell_type": "code",
   "execution_count": 18,
   "id": "bbeabc42",
   "metadata": {},
   "outputs": [
    {
     "data": {
      "text/plain": [
       "(3,)"
      ]
     },
     "execution_count": 18,
     "metadata": {},
     "output_type": "execute_result"
    }
   ],
   "source": [
    "# 형태(shape) 확인\n",
    "arr1.shape"
   ]
  },
  {
   "cell_type": "code",
   "execution_count": 19,
   "id": "3c808040",
   "metadata": {},
   "outputs": [
    {
     "data": {
      "text/plain": [
       "(2, 3)"
      ]
     },
     "execution_count": 19,
     "metadata": {},
     "output_type": "execute_result"
    }
   ],
   "source": [
    "arr2.shape"
   ]
  },
  {
   "cell_type": "code",
   "execution_count": 23,
   "id": "68577d39",
   "metadata": {},
   "outputs": [
    {
     "name": "stdout",
     "output_type": "stream",
     "text": [
      "[ 0  1  2  3  4  5  6  7  8  9 10 11] <class 'numpy.ndarray'>\n",
      "(12,)\n",
      "<class 'tuple'>\n",
      "[2 3 4 5 6 7 8 9] <class 'numpy.ndarray'>\n",
      "(8,)\n",
      "[ 0  2  4  6  8 10 12 14] <class 'numpy.ndarray'>\n",
      "(8,)\n"
     ]
    }
   ],
   "source": [
    "# 1 차원 배열의 Shape : (x,)\n",
    "# np.arange(start,end+1,step)\n",
    "a = np.arange(12)\n",
    "print(a, type(a))\n",
    "print(a.shape)    # (12,)\n",
    "t = a.shape\n",
    "print(type(t))    # <class 'tuple'>\n",
    "\n",
    "a2 = np.arange(2,10)\n",
    "print(a2,type(a2))\n",
    "print(a2.shape)    # (8,)\n",
    "\n",
    "a3 = np.arange(0,16,2)\n",
    "print(a3,type(a3))\n",
    "print(a3.shape)    # (8,)"
   ]
  },
  {
   "cell_type": "code",
   "execution_count": 66,
   "id": "c7c28ed7",
   "metadata": {},
   "outputs": [
    {
     "name": "stdout",
     "output_type": "stream",
     "text": [
      "[ 0  1  2  3  4  5  6  7  8  9 10 11] (12,)\n",
      "0 1 2 11 10\n",
      "[2 3 4 5 6 7] [0] [ 0  1  2  3  4  5  6  7  8  9 10 11] [ 0  1  2  3  4  5  6  7  8  9 10]\n",
      "[ 0  2  4  6  8 10] [11 10  9  8  7  6  5  4  3  2  1  0]\n",
      "[10  1  2  3  4  5  6  7  8  9 10 11]\n"
     ]
    }
   ],
   "source": [
    "# 1차원 배열의 인덱싱과 슬라이싱 : list와 동일한 방법\n",
    "d = np.arange(12)\n",
    "print(d,d.shape)\n",
    "\n",
    "print(d[0],d[1],d[2],d[-1],d[-2])\n",
    "print(d[2:8],d[0:1],d[:],d[:-1])\n",
    "print(d[::2],d[::-1])\n",
    "\n",
    "d[0] = 10   # list 처럼 요소 변경이 가능\n",
    "print(d)"
   ]
  },
  {
   "cell_type": "code",
   "execution_count": 24,
   "id": "a980efa9",
   "metadata": {},
   "outputs": [
    {
     "name": "stdout",
     "output_type": "stream",
     "text": [
      "[[0 1 2]\n",
      " [0 1 2]]\n",
      "(2, 3)\n",
      "2 3\n"
     ]
    }
   ],
   "source": [
    "# 2 차원 배열의 Shape : 행(row,가로,수직,axis=0) 과 열(column,세로,수평,axis=1) ==> 필수암기\n",
    "# m = np.array([np.arange(3),np.arange(3)])\n",
    "m = np.array([[0,1,2],\n",
    "              [0,1,2]])\n",
    "print(m)\n",
    "print(m.shape)  # (2,3)\n",
    "print(m.shape[0],m.shape[1])"
   ]
  },
  {
   "cell_type": "code",
   "execution_count": 67,
   "id": "2cc1ff3d",
   "metadata": {},
   "outputs": [
    {
     "name": "stdout",
     "output_type": "stream",
     "text": [
      "[[ 0  1  2  3]\n",
      " [ 4  5  6  7]\n",
      " [ 8  9 10 11]] (3, 4)\n",
      "0\n",
      "0\n",
      "9\n",
      "[0 1 2 3]\n",
      "[0 1 2 3]\n",
      "[[ 0  1  2]\n",
      " [ 4  5  6]\n",
      " [ 8  9 10]]\n",
      "[[ 0  2]\n",
      " [ 8 10]]\n",
      "[[20 20 20 20]\n",
      " [ 4  5  6  7]\n",
      " [ 8  9 10 11]]\n",
      "[[-1 -1 -1 -1]\n",
      " [-1 -1 -1 -1]\n",
      " [-1 -1 -1 -1]]\n",
      "[[30 30]\n",
      " [30 30]]\n"
     ]
    }
   ],
   "source": [
    "# 2차원 배열의 인덱싱과 슬라이싱 \n",
    "# data[행,열]\n",
    "d = np.arange(12).reshape(3,4)\n",
    "print(d,d.shape)\n",
    "\n",
    "# 인덱싱\n",
    "print(d[0][0]) # old style, 0\n",
    "print(d[0,0])  # 0\n",
    "print(d[2,1])  # 9\n",
    "\n",
    "# 슬라이싱\n",
    "print(d[0])    # [0 1 2 3]\n",
    "print(d[0,:])  # [0 1 2 3]\n",
    "\n",
    "print(d[:,:-1])   # (3,3), 마지막 열을 제외\n",
    "print(d[::2,::2]) # (2,2)\n",
    "\n",
    "d[0] = 20         # 0번 행의 모든 요소를 20으로 변경\n",
    "print(d)\n",
    "d[:,:] = -1       # 전체 요소를 한번에 변경할 수 있다\n",
    "print(d)\n",
    "\n",
    "d[::2,::3] = 30\n",
    "print(d[::2,::3])"
   ]
  },
  {
   "cell_type": "code",
   "execution_count": 25,
   "id": "921ed4a5",
   "metadata": {},
   "outputs": [
    {
     "name": "stdout",
     "output_type": "stream",
     "text": [
      "[[[0 1 2]\n",
      "  [3 4 5]]\n",
      "\n",
      " [[0 1 2]\n",
      "  [3 4 5]]] 3\n",
      "(2, 2, 3)\n",
      "2 2 3\n",
      "[[[0 1]\n",
      "  [2 3]]\n",
      "\n",
      " [[4 5]\n",
      "  [0 1]]\n",
      "\n",
      " [[2 3]\n",
      "  [4 5]]] 3\n",
      "(3, 2, 2)\n",
      "(3, 2, 2)\n"
     ]
    }
   ],
   "source": [
    "# 3 차원 배열의 Shape : (면,행,열)\n",
    "m = np.array([[[0,1,2],\n",
    "               [3,4,5]],\n",
    "              [[0,1,2],\n",
    "               [3,4,5]]])\n",
    "print(m,m.ndim)  # 3차원\n",
    "print(m.shape)   # (2,2,3)\n",
    "print(m.shape[0],m.shape[1],m.shape[2])\n",
    "\n",
    "m2 = np.array([[[0, 1],\n",
    "                [2, 3]],\n",
    "               [[4, 5],\n",
    "                [0, 1]],\n",
    "               [[2, 3],\n",
    "                [4, 5]]])\n",
    "print(m2,m2.ndim) # 3차원 \n",
    "print(m2.shape)   # (3,2,2)\n",
    "\n",
    "m3 = np.array([[[0, 1],\n",
    "                [2, 3],\n",
    "                [4, 5]],\n",
    "               [[0, 1],\n",
    "                [2, 3],\n",
    "                [4, 5]]])\n",
    "print(m2.shape) # (2,3,2)"
   ]
  },
  {
   "cell_type": "code",
   "execution_count": 68,
   "id": "d2b39761",
   "metadata": {},
   "outputs": [
    {
     "name": "stdout",
     "output_type": "stream",
     "text": [
      "[[[ 0  1  2]\n",
      "  [ 3  4  5]]\n",
      "\n",
      " [[ 6  7  8]\n",
      "  [ 9 10 11]]] (2, 2, 3)\n",
      "0\n",
      "0\n",
      "5\n",
      "[[[0 1]]\n",
      "\n",
      " [[6 7]]]\n",
      "------------------------------\n",
      "[[[ 4  5]]\n",
      "\n",
      " [[10 11]]]\n",
      "------------------------------\n",
      "[[ 2  5]\n",
      " [ 8 11]]\n",
      "------------------------------\n",
      "[ 5 11]\n",
      "11\n"
     ]
    }
   ],
   "source": [
    "# 3차원 배열의 인덱싱과 슬라이싱 \n",
    "# data[면,행,열]\n",
    "d = np.arange(12).reshape(2,2,3)\n",
    "print(d,d.shape)\n",
    "\n",
    "# 인덱싱\n",
    "print(d[0][0][0])  # old style\n",
    "print(d[0,0,0])    # 0\n",
    "print(d[0,1,2])    # 5\n",
    "\n",
    "# 슬라이싱\n",
    "print(d[:,:-1,:-1]) # (2, 1, 2)\n",
    "print('-'*30)\n",
    "print(d[:,1:,1:])   # (2, 1, 2) , 3-D\n",
    "print('-'*30)\n",
    "print(d[:,:,-1])    # (2, 2) , matrix , 2차원으로 줄어든다\n",
    "print('-'*30)\n",
    "print(d[:,-1,-1])   # (2,), vector , 1차원으로 줄어든다\n",
    "print(d[-1,-1,-1])  # scalar, 11"
   ]
  },
  {
   "cell_type": "markdown",
   "id": "96e8fc29",
   "metadata": {},
   "source": [
    "## 4. 배열의 연산: 유니버셜 함수와 브로드캐스팅 \n"
   ]
  },
  {
   "cell_type": "markdown",
   "id": "a9beaeb4",
   "metadata": {},
   "source": [
    "#### 넘파이의 주요한 장점은 배열 간 매우 빠른 연산. 배열 간 연산이란 크기가 같은 두 배열에 대해 같은 위치에 있는 요소끼리 수행하는 연산을 의미\n",
    "#### 유니버셜 함수: 파이썬에서 두 숫자형 변수에 대해 정의돈 연산자를 ndarray로 정의한 것. 즉, 유니버셜 함수는 벡터 및 행령 간 연산을 수행하는 연산 함수, 반복문보다 배열 간 연산을 훨신 빠르고 쉽게 구현할 수 있음\n",
    "#### 브로드캐스팅: 크기가 서로 다른 배열 간 연산이 가능"
   ]
  },
  {
   "cell_type": "code",
   "execution_count": 48,
   "id": "92db441a",
   "metadata": {},
   "outputs": [
    {
     "name": "stdout",
     "output_type": "stream",
     "text": [
      "[[ 0  1  2  3]\n",
      " [ 4  5  6  7]\n",
      " [ 8  9 10 11]\n",
      " [12 13 14 15]] (4, 4)\n",
      "[[10 11 12 13]\n",
      " [14 15 16 17]\n",
      " [18 19 20 21]\n",
      " [22 23 24 25]]\n",
      "[[-10  -9  -8  -7]\n",
      " [ -6  -5  -4  -3]\n",
      " [ -2  -1   0   1]\n",
      " [  2   3   4   5]]\n",
      "[[  0  10  20  30]\n",
      " [ 40  50  60  70]\n",
      " [ 80  90 100 110]\n",
      " [120 130 140 150]]\n",
      "[[0.  0.1 0.2 0.3]\n",
      " [0.4 0.5 0.6 0.7]\n",
      " [0.8 0.9 1.  1.1]\n",
      " [1.2 1.3 1.4 1.5]]\n",
      "------------------------------\n",
      "[[10 11 12 13]\n",
      " [14 15 16 17]\n",
      " [18 19 20 21]\n",
      " [22 23 24 25]]\n",
      "[[10  9  8  7]\n",
      " [ 6  5  4  3]\n",
      " [ 2  1  0 -1]\n",
      " [-2 -3 -4 -5]]\n",
      "[[  0  10  20  30]\n",
      " [ 40  50  60  70]\n",
      " [ 80  90 100 110]\n",
      " [120 130 140 150]]\n",
      "[[        inf 10.          5.          3.33333333]\n",
      " [ 2.5         2.          1.66666667  1.42857143]\n",
      " [ 1.25        1.11111111  1.          0.90909091]\n",
      " [ 0.83333333  0.76923077  0.71428571  0.66666667]]\n",
      "[[10.          5.          3.33333333  2.5       ]\n",
      " [ 2.          1.66666667  1.42857143  1.25      ]\n",
      " [ 1.11111111  1.          0.90909091  0.83333333]\n",
      " [ 0.76923077  0.71428571  0.66666667  0.625     ]]\n"
     ]
    },
    {
     "name": "stderr",
     "output_type": "stream",
     "text": [
      "C:\\Users\\hyeyo\\AppData\\Local\\Temp/ipykernel_20692/2370739679.py:12: RuntimeWarning: divide by zero encountered in true_divide\n",
      "  print(10 / A)\n"
     ]
    }
   ],
   "source": [
    "A = np.arange(16).reshape(4,4)\n",
    "print(A,A.shape)\n",
    "\n",
    "print(A + 10)\n",
    "print(A - 10)\n",
    "print(A * 10)\n",
    "print(A / 10)\n",
    "print('-'*30)\n",
    "print(10 + A)\n",
    "print(10 - A)\n",
    "print(10 * A)\n",
    "print(10 / A)\n",
    "print(10 / (A + 1))"
   ]
  },
  {
   "cell_type": "code",
   "execution_count": 108,
   "id": "fe00ab6d",
   "metadata": {},
   "outputs": [
    {
     "name": "stdout",
     "output_type": "stream",
     "text": [
      "x   = [0 1 2 3]\n",
      "y   = [ 1.  4.  7. 10.]\n",
      "x + 2 = [2 3 4 5]\n",
      "x - 2 = [-2 -1  0  1]\n",
      "x + y = [ 1.  5.  9. 13.]\n",
      "x * 2 = [0 2 4 6]\n",
      "x * y = [ 0.  4. 14. 30.]\n",
      "x / y = [0.         0.25       0.28571429 0.3       ]\n"
     ]
    }
   ],
   "source": [
    "# 유니버셜 함수를 사용한 배열 산술 연산\n",
    "\n",
    "x = np.arange(4)\n",
    "y = np.linspace(1, 10, 4)\n",
    "print(\"x   =\", x)\n",
    "print(\"y   =\", y)\n",
    "print(\"x + 2 =\", x + 2)\n",
    "print(\"x - 2 =\", x - 2)\n",
    "print(\"x + y =\", x + y)\n",
    "print(\"x * 2 =\", x * 2)\n",
    "print(\"x * y =\", x * y)\n",
    "print(\"x / y =\", x / y)"
   ]
  },
  {
   "cell_type": "code",
   "execution_count": 39,
   "id": "e2a17f8d",
   "metadata": {
    "scrolled": true
   },
   "outputs": [
    {
     "data": {
      "text/plain": [
       "array([[1., 2., 3.],\n",
       "       [4., 5., 6.]])"
      ]
     },
     "execution_count": 39,
     "metadata": {},
     "output_type": "execute_result"
    }
   ],
   "source": [
    "import numpy as np\n",
    "arr = np.array([[1., 2., 3.], [4., 5., 6.]])\n",
    "\n",
    "arr\n"
   ]
  },
  {
   "cell_type": "code",
   "execution_count": 40,
   "id": "e588d251",
   "metadata": {},
   "outputs": [
    {
     "data": {
      "text/plain": [
       "array([[ 1.,  4.,  9.],\n",
       "       [16., 25., 36.]])"
      ]
     },
     "execution_count": 40,
     "metadata": {},
     "output_type": "execute_result"
    }
   ],
   "source": [
    "arr * arr"
   ]
  },
  {
   "cell_type": "code",
   "execution_count": 41,
   "id": "680a567a",
   "metadata": {},
   "outputs": [
    {
     "data": {
      "text/plain": [
       "array([[0., 0., 0.],\n",
       "       [0., 0., 0.]])"
      ]
     },
     "execution_count": 41,
     "metadata": {},
     "output_type": "execute_result"
    }
   ],
   "source": [
    "arr - arr"
   ]
  },
  {
   "cell_type": "code",
   "execution_count": 42,
   "id": "0f58447b",
   "metadata": {},
   "outputs": [
    {
     "data": {
      "text/plain": [
       "array([[1.        , 0.5       , 0.33333333],\n",
       "       [0.25      , 0.2       , 0.16666667]])"
      ]
     },
     "execution_count": 42,
     "metadata": {},
     "output_type": "execute_result"
    }
   ],
   "source": [
    "1/ arr"
   ]
  },
  {
   "cell_type": "code",
   "execution_count": 44,
   "id": "722c96a9",
   "metadata": {},
   "outputs": [
    {
     "data": {
      "text/plain": [
       "array([[  1.,   8.,  27.],\n",
       "       [ 64., 125., 216.]])"
      ]
     },
     "execution_count": 44,
     "metadata": {},
     "output_type": "execute_result"
    }
   ],
   "source": [
    "arr**3"
   ]
  },
  {
   "cell_type": "code",
   "execution_count": 46,
   "id": "d9f0404a",
   "metadata": {},
   "outputs": [
    {
     "data": {
      "text/plain": [
       "array([[ 0.,  4.,  1.],\n",
       "       [ 7.,  2., 12.]])"
      ]
     },
     "execution_count": 46,
     "metadata": {},
     "output_type": "execute_result"
    }
   ],
   "source": [
    "arr2 = np.array([[0., 4., 1.], [7., 2., 12.]])\n",
    "\n",
    "arr2"
   ]
  },
  {
   "cell_type": "code",
   "execution_count": 47,
   "id": "24fdd89a",
   "metadata": {},
   "outputs": [
    {
     "data": {
      "text/plain": [
       "array([[False,  True, False],\n",
       "       [ True, False,  True]])"
      ]
     },
     "execution_count": 47,
     "metadata": {},
     "output_type": "execute_result"
    }
   ],
   "source": [
    "arr2 > arr   #불리언, 참/거짓 판단 "
   ]
  },
  {
   "cell_type": "markdown",
   "id": "a59c21c0",
   "metadata": {},
   "source": [
    "### 브로드캐스팅 : 차원의 크기가 다른 배열 간의 산술연산"
   ]
  },
  {
   "cell_type": "code",
   "execution_count": 80,
   "id": "c145a0df",
   "metadata": {},
   "outputs": [
    {
     "name": "stdout",
     "output_type": "stream",
     "text": [
      "[4 5 6 7]\n"
     ]
    }
   ],
   "source": [
    "x = np.arange(4)\n",
    "print(x+4)"
   ]
  },
  {
   "cell_type": "code",
   "execution_count": 81,
   "id": "0b55e07a",
   "metadata": {},
   "outputs": [
    {
     "name": "stdout",
     "output_type": "stream",
     "text": [
      "[[0 0]\n",
      " [2 2]]\n"
     ]
    }
   ],
   "source": [
    "# 크기가 서로 다른 (2, 2)인 a와 (2, 0) b 배열 간의 연산 (b가 a의 각 행에 더해짐)\n",
    "## 브로드캐스팅에 의해 서로 다른 크기의 배열 간 연산이 가능\n",
    "\n",
    "a = np.array([[1,2], [3,4]])\n",
    "b = np.array ([-1, -2])\n",
    "print(a + b)"
   ]
  },
  {
   "cell_type": "code",
   "execution_count": 50,
   "id": "aaf8e5cb",
   "metadata": {},
   "outputs": [
    {
     "name": "stdout",
     "output_type": "stream",
     "text": [
      "[[0 1]\n",
      " [2 3]\n",
      " [4 5]]\n",
      "[[1 2]]\n",
      "------------------------------\n",
      "[[1 3]\n",
      " [3 5]\n",
      " [5 7]]\n",
      "[[-1 -1]\n",
      " [ 1  1]\n",
      " [ 3  3]]\n",
      "[[ 0  2]\n",
      " [ 2  6]\n",
      " [ 4 10]]\n",
      "[[0.  0.5]\n",
      " [2.  1.5]\n",
      " [4.  2.5]]\n",
      "------------------------------\n",
      "[[1 3]\n",
      " [3 5]\n",
      " [5 7]]\n",
      "[[ 1  1]\n",
      " [-1 -1]\n",
      " [-3 -3]]\n",
      "[[ 0  2]\n",
      " [ 2  6]\n",
      " [ 4 10]]\n",
      "[[       inf 2.        ]\n",
      " [0.5        0.66666667]\n",
      " [0.25       0.4       ]]\n"
     ]
    },
    {
     "name": "stderr",
     "output_type": "stream",
     "text": [
      "C:\\Users\\hyeyo\\AppData\\Local\\Temp/ipykernel_20692/261408139.py:15: RuntimeWarning: divide by zero encountered in true_divide\n",
      "  print(B / A)\n"
     ]
    }
   ],
   "source": [
    "A = np.arange(6).reshape(3,2)\n",
    "B = np.arange(2).reshape(1,2) + 1\n",
    "print(A)\n",
    "print(B)\n",
    "\n",
    "print('-'*30)\n",
    "print(A + B)\n",
    "print(A - B) \n",
    "print(A * B)\n",
    "print(A / B)\n",
    "print('-'*30)\n",
    "print(B + A)\n",
    "print(B - A) \n",
    "print(B * A)\n",
    "print(B / A)"
   ]
  }
 ],
 "metadata": {
  "kernelspec": {
   "display_name": "Python 3 (ipykernel)",
   "language": "python",
   "name": "python3"
  },
  "language_info": {
   "codemirror_mode": {
    "name": "ipython",
    "version": 3
   },
   "file_extension": ".py",
   "mimetype": "text/x-python",
   "name": "python",
   "nbconvert_exporter": "python",
   "pygments_lexer": "ipython3",
   "version": "3.9.7"
  }
 },
 "nbformat": 4,
 "nbformat_minor": 5
}
