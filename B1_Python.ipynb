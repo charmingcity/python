{
 "cells": [
  {
   "cell_type": "code",
   "execution_count": 6,
   "metadata": {},
   "outputs": [
    {
     "name": "stdout",
     "output_type": "stream",
     "text": [
      "Hello World\n",
      "Hi Again\n"
     ]
    }
   ],
   "source": [
    "print(\"Hello World\")\n",
    "print('Hi Again')"
   ]
  },
  {
   "cell_type": "code",
   "execution_count": 7,
   "metadata": {},
   "outputs": [
    {
     "name": "stdout",
     "output_type": "stream",
     "text": [
      "Dogs 30.0\n",
      "Cats 97\n",
      "Now something harder:\n",
      "6.75\n",
      "Is it true that 4 + 1 < 5 -7?\n",
      "False\n",
      "Is it greater or eqaul True\n"
     ]
    }
   ],
   "source": [
    "print(\"Dogs\", 25 + 30 / 6)\n",
    "print(\"Cats\", 100 - 25 * 3 % 4)\n",
    "\n",
    "print(\"Now something harder:\")\n",
    "print(3 + 2 + 1 - 5 + 4 % 2 - 1 / 4 + 6)\n",
    "\n",
    "print(\"Is it true that 4 + 1 < 5 -7?\")\n",
    "print(4 + 1 < 5 - 7)\n",
    "\n",
    "print(\"Is it greater or eqaul\", 5 >= -2)\n"
   ]
  },
  {
   "cell_type": "code",
   "execution_count": 20,
   "metadata": {},
   "outputs": [
    {
     "name": "stdout",
     "output_type": "stream",
     "text": [
      "There are 100 cars available\n",
      "There are only 30 drivers available.\n",
      "There will be 70 empty cars today.\n",
      "We need to put 3.0 passengers in each car\n"
     ]
    }
   ],
   "source": [
    "cars = 100\n",
    "drivers = 30 \n",
    "passensers = 90\n",
    "cars_not_driven = cars - drivers\n",
    "cars_driven = drivers\n",
    "average_passengers_per_car = passensers / cars_driven\n",
    "\n",
    "print(\"There are\", cars, \"cars available\")\n",
    "print(\"There are only\", drivers, \"drivers available.\")\n",
    "print(\"There will be\", cars_not_driven, \"empty cars today.\")\n",
    "print(\"We need to put\", average_passengers_per_car, \"passengers in each car\")"
   ]
  },
  {
   "cell_type": "code",
   "execution_count": 16,
   "metadata": {},
   "outputs": [
    {
     "name": "stdout",
     "output_type": "stream",
     "text": [
      "Let`s talk about Cheolmin.\n",
      "He`s got black eyes and Grey hair\n",
      "If I add 34, 172, and 78 I get 284.\n"
     ]
    }
   ],
   "source": [
    "my_name = 'Cheolmin'\n",
    "my_age = 34\n",
    "my_height = 172\n",
    "my_weight = 78 \n",
    "my_eyes = 'black'\n",
    "my_hair = 'Grey'\n",
    "\n",
    "print(\"Let`s talk about %s.\" % my_name)\n",
    "print(\"He`s got %s eyes and %s hair\" % (my_eyes, my_hair))\n",
    "      \n",
    "print(\"If I add %d, %d, and %d I get %d.\" % (my_age,\n",
    "      my_height, my_weight, my_age + my_height + my_weight))"
   ]
  },
  {
   "cell_type": "code",
   "execution_count": 18,
   "metadata": {},
   "outputs": [
    {
     "name": "stdout",
     "output_type": "stream",
     "text": [
      "\tI`m tabbed in.\n",
      "I`m split\n",
      "on a line.\n",
      "I`m \\ a \\ cat.\n",
      "\n",
      "I`ll do a list:\n",
      "\t* Cat food\n",
      "\t* Cantip\n",
      "\t* Grass\n",
      "\n"
     ]
    }
   ],
   "source": [
    "tabby_cat = \"\\tI`m tabbed in.\"\n",
    "persian_cat = \"I`m split\\non a line.\"\n",
    "backlash_cat = \"I`m \\\\ a \\\\ cat.\"\n",
    "\n",
    "fat_cat = \"\"\"\n",
    "I`ll do a list:\n",
    "\\t* Cat food\n",
    "\\t* Cantip\\n\\t* Grass\n",
    "\"\"\"\n",
    "\n",
    "print(tabby_cat)\n",
    "print(persian_cat)\n",
    "print(backlash_cat)\n",
    "print(fat_cat)"
   ]
  },
  {
   "cell_type": "code",
   "execution_count": 2,
   "metadata": {},
   "outputs": [
    {
     "name": "stdout",
     "output_type": "stream",
     "text": [
      "356.09\n",
      "356\n",
      " 3.561e+02\n",
      "Art:   453, Price:    59.06\n"
     ]
    }
   ],
   "source": [
    "print(\"%0.2f\"% (356.08977))\n",
    "print(\"%d\"% (356.08977))\n",
    "print(\"%10.3e\"% (356.08977))\n",
    "\n",
    "print(\"Art: {a:5d}, Price: {p:8.2f}\".format(a=453, p=59.058))"
   ]
  },
  {
   "cell_type": "code",
   "execution_count": null,
   "metadata": {},
   "outputs": [
    {
     "name": "stdout",
     "output_type": "stream",
     "text": [
      "How old are you?\n"
     ]
    }
   ],
   "source": [
    "print(\"How old are you?\")\n",
    "age = input(34)\n",
    "\n",
    "height = input(\"How tall are you in cm?\", 172)\n",
    "\n",
    "print(\"So, you are %s years old and %s cm tall.\"% (age, height))"
   ]
  },
  {
   "cell_type": "code",
   "execution_count": 3,
   "metadata": {},
   "outputs": [
    {
     "name": "stdout",
     "output_type": "stream",
     "text": [
      "The script is called: C:\\ProgramData\\Anaconda3\\lib\\site-packages\\ipykernel_launcher.py\n",
      "Your first variable is: -f\n",
      "Your second variable is C:\\Users\\조철민\\AppData\\Roaming\\jupyter\\runtime\\kernel-96d289db-0eec-4e35-a180-40bc928fda62.json\n"
     ]
    }
   ],
   "source": [
    "from sys import argv\n",
    "\n",
    "script, first, second = argv\n",
    "\n",
    "print(\"The script is called:\", script)\n",
    "print(\"Your first variable is:\", first)\n",
    "print(\"Your second variable is\", second)"
   ]
  },
  {
   "cell_type": "code",
   "execution_count": 10,
   "metadata": {},
   "outputs": [],
   "source": [
    "f = open(\"myfile.txt\",\"w+\")\n",
    "f.write(\"My message\")\n",
    "f.close()"
   ]
  },
  {
   "cell_type": "code",
   "execution_count": 11,
   "metadata": {},
   "outputs": [
    {
     "name": "stdout",
     "output_type": "stream",
     "text": [
      "My message\n"
     ]
    }
   ],
   "source": [
    "path = 'myfile.txt'\n",
    "my_file = open(path,'r')\n",
    "mytext = my_file.read()\n",
    "print(mytext)"
   ]
  },
  {
   "cell_type": "code",
   "execution_count": 13,
   "metadata": {},
   "outputs": [
    {
     "name": "stdout",
     "output_type": "stream",
     "text": [
      "arg1: 'Cats', arg2: 'Dogs'\n"
     ]
    }
   ],
   "source": [
    "def print_two(arg1, arg2):\n",
    "    print(\"arg1: %r, arg2: %r\" % (arg1, arg2))\n",
    "    \n",
    "print_two(\"Cats\", \"Dogs\")"
   ]
  },
  {
   "cell_type": "code",
   "execution_count": 17,
   "metadata": {},
   "outputs": [
    {
     "name": "stdout",
     "output_type": "stream",
     "text": [
      "Area of a 13 by 17 rectangle is 221\n",
      "rect_b area 8\n"
     ]
    }
   ],
   "source": [
    "def rectangle_area(mylen, mywid):\n",
    "    myarea = mylen * mywid\n",
    "    return myarea\n",
    "\n",
    "rectangle_area(8,2)\n",
    "\n",
    "print(\"Area of a 13 by 17 rectangle is %s\" % rectangle_area(13,17))\n",
    "\n",
    "rect_b = rectangle_area(2,4)\n",
    "print(\"rect_b area\", rect_b)"
   ]
  },
  {
   "cell_type": "code",
   "execution_count": 22,
   "metadata": {},
   "outputs": [
    {
     "name": "stdout",
     "output_type": "stream",
     "text": [
      "You have 30 hot dogs\n",
      "You have 15 burgers\n",
      "\n",
      "You have 15 hot dogs\n",
      "You have 30 burgers\n",
      "\n",
      "You have 22 hot dogs\n",
      "You have 8 burgers\n",
      "\n",
      "You have 7 hot dogs\n",
      "You have 19 burgers\n",
      "\n",
      "You have 23 hot dogs\n",
      "You have 58 burgers\n",
      "\n",
      "You have 2 hot dogs\n",
      "You have 9 burgers\n",
      "\n"
     ]
    }
   ],
   "source": [
    "def hot_burgers(hot_count, burger_count):\n",
    "    print(\"You have %s hot dogs\" % hot_count)\n",
    "    print(\"You have %s burgers\" % burger_count)\n",
    "    print()\n",
    "    \n",
    "hot_burgers(30,15)\n",
    "\n",
    "hot_burgers(burger_count=30, hot_count=15)\n",
    "\n",
    "my_h = 22\n",
    "my_b = 8\n",
    "hot_burgers(my_h, my_b)\n",
    "\n",
    "hot_burgers(3+4, 6+13)\n",
    "\n",
    "hot_burgers(my_h + 1, 50+my_b)\n",
    "\n",
    "hot_burgers(burger_count = my_b + 1, hot_count = 2)"
   ]
  },
  {
   "cell_type": "code",
   "execution_count": 25,
   "metadata": {},
   "outputs": [
    {
     "name": "stdout",
     "output_type": "stream",
     "text": [
      "Area is 8 square inches\n",
      "Area is 3 square metres\n"
     ]
    }
   ],
   "source": [
    "def rect_area(length, breadth, units = 'inches'):\n",
    "    print(\"Area is %s\" % (length * breadth), \"square\", units)\n",
    "    \n",
    "rect_area(2,4)\n",
    "rect_area(1,3, 'metres')"
   ]
  },
  {
   "cell_type": "code",
   "execution_count": 27,
   "metadata": {},
   "outputs": [
    {
     "name": "stdout",
     "output_type": "stream",
     "text": [
      "ADDING 10 + 8\n",
      "MULTIPLYING 6 x 12\n",
      "Age 18 years, Height 72 inches\n",
      "ADDING 72 + 3\n",
      "MULTIPLYING 18 x 75\n",
      "what_am_i is 1350\n"
     ]
    }
   ],
   "source": [
    "def add(a,b):\n",
    "    print(\"ADDING %s + %s\" %(a,b))\n",
    "    return a + b\n",
    "\n",
    "def multiply(a, b):\n",
    "    print(\"MULTIPLYING %s x %s\" % (a,b))\n",
    "    retval = a * b\n",
    "    return retval\n",
    "\n",
    "age = add(10,8)\n",
    "height = multiply(6,12)\n",
    "\n",
    "print(\"Age %s years, Height %s inches\" % (age,height))\n",
    "\n",
    "what_am_i = multiply(age, add(height,3))\n",
    "print(\"what_am_i is %s\" % what_am_i)"
   ]
  },
  {
   "cell_type": "code",
   "execution_count": 1,
   "metadata": {},
   "outputs": [
    {
     "name": "stdout",
     "output_type": "stream",
     "text": [
      "Area is 8 square inches\n",
      "Area is 3 square metres\n"
     ]
    }
   ],
   "source": [
    "def rect_area(length, breadth, units = 'inches'):\n",
    "    print(\"Area is %s\" % (length*breadth), \"square\", units)\n",
    "    \n",
    "rect_area(2,4)\n",
    "rect_area(1,3, 'metres')"
   ]
  },
  {
   "cell_type": "code",
   "execution_count": 4,
   "metadata": {},
   "outputs": [
    {
     "name": "stdout",
     "output_type": "stream",
     "text": [
      "ADDING 10 + 8\n",
      "MULTIPLYING 6 x 12\n",
      "Age 18 years, Height 72 inches\n",
      "ADDING 72 + 3\n",
      "MULTIPLYING 18 x 75\n",
      "what_am_i is 1350\n"
     ]
    }
   ],
   "source": [
    "def add(a, b):\n",
    "    print(\"ADDING %s + %s\" % (a,b))\n",
    "    return a + b\n",
    "\n",
    "def multiply(a, b):\n",
    "    print(\"MULTIPLYING %s x %s\" % (a,b))\n",
    "    retval = a * b\n",
    "    return retval\n",
    "\n",
    "age = add(10,8)\n",
    "height = multiply(6,12)\n",
    "\n",
    "print(\"Age %s years, Height %s inches\" % (age, height))\n",
    "\n",
    "what_am_i = multiply(age, add(height, 3))\n",
    "print(\"what_am_i is %s\" % what_am_i) "
   ]
  },
  {
   "cell_type": "code",
   "execution_count": 5,
   "metadata": {},
   "outputs": [
    {
     "name": "stdout",
     "output_type": "stream",
     "text": [
      "True\n",
      "True\n",
      "False\n",
      "True\n",
      "True\n"
     ]
    }
   ],
   "source": [
    "print(True and True)\n",
    "print(False or True)\n",
    "print(2 == 1)\n",
    "print(\"test\" != \"testing\")\n",
    "print(3 == 3 and not(\"testing\" == \"tesing\" or \"Python\" == \"Fun\"))"
   ]
  },
  {
   "cell_type": "code",
   "execution_count": 13,
   "metadata": {},
   "outputs": [
    {
     "name": "stdout",
     "output_type": "stream",
     "text": [
      "Less buses than people.\n",
      "We should take the cars.\n",
      "May be could take the buses.\n"
     ]
    }
   ],
   "source": [
    "people = 30\n",
    "cars = 40\n",
    "buses = 15\n",
    "\n",
    "if buses > people:\n",
    "   print(\"More buses than people.\")\n",
    "    \n",
    "if buses < people:\n",
    "   print(\"Less buses than people.\")\n",
    "\n",
    "if cars > people:\n",
    "   print(\"We should take the cars.\")\n",
    "else:\n",
    "   print(\"We should not take the cars.\")\n",
    "\n",
    "if buses > cars: \n",
    "   print(\"That`s too many buses.\")\n",
    "elif buses < cars:\n",
    "   print(\"May be could take the buses.\")\n",
    "else:\n",
    "   print(\"We still can`t decide.\")"
   ]
  },
  {
   "cell_type": "code",
   "execution_count": 14,
   "metadata": {},
   "outputs": [
    {
     "name": "stdout",
     "output_type": "stream",
     "text": [
      "[1, 'pennies', 2, 'dimes', 3, 'quaters']\n",
      "1\n",
      "dimes\n",
      "quaters\n",
      "6\n"
     ]
    }
   ],
   "source": [
    "change = [1, 'pennies', 2, 'dimes', 3, 'quaters']\n",
    "\n",
    "print(change)\n",
    "print(change[0])\n",
    "print(change[3])\n",
    "print(change[-1])\n",
    "print(len(change))"
   ]
  },
  {
   "cell_type": "code",
   "execution_count": 7,
   "metadata": {},
   "outputs": [
    {
     "name": "stdout",
     "output_type": "stream",
     "text": [
      "apple\n",
      "pear\n",
      "orange\n",
      "\n",
      "0\n",
      "1\n",
      "2\n",
      "3\n",
      "\n",
      "1\n",
      "a\n",
      "end of list!\n",
      "\n",
      "0\n",
      "1\n",
      "2\n",
      "3\n"
     ]
    }
   ],
   "source": [
    "fruits = ['apple', 'pear', 'orange']\n",
    "for fruit in fruits:\n",
    "    print(fruit)\n",
    "print()\n",
    "\n",
    "mylist = range(0, 6)\n",
    "for i in mylist:\n",
    "    if i > 3: \n",
    "        break\n",
    "    print(i)\n",
    "print()\n",
    "\n",
    "mixlist = [1, 'a']\n",
    "for item in mixlist:\n",
    "    print(item)\n",
    "else: \n",
    "    print(\"end of list!\")\n",
    "print()\n",
    "\n",
    "for i in mylist:\n",
    "    if i > 3: \n",
    "        break \n",
    "    print(i) \n",
    "else: \n",
    "    print(\"end of list\")"
   ]
  },
  {
   "cell_type": "code",
   "execution_count": 10,
   "metadata": {},
   "outputs": [
    {
     "name": "stdout",
     "output_type": "stream",
     "text": [
      "[0]\n",
      "[0, 1]\n",
      "[0, 1, 2]\n",
      "[0, 1, 2, 3]\n",
      "[0, 1, 2, 3, 4]\n",
      "[0, 1, 2, 3, 4, 5]\n",
      "\n",
      "still running\n",
      "still running\n",
      "still running\n",
      "---end---\n"
     ]
    }
   ],
   "source": [
    "i = 0\n",
    "mylist = []\n",
    "\n",
    "while i < 6:\n",
    "     mylist.append(i)\n",
    "     print(mylist)\n",
    "     i += 1\n",
    "print()\n",
    "\n",
    "messylist = ['apple','pear', 2, 3, 4]\n",
    "curr_index = 0\n",
    "item = messylist[curr_index]\n",
    "while item != 'dog':\n",
    "      print('still running')\n",
    "      curr_index += 1\n",
    "      item = messylist[curr_index]\n",
    "      if item == 3:\n",
    "         break\n",
    "            \n",
    "print('---end---')"
   ]
  },
  {
   "cell_type": "code",
   "execution_count": 11,
   "metadata": {},
   "outputs": [
    {
     "name": "stdout",
     "output_type": "stream",
     "text": [
      "['python', 'peacock']\n",
      "['bear', 'python', 'peacock']\n",
      "['kangaroo', 'whale']\n",
      "['peacock', 'kangaroo', 'whale']\n",
      "['python', 'kangaroo']\n",
      "['bear', 'python', 'peacock', 'kangaroo', 'whale']\n",
      "['bear', 'python', 'peacock', 'kangaroo']\n",
      "['bear', 'python', 'kangaroo']\n",
      "peacock\n"
     ]
    }
   ],
   "source": [
    "animals = ['bear', 'python', 'peacock', 'kangaroo', 'whale']\n",
    "print(animals[1:3])\n",
    "print(animals[:3])\n",
    "print(animals[3:])\n",
    "print(animals[-3:])\n",
    "print(animals[1:5:2])\n",
    "print(animals)\n",
    "animals.pop()\n",
    "print(animals)\n",
    "whatami = animals.pop(2)\n",
    "print(animals)\n",
    "print(whatami)"
   ]
  },
  {
   "cell_type": "code",
   "execution_count": 12,
   "metadata": {},
   "outputs": [
    {
     "name": "stdout",
     "output_type": "stream",
     "text": [
      "['a', 'b', 'e']\n",
      "['a', 'b', 'e', 'f']\n",
      "['a', 'b', 'e', 'f', ['c', 'd']]\n",
      "['a', 'b', 'e', 'f', ['c', 'd'], 'c', 'd']\n"
     ]
    }
   ],
   "source": [
    "mylist = ['a', 'b']\n",
    "yourlist = ['c', 'd']\n",
    "\n",
    "mylist.append('e')\n",
    "print(mylist)\n",
    "\n",
    "mylist.append('f')\n",
    "print(mylist)\n",
    "\n",
    "mylist.append(yourlist)\n",
    "print(mylist)\n",
    "\n",
    "mylist.extend(yourlist)\n",
    "print(mylist)"
   ]
  },
  {
   "cell_type": "code",
   "execution_count": 13,
   "metadata": {},
   "outputs": [
    {
     "name": "stdout",
     "output_type": "stream",
     "text": [
      "['s', 'h', 'a', 'r', 'k']\n",
      "[0, 4, 16, 36, 64]\n",
      "[40, 80, 120, 80, 160, 240, 120, 240, 360]\n"
     ]
    }
   ],
   "source": [
    "shark_letters = [letter for letter in 'shark']\n",
    "print(shark_letters)\n",
    "\n",
    "number_list = [x**2 for x in range(10) if x %2 == 0]\n",
    "print(number_list)\n",
    "\n",
    "my_list = [x * y for x in [20, 40, 60] for y in [2, 4, 6]]\n",
    "print(my_list)"
   ]
  },
  {
   "cell_type": "code",
   "execution_count": 1,
   "metadata": {},
   "outputs": [
    {
     "name": "stdout",
     "output_type": "stream",
     "text": [
      "{1: 'Apple', 2: 'OnePlus'}\n",
      "\n",
      "Apple\n",
      "\n",
      "{1: 'Apple', 2: 'OnePlus', 5: 'Cat'}\n",
      "\n",
      "{1: 'Apple', 2: 'OnePlus', 5: 'Cat', 'Cat': 'Meow'}\n",
      "Meow\n"
     ]
    }
   ],
   "source": [
    "pydict = {1: 'Apple', 2: 'OnePlus'}\n",
    "\n",
    "print(pydict)\n",
    "print()\n",
    "\n",
    "print(pydict[1])\n",
    "print()\n",
    "\n",
    "pydict[5] = 'Cat'\n",
    "print(pydict)\n",
    "print()\n",
    "\n",
    "pydict['Cat'] = 'Meow' \n",
    "print(pydict)\n",
    "print(pydict['Cat'])"
   ]
  },
  {
   "cell_type": "code",
   "execution_count": 28,
   "metadata": {},
   "outputs": [
    {
     "name": "stdout",
     "output_type": "stream",
     "text": [
      "{1: 'one', 2: 'three'}\n",
      "{1: 'one', 2: 'two'}\n"
     ]
    }
   ],
   "source": [
    "d = {1: \"one\", 2: \"three\"}\n",
    "\n",
    "print(d)\n",
    "d1 = {2: \"two\"}\n",
    "\n",
    "d.update(d1)\n",
    "print(d)"
   ]
  },
  {
   "cell_type": "code",
   "execution_count": 29,
   "metadata": {},
   "outputs": [
    {
     "name": "stdout",
     "output_type": "stream",
     "text": [
      "{'key_0': 0, 'key_1': 1, 'key_2': 4}\n"
     ]
    }
   ],
   "source": [
    "myd = {'key_%s' % x: x**2 for x in range(0,3)}\n",
    "print(myd)"
   ]
  },
  {
   "cell_type": "code",
   "execution_count": null,
   "metadata": {},
   "outputs": [
    {
     "name": "stdout",
     "output_type": "stream",
     "text": [
      "> <ipython-input-43-de0e50155640>(5)my_function()\n",
      "-> result = first + 2*second\n",
      "(Pdb) l\n",
      "  1  \timport pdb\n",
      "  2  \t\n",
      "  3  \tdef my_function(first, second):\n",
      "  4  \t    pdb.set_trace()\n",
      "  5  ->\t    result = first + 2*second\n",
      "  6  \t    print(result)\n",
      "  7  \t    return result\n",
      "  8  \t\n",
      "  9  \tmy_function(2,3)\n",
      " 10  \tmyvar = my_function(13, 17)\n",
      " 11  \tprint(myvar)\n",
      "(Pdb) first\n",
      "2\n",
      "(Pdb) second\n",
      "3\n",
      "(Pdb) n\n",
      "> <ipython-input-43-de0e50155640>(6)my_function()\n",
      "-> print(result)\n",
      "(Pdb) n\n",
      "8\n",
      "> <ipython-input-43-de0e50155640>(7)my_function()\n",
      "-> return result\n",
      "(Pdb) n\n",
      "--Return--\n",
      "> <ipython-input-43-de0e50155640>(7)my_function()->8\n",
      "-> return result\n",
      "(Pdb) 1\n",
      "1\n",
      "(Pdb) 2\n",
      "2\n",
      "(Pdb) n\n",
      "--Return--\n",
      "> <ipython-input-43-de0e50155640>(9)<module>()->None\n",
      "-> my_function(2,3)\n",
      "(Pdb) s\n",
      "> c:\\programdata\\anaconda3\\lib\\site-packages\\ipython\\core\\interactiveshell.py(3334)run_code()\n",
      "-> sys.excepthook = old_excepthook\n"
     ]
    }
   ],
   "source": [
    "import pdb\n",
    "\n",
    "def my_function(first, second):\n",
    "    pdb.set_trace()\n",
    "    result = first + 2*second\n",
    "    print(result)\n",
    "    return result\n",
    "\n",
    "my_function(2,3)\n",
    "myvar = my_function(13, 17)\n",
    "print(myvar)"
   ]
  }
 ],
 "metadata": {
  "kernelspec": {
   "display_name": "Python 3",
   "language": "python",
   "name": "python3"
  },
  "language_info": {
   "codemirror_mode": {
    "name": "ipython",
    "version": 3
   },
   "file_extension": ".py",
   "mimetype": "text/x-python",
   "name": "python",
   "nbconvert_exporter": "python",
   "pygments_lexer": "ipython3",
   "version": "3.7.6"
  }
 },
 "nbformat": 4,
 "nbformat_minor": 4
}
