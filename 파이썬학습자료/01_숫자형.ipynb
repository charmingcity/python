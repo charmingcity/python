{
 "cells": [
  {
   "cell_type": "code",
   "execution_count": 1,
   "metadata": {},
   "outputs": [
    {
     "data": {
      "text/plain": [
       "'3.7.6 (default, Jan  8 2020, 20:23:39) [MSC v.1916 64 bit (AMD64)]'"
      ]
     },
     "execution_count": 1,
     "metadata": {},
     "output_type": "execute_result"
    }
   ],
   "source": [
    "# python 버전 확인 코드\n",
    "import sys\n",
    "sys.version    # shift + enter"
   ]
  },
  {
   "cell_type": "code",
   "execution_count": 2,
   "metadata": {},
   "outputs": [
    {
     "data": {
      "text/plain": [
       "30"
      ]
     },
     "execution_count": 2,
     "metadata": {},
     "output_type": "execute_result"
    }
   ],
   "source": [
    "a = 10\n",
    "b = 20\n",
    "c = a + b\n",
    "c"
   ]
  },
  {
   "cell_type": "markdown",
   "metadata": {},
   "source": [
    "### 노트북 단축키 요약\n",
    "- shift + enter : 셀 실행 후 다음 셀로 이동\n",
    "- alt + enter : 셀 실행 후 다음에 셀을 추가\n",
    "- Tab : 들여쓰기\n",
    "- shift + Tab : 들여쓰기 해제\n",
    "- ctrl + '/'  : 주석문 설정/해제  \n",
    "- ESC -> 'm'  : mark down"
   ]
  },
  {
   "cell_type": "markdown",
   "metadata": {},
   "source": [
    "### 파이썬 자료형\n",
    "#### 숫자형\n",
    "- 정수형 : int형\n"
   ]
  },
  {
   "cell_type": "code",
   "execution_count": 3,
   "metadata": {},
   "outputs": [
    {
     "name": "stdout",
     "output_type": "stream",
     "text": [
      "12345\n",
      "100\n",
      "12445\n",
      "<class 'int'>\n"
     ]
    }
   ],
   "source": [
    "a = 12345\n",
    "b = 100\n",
    "c = a + b\n",
    "\n",
    "print(a)\n",
    "print(b)\n",
    "print(c)\n",
    "print(type(a))"
   ]
  },
  {
   "cell_type": "code",
   "execution_count": 4,
   "metadata": {},
   "outputs": [
    {
     "name": "stdout",
     "output_type": "stream",
     "text": [
      "10\n",
      "0b1010\n",
      "0xa\n",
      "0o12\n",
      "<class 'int'>\n"
     ]
    }
   ],
   "source": [
    "a = 10\n",
    "print(int(a))   # 형변환\n",
    "print(bin(a))   # 2진수\n",
    "print(hex(a))   # 16진수\n",
    "print(oct(a))   # 8진수\n",
    "print(type(a))  # <class 'int'>"
   ]
  },
  {
   "cell_type": "markdown",
   "metadata": {},
   "source": [
    "- 실수형 : float형"
   ]
  },
  {
   "cell_type": "code",
   "execution_count": 5,
   "metadata": {},
   "outputs": [
    {
     "name": "stdout",
     "output_type": "stream",
     "text": [
      "10.54\n",
      "<class 'float'>\n",
      "10.0 <class 'float'>\n"
     ]
    }
   ],
   "source": [
    "f = 10.54\n",
    "print(f)\n",
    "print(type(f))   # <class 'float'>\n",
    "b = float(a)     # 형변환\n",
    "print(b,type(b)) # 10.0 <class 'float'>"
   ]
  },
  {
   "cell_type": "markdown",
   "metadata": {},
   "source": [
    "#### 객체 : 파이썬의 모든 변수,데이터 형은 객체로 관리 된다"
   ]
  },
  {
   "cell_type": "code",
   "execution_count": 6,
   "metadata": {},
   "outputs": [
    {
     "name": "stdout",
     "output_type": "stream",
     "text": [
      "0x7ffca414a530\n",
      "0x7ffca414a670\n",
      "0x7ffca414a530\n",
      "30\n",
      "0x7ffca414a670\n",
      "0x7ffca414a7b0\n"
     ]
    }
   ],
   "source": [
    "a = 30             # int형 클래스의 인스턴스 객체의 생성\n",
    "print(hex(id(a)))\n",
    "b = 40             # int형 클래스의 인스턴스 객체의 생성 \n",
    "print(hex(id(b)))\n",
    "b = a              # 참조값 변경  , 데이터의 메모리 복사가 일어나지 않는다\n",
    "print(hex(id(b)))\n",
    "print(b)\n",
    "b = 40             # 참조값 변경\n",
    "print(hex(id(b)))\n",
    "\n",
    "b = 50             # int형 클래스의 인스턴스 객체의 생성 \n",
    "print(hex(id(b)))\n",
    "\n",
    "del b              # 객체의 삭제 \n",
    "# print(hex(id(b)))  # NameError"
   ]
  },
  {
   "cell_type": "code",
   "execution_count": 30,
   "metadata": {},
   "outputs": [
    {
     "name": "stdout",
     "output_type": "stream",
     "text": [
      "3.3333333333333335 <class 'float'>\n",
      "1\n",
      "\n",
      "3\n",
      "1000\n"
     ]
    }
   ],
   "source": [
    "#### 사칙 연산 : +, - , *, /, %, //, **\n",
    "a = 10\n",
    "b = 3\n",
    "c = a + b\n",
    "c = a - b\n",
    "c = a * b\n",
    "f = a / b \n",
    "print(f,type(f))  # <class 'float'>\n",
    "\n",
    "g = a % b   # 나머지\n",
    "print(g)\n",
    "\n",
    "f2 = a // b  # 나눗셈 정수 몫 \n",
    "print(f2)\n",
    "\n",
    "h = a ** b  # 10^3\n",
    "print(h)"
   ]
  },
  {
   "cell_type": "code",
   "execution_count": 22,
   "metadata": {},
   "outputs": [
    {
     "data": {
      "text/plain": [
       "float"
      ]
     },
     "execution_count": 22,
     "metadata": {},
     "output_type": "execute_result"
    }
   ],
   "source": [
    "type(10.)"
   ]
  },
  {
   "cell_type": "markdown",
   "metadata": {},
   "source": [
    "### 표준 입출력\n",
    "#### 1. 표준 입력 : 변수 = input()"
   ]
  },
  {
   "cell_type": "code",
   "execution_count": 25,
   "metadata": {},
   "outputs": [
    {
     "name": "stdout",
     "output_type": "stream",
     "text": [
      "10\n",
      "10\n"
     ]
    },
    {
     "data": {
      "text/plain": [
       "str"
      ]
     },
     "execution_count": 25,
     "metadata": {},
     "output_type": "execute_result"
    }
   ],
   "source": [
    "a = input()  # 문자열을 반환\n",
    "print(a)\n",
    "type(a)  "
   ]
  },
  {
   "cell_type": "code",
   "execution_count": 29,
   "metadata": {},
   "outputs": [
    {
     "name": "stdout",
     "output_type": "stream",
     "text": [
      "영어점수:10\n",
      "수학점수:20\n",
      "30\n"
     ]
    }
   ],
   "source": [
    "english = input('영어점수:')\n",
    "math = input('수학점수:')\n",
    "total = int(english) + int(math)  # str형을 int형으로 형변환\n",
    "print(total)"
   ]
  },
  {
   "cell_type": "markdown",
   "metadata": {},
   "source": [
    "#### 2. 표준 출력 : print()"
   ]
  },
  {
   "cell_type": "code",
   "execution_count": 40,
   "metadata": {},
   "outputs": [
    {
     "name": "stdout",
     "output_type": "stream",
     "text": [
      "add : 9 sub : 2\n",
      "영어: 10 수학: 20 총점: 30\n",
      "\n",
      "1 2\n",
      "3 4\n"
     ]
    }
   ],
   "source": [
    "print('add :', 4 + 5,'sub :', 4 - 2)  # 쉼표(,) 를 사용하여 한칸 띄어 출력\n",
    "print('영어:',int(english),'수학:',int(math),'총점:',total)\n",
    "print()\n",
    "print(1,2) ; print(3,4) # 마지막에 자동으로 '\\n'"
   ]
  },
  {
   "cell_type": "code",
   "execution_count": 45,
   "metadata": {},
   "outputs": [
    {
     "name": "stdout",
     "output_type": "stream",
     "text": [
      "1 2 3 4\n"
     ]
    }
   ],
   "source": [
    "print(1,2,end = ' ')  # 줄바꿈 대신에 공백(space)을 사용\n",
    "print(3,4)"
   ]
  },
  {
   "cell_type": "code",
   "execution_count": 48,
   "metadata": {},
   "outputs": [
    {
     "name": "stdout",
     "output_type": "stream",
     "text": [
      "5:6:7\n"
     ]
    }
   ],
   "source": [
    "print(5,6,7,sep = ':')  # space 대신에 ':' 으로 대신"
   ]
  },
  {
   "cell_type": "markdown",
   "metadata": {},
   "source": [
    "### print formatting "
   ]
  },
  {
   "cell_type": "code",
   "execution_count": 55,
   "metadata": {},
   "outputs": [
    {
     "name": "stdout",
     "output_type": "stream",
     "text": [
      "int형:10\n",
      "flaot형:1.234000\n",
      "16진수:0xa\n",
      "문자열:Hello Python\n",
      "문자열:Hello Python int형:10\n"
     ]
    }
   ],
   "source": [
    "num_1 = 10\n",
    "num_2 = 1.234\n",
    "str_1 = 'Hello Python'\n",
    "\n",
    "print('int형:%d'%num_1)   #  %d 는  ' '밖의 %변수의 값으로 대입된다\n",
    "print('flaot형:%f'%num_2)\n",
    "print('16진수:0x%x'%num_1)\n",
    "print('문자열:%s'%str_1)\n",
    "\n",
    "print('문자열:%s int형:%d'%(str_1,num_1))"
   ]
  },
  {
   "cell_type": "code",
   "execution_count": 9,
   "metadata": {},
   "outputs": [
    {
     "name": "stdout",
     "output_type": "stream",
     "text": [
      "1.234560\n",
      "apple / 7.77\n",
      "apple       7.770\n",
      "     apple  7.770\n",
      "  apple     7.770\n",
      "apple=====  7.770\n",
      "**apple***  7.770\n"
     ]
    }
   ],
   "source": [
    "# format() 함수 사용\n",
    "\n",
    "print(format(1.23456,\"7.6f\")) # 전체 7자리, 소숫점 6자리\n",
    "\n",
    "\n",
    "# 추천 방법\n",
    "print('{0} / {1}'.format('apple',7.77))  # 0은 첫번째 value, 1은 두번째 value\n",
    "\n",
    "print('{0:<10}{1:7.3f}'.format('apple',7.77))  # 10 자리 왼쪽으로 정렬\n",
    "print('{0:>10}{1:7.3f}'.format('apple',7.77))  # 10 자리 오른쪽으로 정렬\n",
    "print('{0:^10}{1:7.3f}'.format('apple',7.77))  # 10 자리 가운데로 정렬\n",
    "\n",
    "print('{0:=<10}{1:7.3f}'.format('apple',7.77))  # 빈칸을 '=' 기호로 채움\n",
    "print('{0:*^10}{1:7.3f}'.format('apple',7.77))  # 빈칸을 '*' 기호로 채움"
   ]
  },
  {
   "cell_type": "code",
   "execution_count": 15,
   "metadata": {},
   "outputs": [
    {
     "name": "stdout",
     "output_type": "stream",
     "text": [
      "************************1번************************\n",
      "========================2번========================\n"
     ]
    }
   ],
   "source": [
    "print('{0:*^50}'.format('1번'))\n",
    "\n",
    "print('{0:=^50}'.format('2번'))"
   ]
  },
  {
   "cell_type": "markdown",
   "metadata": {},
   "source": [
    "#### eval() 함수 : 문자열로 표현된 파이썬 식(expression)을 인자로 받아 인터프리터가 번역하여 실행하도록한다"
   ]
  },
  {
   "cell_type": "code",
   "execution_count": 11,
   "metadata": {},
   "outputs": [
    {
     "name": "stdout",
     "output_type": "stream",
     "text": [
      "a+20 1 2 3 4\n"
     ]
    },
    {
     "data": {
      "text/plain": [
       "30"
      ]
     },
     "execution_count": 11,
     "metadata": {},
     "output_type": "execute_result"
    }
   ],
   "source": [
    "a = 10\n",
    "express = 'a' + '+' +  '20' \n",
    "\n",
    "print(express)\n",
    "# b = a + 20\n",
    "b = eval(express)\n",
    "# b = eval('a + 20')\n",
    "b\n",
    "\n"
   ]
  },
  {
   "cell_type": "code",
   "execution_count": 12,
   "metadata": {},
   "outputs": [
    {
     "name": "stdout",
     "output_type": "stream",
     "text": [
      "========================1번========================\n",
      "Input velocity : 20\n",
      "Input distance : 100\n",
      "\n",
      "velocity : 20.00 \n",
      "distance : 100.00\n",
      "time     : 5.00  \n",
      "========================2번========================\n",
      "Input length : 10\n",
      "Input width : 20\n",
      "\n",
      "length : 10.00 \twidth : 20.00 \n",
      "area : 200.00\n",
      "circumference : 60.00 \n",
      "========================3번========================\n",
      "Input fahrenheit : 100\n",
      "\n",
      "fahrenheit : 100.00 -> celsius : 37.78 \n",
      "========================4번========================\n",
      "Input number1 : 10\n",
      "Input number2 : 30\n",
      "\n",
      "  10   +   30   = 40    \n",
      "  10   -   30   = -20   \n",
      "  10   *   30   = 300   \n",
      "  10   /   30   = 0.33  \n",
      "  10   %   30   = 10.00 \n"
     ]
    }
   ],
   "source": [
    "#numeric_ex.py\n",
    "#1번\n",
    "print( '{0:=^50}'.format( '1번' ) )\n",
    "velocity = input( 'Input velocity : ' )\n",
    "distance = input( 'Input distance : ' )\n",
    "\n",
    "#time = eval( distance + '/' + velocity )\n",
    "time = int(distance) / int(velocity)\n",
    "\n",
    "print()\n",
    "print( 'velocity : {0:<6.2f}'.format( float( velocity ) ) )\n",
    "print( 'distance : {0:<6.2f}'.format( float( distance ) ) )\n",
    "print( 'time     : {0:<6.2f}'.format( time ) )\n",
    "\n",
    "#2번\n",
    "print( '{0:=^50}'.format( '2번' ) )\n",
    "length = input( 'Input length : ' )\n",
    "width = input( 'Input width : ' )\n",
    "\n",
    "#area = eval( length + '*' + width )\n",
    "area =  int(length) * int(width)\n",
    "#circumference = eval( length + '*' + '2' + '+' + width + '*' + '2' )\n",
    "circumference =  int(length) * 2 + int(width) *2\n",
    "\n",
    "print()\n",
    "print( 'length : {0:<6.2f}\\twidth : {1:<6.2f}'.format( float( length ), float( width ) ) )\n",
    "print( 'area : {0:<6.2f}'.format( area ) )\n",
    "print( 'circumference : {0:<6.2f}'.format( circumference ) )\n",
    "\n",
    "#3번\n",
    "print( '{0:=^50}'.format( '3번' ) )\n",
    "fahrenheit = float( input( 'Input fahrenheit : ' ) )\n",
    "\n",
    "celsius = ( fahrenheit - 32 ) / 1.8\n",
    "\n",
    "print()\n",
    "print( 'fahrenheit : {0:<6.2f} -> celsius : {1:<6.2f}'.format( fahrenheit, celsius ) )\n",
    "\n",
    "#4번\n",
    "print( '{0:=^50}'.format( '4번' ) )\n",
    "number1 = int( input( 'Input number1 : ' ) )\n",
    "number2 = int( input( 'Input number2 : ' ) )\n",
    "\n",
    "add = number1 + number2\n",
    "subtract = number1 - number2\n",
    "multiple = number1 * number2\n",
    "divide = number1 / number2\n",
    "mod = number1 % number2\n",
    "\n",
    "print()\n",
    "print( '{0:^6} + {1:^6} = {2:<6}'.format( number1, number2, add ) )\n",
    "print( '{0:^6} - {1:^6} = {2:<6}'.format( number1, number2, subtract ) )\n",
    "print( '{0:^6} * {1:^6} = {2:<6}'.format( number1, number2, multiple ) )\n",
    "print( '{0:^6} / {1:^6} = {2:<6.2f}'.format( number1, number2, divide ) )\n",
    "print( '{0:^6} % {1:^6} = {2:<6.2f}'.format( number1, number2, mod ) )"
   ]
  },
  {
   "cell_type": "code",
   "execution_count": null,
   "metadata": {},
   "outputs": [],
   "source": []
  }
 ],
 "metadata": {
  "kernelspec": {
   "display_name": "Python 3",
   "language": "python",
   "name": "python3"
  },
  "language_info": {
   "codemirror_mode": {
    "name": "ipython",
    "version": 3
   },
   "file_extension": ".py",
   "mimetype": "text/x-python",
   "name": "python",
   "nbconvert_exporter": "python",
   "pygments_lexer": "ipython3",
   "version": "3.7.6"
  }
 },
 "nbformat": 4,
 "nbformat_minor": 4
}
