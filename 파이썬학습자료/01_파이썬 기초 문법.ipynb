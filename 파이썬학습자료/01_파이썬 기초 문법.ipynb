{
 "cells": [
  {
   "cell_type": "markdown",
   "metadata": {},
   "source": [
    "### Prnting"
   ]
  },
  {
   "cell_type": "code",
   "execution_count": 1,
   "metadata": {},
   "outputs": [
    {
     "name": "stdout",
     "output_type": "stream",
     "text": [
      "Hello World\n"
     ]
    }
   ],
   "source": [
    "print(\"Hello World\")"
   ]
  },
  {
   "cell_type": "code",
   "execution_count": 5,
   "metadata": {},
   "outputs": [
    {
     "name": "stdout",
     "output_type": "stream",
     "text": [
      "Seoul Property Insight\n"
     ]
    }
   ],
   "source": [
    "print(\"Seoul Property Insight\")"
   ]
  },
  {
   "cell_type": "code",
   "execution_count": 6,
   "metadata": {},
   "outputs": [
    {
     "name": "stdout",
     "output_type": "stream",
     "text": [
      "real estate fintech\n"
     ]
    }
   ],
   "source": [
    "print(\"real estate fintech\")"
   ]
  },
  {
   "cell_type": "markdown",
   "metadata": {},
   "source": [
    "### Math Operations "
   ]
  },
  {
   "cell_type": "code",
   "execution_count": 7,
   "metadata": {},
   "outputs": [
    {
     "name": "stdout",
     "output_type": "stream",
     "text": [
      "Dogs 30.0\n"
     ]
    }
   ],
   "source": [
    "print(\"Dogs\", 25 + 30 / 6)"
   ]
  },
  {
   "cell_type": "code",
   "execution_count": 8,
   "metadata": {},
   "outputs": [
    {
     "name": "stdout",
     "output_type": "stream",
     "text": [
      "Cats 97\n"
     ]
    }
   ],
   "source": [
    "print(\"Cats\", 100 - 25 * 3 % 4)"
   ]
  },
  {
   "cell_type": "code",
   "execution_count": 11,
   "metadata": {},
   "outputs": [
    {
     "name": "stdout",
     "output_type": "stream",
     "text": [
      "6.75\n"
     ]
    }
   ],
   "source": [
    "print(3 + 2 + 1 - 5 + 4 % 2 - 1 / 4 + 6)"
   ]
  },
  {
   "cell_type": "code",
   "execution_count": 12,
   "metadata": {},
   "outputs": [
    {
     "name": "stdout",
     "output_type": "stream",
     "text": [
      "False\n"
     ]
    }
   ],
   "source": [
    "print ( 4 + 1 < 5 - 7 )"
   ]
  },
  {
   "cell_type": "code",
   "execution_count": 14,
   "metadata": {},
   "outputs": [
    {
     "name": "stdout",
     "output_type": "stream",
     "text": [
      "Is it greater or equal? True\n"
     ]
    }
   ],
   "source": [
    "print( \"Is it greater or equal?\", 5 >= -2)"
   ]
  },
  {
   "cell_type": "markdown",
   "metadata": {},
   "source": [
    "### Variables"
   ]
  },
  {
   "cell_type": "code",
   "execution_count": 8,
   "metadata": {},
   "outputs": [
    {
     "name": "stdout",
     "output_type": "stream",
     "text": [
      "There are 100 car available\n",
      "There are only 30 drivers abailable.\n",
      "There will be 70 empty cars today.\n",
      "We need to put 3.0 passengers in each car.\n"
     ]
    }
   ],
   "source": [
    "cars = 100\n",
    "drivers = 30 \n",
    "passengers = 90 \n",
    "cars_not_driven = cars - drivers\n",
    "cars_driven = drivers\n",
    "average_passengers_per_car = passengers / cars_driven\n",
    "\n",
    "print(\"There are\", cars, \"car available\")\n",
    "print(\"There are only\", drivers, \"drivers abailable.\")\n",
    "print(\"There will be\", cars_not_driven, \"empty cars today.\")\n",
    "print(\"We need to put\", average_passengers_per_car, \"passengers in each car.\")"
   ]
  },
  {
   "cell_type": "markdown",
   "metadata": {},
   "source": [
    "### Strings & Text"
   ]
  },
  {
   "cell_type": "code",
   "execution_count": 19,
   "metadata": {},
   "outputs": [
    {
     "name": "stdout",
     "output_type": "stream",
     "text": [
      "Let`s talk about charmings.\n",
      "He`s got Brown eyes and Black hair\n",
      "If I add 36, 172, and 80 I get 288.\n"
     ]
    }
   ],
   "source": [
    "my_name = 'charmings'\n",
    "my_age = 36\n",
    "my_height = 172\n",
    "my_weight = 80\n",
    "my_eyes = 'Brown'\n",
    "my_hairs = 'Black'\n",
    "\n",
    "print(\"Let`s talk about %s.\" %my_name)\n",
    "print(\"He`s got %s eyes and %s hair\" % (my_eyes, my_hairs))\n",
    "\n",
    "print(\"If I add %s, %s, and %s I get %s.\" % (my_age, my_height, my_weight, my_age + my_height + my_weight))"
   ]
  },
  {
   "cell_type": "markdown",
   "metadata": {},
   "source": [
    "# 1. 변수와 자료형"
   ]
  },
  {
   "cell_type": "code",
   "execution_count": 47,
   "metadata": {},
   "outputs": [
    {
     "name": "stdout",
     "output_type": "stream",
     "text": [
      "1 5 안녕하세요\n"
     ]
    }
   ],
   "source": [
    "# 변수는 어떤 값을 저장하고 있는 공간을 의미. 변수는 다음과 같이 좌변에 변수명을, 우변에 변수에 저장할 값을 입력 \n",
    "# 변수에 특정한 값을 지정하는 것을 할당이라고 함 \n",
    "# 변수 = 변수에 저장할 값\n",
    "\n",
    "\n",
    "# 자료형: 파이썬에는 여러 자료형이 있다. \n",
    "# 숫자 자료형으로는 int형과 float형이 있으며 숫자 자료형 간에는 사칙 연산과 제곱 연상 등이 가능.\n",
    "# 문자열 자료형으로 str형이 있으며 큰따옴표 혹은 작은따옴표로 감싸서 정의\n",
    "# 배열 자료형으로 list와 tuple이 있으며 두 자료형 모두 인덱싱과 슬라이싱이 가능 (리스트의 요소는 변경할 수 없고 튜플은 변경할 수 있음)\n",
    "# 집합 자료형으로 set형이 있으며 요소 간 순서가 없고 요소의 중복을 허용하지 않음\n",
    "# 사전 자료형인 dictionry는 키와 값의 쌍으로 구성된 자료형, 키를 기준으로 데이터를 관리할 수 있음\n",
    "\n",
    "\n",
    "a = 1 \n",
    "b = 5\n",
    "c = \"안녕하세요\"\n",
    "\n",
    "print (a, b, c)"
   ]
  },
  {
   "cell_type": "markdown",
   "metadata": {},
   "source": [
    "## 1. 1 숫자형: int와 float "
   ]
  },
  {
   "cell_type": "code",
   "execution_count": 23,
   "metadata": {},
   "outputs": [
    {
     "name": "stdout",
     "output_type": "stream",
     "text": [
      "<class 'int'> <class 'float'>\n"
     ]
    }
   ],
   "source": [
    "# 파이썬에서 숫자와 관련한 자료형으로 int와 float이 있다. \n",
    "# int형은 정수형 데이터로 1,2,3,-1,-2,-3 따위\n",
    "# float형은 실수형 데이터로 10.45, -15.4 따위\n",
    "\n",
    "a = 5\n",
    "b = 9.2\n",
    "\n",
    "print(type(a), type(b))"
   ]
  },
  {
   "cell_type": "code",
   "execution_count": 24,
   "metadata": {},
   "outputs": [
    {
     "name": "stdout",
     "output_type": "stream",
     "text": [
      "5.0 9\n"
     ]
    }
   ],
   "source": [
    "# 형 변환 \n",
    "\n",
    "a = float(a)\n",
    "b = int(b)\n",
    "print(a, b)"
   ]
  },
  {
   "cell_type": "code",
   "execution_count": 25,
   "metadata": {},
   "outputs": [
    {
     "name": "stdout",
     "output_type": "stream",
     "text": [
      "12.5\n",
      "1.5\n",
      "38.5\n",
      "1.2727272727272727\n"
     ]
    }
   ],
   "source": [
    "# int형과 float형인 변수에 대해서는 사칙연산을 할 수 있음\n",
    "\n",
    "a = 7\n",
    "b = 5.5\n",
    "\n",
    "print(a + b)\n",
    "print(a - b)\n",
    "print(a * b)\n",
    "print(a / b)"
   ]
  },
  {
   "cell_type": "code",
   "execution_count": 26,
   "metadata": {},
   "outputs": [
    {
     "name": "stdout",
     "output_type": "stream",
     "text": [
      "8 3 1\n"
     ]
    }
   ],
   "source": [
    "# 제곱 연산자(**), 나머지 연산자(%), 몫 연산자(//)\n",
    "\n",
    "a = 2 ** 3    #2의 3제곱\n",
    "b = 7 % 4     #7 나머지 4\n",
    "c = 7 // 4    # 7을 4로 나누었을 때 몫\n",
    "print(a,b,c)"
   ]
  },
  {
   "cell_type": "markdown",
   "metadata": {},
   "source": [
    "## 1. 2 문자열 자료형: str"
   ]
  },
  {
   "cell_type": "code",
   "execution_count": 30,
   "metadata": {},
   "outputs": [
    {
     "name": "stdout",
     "output_type": "stream",
     "text": [
      "python 도전 8888\n"
     ]
    }
   ],
   "source": [
    "# 문자열 자료형이란 말 그대로 문자를 의미\n",
    "# 문자의 양옆에 큰따옴표(\")혹은 작은따옴표(')로 감싸서 정의\n",
    "\n",
    "x = \"python\"\n",
    "y = '도전'\n",
    "z = '8888'   #숫자형 양옆에 따옴표를 감싸서 문자로 취급 \n",
    "print(x, y, z)"
   ]
  },
  {
   "cell_type": "code",
   "execution_count": 31,
   "metadata": {},
   "outputs": [
    {
     "name": "stdout",
     "output_type": "stream",
     "text": [
      "'작은따옴표가 포함' \"큰따옴표가 포함\"\n"
     ]
    }
   ],
   "source": [
    "a = \"'작은따옴표가 포함'\"\n",
    "b = '\"큰따옴표가 포함\"'\n",
    "print(a,b)"
   ]
  },
  {
   "cell_type": "code",
   "execution_count": 2,
   "metadata": {},
   "outputs": [
    {
     "name": "stdout",
     "output_type": "stream",
     "text": [
      "서울프라퍼티인사이트\n"
     ]
    }
   ],
   "source": [
    "a = \"서울\"\n",
    "b = \"프라퍼티\"\n",
    "c = \"인사이트\"\n",
    "\n",
    "print(a+b+c)"
   ]
  },
  {
   "cell_type": "markdown",
   "metadata": {},
   "source": [
    "#### 인덱싱과 슬라이싱"
   ]
  },
  {
   "cell_type": "code",
   "execution_count": 5,
   "metadata": {},
   "outputs": [
    {
     "name": "stdout",
     "output_type": "stream",
     "text": [
      "서\n",
      "퍼\n",
      "이\n",
      "서울프라\n",
      "울프라\n",
      "서울프라\n",
      "울라티사트\n"
     ]
    }
   ],
   "source": [
    "# 문자열은 순서가 있는 자료형으로, 인덱싱(indexing)과 슬라이싱(slicing)이 가능\n",
    "\n",
    "##인덱싱\n",
    "s = \"서울프라퍼티인사이트\"\n",
    "print(s[0])   #인덱스는 0부터 시작함, 첫번째 글자\n",
    "print(s[4])   #다섯번째 글자 \n",
    "print(s[-2])  #역순, 뒤에서 두번째 글자\n",
    "\n",
    "\n",
    "##슬라이싱\n",
    "print(s[0:4:1])    #0부터 4까지 1씩 증가, [0,1,2,3]에 위치한 값을 반환. 맨 뒤에 있는 인덱스 4는 포함하지 않음. \n",
    "print(s[1:4])      #시작 1, 종료 4, 증가 폭 1  \n",
    "print(s[:4])       #시작 0, 종료 4. 증가 폭 1 \n",
    "print(s[1::2])     #시작 1. 종료 = 길이 + 1, 증가폭 2(콜론 2개= 증가 폭 2)"
   ]
  },
  {
   "cell_type": "markdown",
   "metadata": {},
   "source": [
    "#### 내장함수"
   ]
  },
  {
   "cell_type": "code",
   "execution_count": 9,
   "metadata": {},
   "outputs": [
    {
     "name": "stdout",
     "output_type": "stream",
     "text": [
      "1\n",
      "1\n",
      "4\n",
      "4\n"
     ]
    }
   ],
   "source": [
    "# 내장함수(built-in function)\n",
    "# 문자열 자료형 입력으로 받는 함수(function), 문자열 자료형에 내재된 함수인 메서드(method) \n",
    "# func(s) 함수, s.methond 메서드\n",
    "\n",
    "\n",
    "# find, index 메서드 \n",
    "\n",
    "s = \"Seoul\"\n",
    "print(s.find(\"e\"))     # 문자열에서 특정한 값의 위치를 반환하는 method, find, index \n",
    "print(s.find(\"e\"))\n",
    "print(s.find(\"l\"))\n",
    "print(s.index(\"l\"))"
   ]
  },
  {
   "cell_type": "code",
   "execution_count": 10,
   "metadata": {},
   "outputs": [
    {
     "name": "stdout",
     "output_type": "stream",
     "text": [
      "블록체인을 부동산 금융에 접목합니다.\n"
     ]
    }
   ],
   "source": [
    "#문자열에서 일부를 바꿀 때 replace 메서드 사용\n",
    "\n",
    "s = \"인공지능을 부동산 금융에 접목합니다.\"\n",
    "print(s.replace(\"인공지능\", \"블록체인\"))"
   ]
  },
  {
   "cell_type": "code",
   "execution_count": 12,
   "metadata": {},
   "outputs": [
    {
     "name": "stdout",
     "output_type": "stream",
     "text": [
      "['A', 'B', 'C']\n"
     ]
    }
   ],
   "source": [
    "# split 메서드 : 문자열에 포함된 부분 문자열을 기준으로 분할 \n",
    "\n",
    "s = \"A\\tB\\tC\"\n",
    "print(s.split(\"\\t\"))"
   ]
  },
  {
   "cell_type": "code",
   "execution_count": 13,
   "metadata": {},
   "outputs": [
    {
     "name": "stdout",
     "output_type": "stream",
     "text": [
      "A= 10, B = 20, C = 30\n"
     ]
    }
   ],
   "source": [
    "# format 메서드 : 문자열의 빈칸을 채우는 데 사용하는 메서드, print문과 함께 결과 출력\n",
    "\n",
    "A = 10\n",
    "B = 20\n",
    "C = 30\n",
    "print(\"A= {}, B = {}, C = {}\".format(A, B, C))"
   ]
  },
  {
   "cell_type": "markdown",
   "metadata": {},
   "source": [
    "## 1. 3 배열 자료형: 리스트(list)와 튜플(tuple)"
   ]
  },
  {
   "cell_type": "code",
   "execution_count": 25,
   "metadata": {},
   "outputs": [
    {
     "name": "stdout",
     "output_type": "stream",
     "text": [
      "0번째 요소: A, 3번째 요소: D\n",
      "['B', 'C']\n",
      "0번째 요소: A, 2번째 요소: C\n",
      "('B', 'C')\n",
      "2\n"
     ]
    }
   ],
   "source": [
    "# 배열(array)은 여러 개의 요소를 하나의 묶음으로 관리하는 자료형을 의미\n",
    "# 리스트는 대괄호, 튜플은 소괄호\n",
    "\n",
    "L = [1, 2, 3, 4]\n",
    "T = (1, 2, 3, 4)\n",
    "\n",
    "# 인덱싱과 슬라이싱 (for 리스트, 튜플)\n",
    "\n",
    "L = [\"A\", \"B\", \"C\", \"D\", \"E\"]\n",
    "print(\"0번째 요소: {}, 3번째 요소: {}\".format(L[0], L[3])) #인덱싱\n",
    "print(L[1:3])   #슬라이싱\n",
    "\n",
    "T = (\"A\", \"B\", \"C\", \"D\", \"E\")\n",
    "print(\"0번째 요소: {}, 2번째 요소: {}\".format(T[0], T[2])) #인덱싱\n",
    "print(T[1:3])  #슬라이싱\n",
    "\n",
    "# 리스트 안에 리스트 \n",
    "a = [[1,2,3], [4,5,6]]\n",
    "print(a[0][1])\n"
   ]
  },
  {
   "cell_type": "code",
   "execution_count": 29,
   "metadata": {},
   "outputs": [
    {
     "name": "stdout",
     "output_type": "stream",
     "text": [
      "(1, 2, 3, 4, 5)\n",
      "[1, 2, 3, 4, 5]\n"
     ]
    }
   ],
   "source": [
    "# 리스트와 튜플은 문자열과 마찬가지로 + 연산 가능\n",
    "\n",
    "print((1,2,3) + (4,5))\n",
    "print([1,2,3] + [4,5])"
   ]
  },
  {
   "cell_type": "code",
   "execution_count": 30,
   "metadata": {},
   "outputs": [
    {
     "name": "stdout",
     "output_type": "stream",
     "text": [
      "[1, 2, 3, 4]\n"
     ]
    }
   ],
   "source": [
    "# 리스트 내장 함수 \n",
    "# append 메서드\n",
    "\n",
    "X = [1, 2, 3]\n",
    "X.append(4)\n",
    "print(X)"
   ]
  },
  {
   "cell_type": "code",
   "execution_count": 31,
   "metadata": {},
   "outputs": [
    {
     "name": "stdout",
     "output_type": "stream",
     "text": [
      "[1, 2, 3, 4, 5]\n"
     ]
    }
   ],
   "source": [
    "# insert 메서드\n",
    "L = [1, 3, 4, 5]\n",
    "L.insert(1, 2)\n",
    "print(L)"
   ]
  },
  {
   "cell_type": "code",
   "execution_count": 32,
   "metadata": {},
   "outputs": [
    {
     "name": "stdout",
     "output_type": "stream",
     "text": [
      "['b', 'c']\n"
     ]
    }
   ],
   "source": [
    "# remove 메서드\n",
    "L = [\"a\", \"b\", \"c\"]\n",
    "L.remove(\"a\")\n",
    "print(L)"
   ]
  },
  {
   "cell_type": "markdown",
   "metadata": {},
   "source": [
    "## 1. 4 집합 자료형 : set"
   ]
  },
  {
   "cell_type": "code",
   "execution_count": 34,
   "metadata": {},
   "outputs": [
    {
     "name": "stdout",
     "output_type": "stream",
     "text": [
      "{1, 2, 3} {1, 2, 3}\n",
      "[1, 2, 3]\n"
     ]
    }
   ],
   "source": [
    "#집합 자료형은 집합을 나타내는 자료형으로, 요소 간 순서가 없고 요소의 중복을 허용하지 않는 자료형\n",
    "\n",
    "s1 = {1, 2, 3, 2, 1}\n",
    "s2 = set([1, 2, 3, 2, 1])\n",
    "print(s1, s2)\n",
    "\n",
    "L = [1, 2, 3, 1, 2, 3]\n",
    "L = list(set(L))\n",
    "print(L)"
   ]
  },
  {
   "cell_type": "code",
   "execution_count": 38,
   "metadata": {},
   "outputs": [
    {
     "name": "stdout",
     "output_type": "stream",
     "text": [
      "{3, 4}\n",
      "{3, 4}\n",
      "{1, 2, 3, 4, 5, 6}\n",
      "{1, 2, 3, 4, 5, 6}\n",
      "{1, 2}\n",
      "{1, 2}\n"
     ]
    }
   ],
   "source": [
    "# 집합 자료형에서는 교집합, 합집합, 차집합 연산을 지원\n",
    "\n",
    "# 교집합 연산: &, intersection 메서드\n",
    "s1 = {1, 2, 3, 4}\n",
    "s2 = {3, 4, 5, 6}\n",
    "print(s1 & s2)\n",
    "print(s1.intersection(s2))\n",
    "\n",
    "# 합집합 연산: |, union 메서드\n",
    "print(s1|s2)\n",
    "print(s1.union(s2))\n",
    "\n",
    "#차집합 연산: -, difference 메서드\n",
    "print (s1 - s2)\n",
    "print(s1.difference(s2))"
   ]
  },
  {
   "cell_type": "markdown",
   "metadata": {},
   "source": [
    "## 1. 5 사전 자료형: dictionary"
   ]
  },
  {
   "cell_type": "code",
   "execution_count": 42,
   "metadata": {},
   "outputs": [
    {
     "name": "stdout",
     "output_type": "stream",
     "text": [
      "1\n",
      "{'A': 1, 'B': 20, 'C': 3, 'D': 4}\n",
      "{'B': 20, 'C': 3, 'D': 4}\n",
      "dict_keys([1, 2, 3])\n",
      "dict_values(['A', 'B', 'C'])\n",
      "dict_items([(1, 'A'), (2, 'B'), (3, 'C')])\n"
     ]
    }
   ],
   "source": [
    "# 사전 자료형 딕셔너리(dictionary)는 키(key)와 값(value)의 쌍으로 구성된 순서가 없는 자료형 \n",
    "# 리스트와 튜플의 경우에는 위치를 나타내는 인덱스로만 데이터를 관리할 수 있는 반면, 딕셔너리는 키를 기준으로 데이터를 관리할 수 있음\n",
    "\n",
    "X = {\"A\":1, \"B\":2, \"C\":3}\n",
    "print(X[\"A\"])\n",
    "\n",
    "\n",
    "X[\"D\"] = 4\n",
    "X[\"B\"] = 20\n",
    "print(X)\n",
    "\n",
    "#del 함수\n",
    "\n",
    "del(X[\"A\"])\n",
    "print(X)\n",
    "\n",
    "\n",
    "# 딕셔너리 구성 요소를 확인하는 데 사용하는 메서드로는 key(), values(), items()\n",
    "# key()는 딕셔너리의 모든 키를, values()는 딕셔너리의 모든 키를, items() 딕셔너리의 모든 쌍을 반환\n",
    "\n",
    "X = {1:\"A\", 2:\"B\", 3:\"C\"}\n",
    "print(X.keys())\n",
    "print(X.values())\n",
    "print(X.items())"
   ]
  },
  {
   "cell_type": "markdown",
   "metadata": {},
   "source": [
    "## 1. 6 부울 자료형: bool"
   ]
  },
  {
   "cell_type": "code",
   "execution_count": 1,
   "metadata": {},
   "outputs": [
    {
     "name": "stdout",
     "output_type": "stream",
     "text": [
      "True False\n",
      "<class 'bool'> <class 'bool'>\n"
     ]
    }
   ],
   "source": [
    "#부울 자료형이란 참(True)와 거짓(True)을 나타내는 자료형으로, 조건문에서 주로 활용됨, 부울 자료형에 속하는 값은 True와 False\n",
    "\n",
    "a = True\n",
    "b = False\n",
    "print(a, b)\n",
    "print(type(a), type(b))"
   ]
  },
  {
   "cell_type": "code",
   "execution_count": 2,
   "metadata": {},
   "outputs": [
    {
     "name": "stdout",
     "output_type": "stream",
     "text": [
      "True\n",
      "False\n",
      "False\n",
      "False\n",
      "True\n",
      "True\n",
      "False\n",
      "2\n",
      "0\n",
      "-1\n",
      "1.0\n"
     ]
    }
   ],
   "source": [
    "# 부울 연산자\n",
    "\n",
    "print(True and True)\n",
    "print(True and False)\n",
    "print(False & False)\n",
    "print(False & True)\n",
    "print(True or False)\n",
    "print(True | False)\n",
    "print(False | False | False)\n",
    "print(True + True)    # 사칙연산을 할 때 True = 1, False = 0\n",
    "print(True*False)\n",
    "print(False - True)\n",
    "print(True/True)"
   ]
  },
  {
   "cell_type": "markdown",
   "metadata": {},
   "source": [
    "# 2. 조건문"
   ]
  },
  {
   "cell_type": "markdown",
   "metadata": {},
   "source": [
    "## 2. 1 기본 구조: if와 else"
   ]
  },
  {
   "cell_type": "code",
   "execution_count": 8,
   "metadata": {},
   "outputs": [
    {
     "name": "stdout",
     "output_type": "stream",
     "text": [
      "참\n"
     ]
    }
   ],
   "source": [
    "# if 조건 뒤에는 콜론(:)이 항상 있어야 하며 조건에 따른 코드 블록은 들여쓰기(indent) 되어야 함\n",
    "# 콜론과 들여쓰기는 if 뿐만 아니라, for문, while문, 함수 정의 등에 사용되는 파이썬 공통 문법\n",
    "# 코드 블록을 구성하는 코드의 들여쓰기 수준은 모두 같아야 하며 4칸을 권장 (tab 키를 이용해 34칸 이동)\n",
    "\n",
    "\n",
    "cond = True\n",
    "if cond:\n",
    "    print(\"참\")\n",
    "else:\n",
    "    print(\"거짓\")"
   ]
  },
  {
   "cell_type": "markdown",
   "metadata": {},
   "source": [
    "  연산자   |   True 반환\n",
    "  \n",
    " x < y    | x가 y보다 작은 경우\n",
    " x <= y   | x가 y보다 작거나 같은 경우\n",
    " x > y    | x가 y보다 큰 경우    \n",
    " x >= y   | x가 y보다 크거나 같은 경우  \n",
    " x = y    | x와 y가 같은 경우\n",
    " x != y   | x와 y가 같지 않은 경우 \n",
    " x in y   | x가 y에 포함되는 경우\n",
    " x not in y |x가 y에 포함되지 않는 경우 \n",
    " x & y  | x와 y가 모두 True인 경우\n",
    " x | y  | x와 y 중 모두가 True인 경우\n",
    " not(x) | x가 False인 경우"
   ]
  },
  {
   "cell_type": "code",
   "execution_count": 11,
   "metadata": {},
   "outputs": [
    {
     "name": "stdout",
     "output_type": "stream",
     "text": [
      "False\n",
      "True\n",
      "True\n",
      "True\n"
     ]
    }
   ],
   "source": [
    "print(3 < 2)\n",
    "print(3 == 3)\n",
    "print(2+2 !=5)\n",
    "print(len(\"ABC\") >= 2)"
   ]
  },
  {
   "cell_type": "code",
   "execution_count": 14,
   "metadata": {},
   "outputs": [
    {
     "name": "stdout",
     "output_type": "stream",
     "text": [
      "True\n",
      "False\n",
      "True\n",
      "False\n",
      "True\n"
     ]
    }
   ],
   "source": [
    "L = [1, 2, 3]\n",
    "S = \"abcde\"\n",
    "D = {\"A\":1, \"B\":2, \"C\":3}\n",
    "\n",
    "print(1 in L)\n",
    "print(2 not in L)\n",
    "print(\"abc\" in S)\n",
    "print(\"ac\" in S)\n",
    "print(\"A\" in D.keys())"
   ]
  },
  {
   "cell_type": "markdown",
   "metadata": {},
   "source": [
    "## 2. 3 elif문(else if문)"
   ]
  },
  {
   "cell_type": "code",
   "execution_count": 17,
   "metadata": {},
   "outputs": [
    {
     "name": "stdout",
     "output_type": "stream",
     "text": [
      "6은 없지만, 1은 L 안에 있습니다.\n"
     ]
    }
   ],
   "source": [
    "L = [1, 2, 3, 4, 5]\n",
    "if 1 in L and 6 in L:\n",
    "    print(\"1과 6 모두 L 안에 있습니다.\")\n",
    "elif 1 in L:\n",
    "    print(\"6은 없지만, 1은 L 안에 있습니다.\")\n",
    "elif 6 in L:\n",
    "    print(\"1은 없지만, 6은 L 안에 있습니다\")\n",
    "else:\n",
    "    print(\"1과 6 모두 L안에 없습니다.\")"
   ]
  },
  {
   "cell_type": "markdown",
   "metadata": {},
   "source": [
    "# 3. 반복문"
   ]
  },
  {
   "cell_type": "markdown",
   "metadata": {},
   "source": [
    "## 3. 1 for문"
   ]
  },
  {
   "cell_type": "code",
   "execution_count": 19,
   "metadata": {},
   "outputs": [
    {
     "name": "stdout",
     "output_type": "stream",
     "text": [
      "A\n",
      "B\n",
      "C\n"
     ]
    }
   ],
   "source": [
    "# for문: 한 변수가 순회 가능한 객체를 순회하면서 코드 블록을 반복적으로 실행\n",
    "# for 변수 in 순회 가능한 객체:\n",
    "#     수행할 라인 1\n",
    "#     수행할 라인 2 \n",
    "\n",
    "L = [\"A\", \"B\", \"C\"]\n",
    "for i in L : # i가 l을 순회\n",
    "    print(i)"
   ]
  },
  {
   "cell_type": "code",
   "execution_count": 20,
   "metadata": {},
   "outputs": [
    {
     "name": "stdout",
     "output_type": "stream",
     "text": [
      "1 1 1\n",
      "2 4 8\n",
      "3 9 27\n",
      "4 16 64\n",
      "5 25 125\n"
     ]
    }
   ],
   "source": [
    "T = (1, 2, 3, 4, 5)\n",
    "for a in T:\n",
    "    x = a ** 2\n",
    "    y = a ** 3\n",
    "    print(a, x, y)"
   ]
  },
  {
   "cell_type": "markdown",
   "metadata": {},
   "source": [
    "## 3. 2  while문"
   ]
  },
  {
   "cell_type": "markdown",
   "metadata": {},
   "source": [
    "# 4. 함수"
   ]
  },
  {
   "cell_type": "markdown",
   "metadata": {},
   "source": [
    "## 4. 1 함수의 기본 구조 "
   ]
  },
  {
   "cell_type": "markdown",
   "metadata": {},
   "source": [
    "## 4. 2 기본값"
   ]
  },
  {
   "cell_type": "markdown",
   "metadata": {},
   "source": [
    "## 4. 3 출력이 없는 함수 "
   ]
  },
  {
   "cell_type": "markdown",
   "metadata": {},
   "source": [
    "## 4. 4 lambda 함수"
   ]
  },
  {
   "cell_type": "markdown",
   "metadata": {},
   "source": [
    "# 5. 클래스"
   ]
  },
  {
   "cell_type": "markdown",
   "metadata": {},
   "source": [
    "## 5. 1 클래스 기초 "
   ]
  },
  {
   "cell_type": "markdown",
   "metadata": {},
   "source": [
    "## 5. 2 생성자와 속성"
   ]
  },
  {
   "cell_type": "markdown",
   "metadata": {},
   "source": [
    "## 5. 3 메서드 "
   ]
  },
  {
   "cell_type": "markdown",
   "metadata": {},
   "source": [
    "## 5. 4 다른 패키지와 모듈 활용의 토대"
   ]
  },
  {
   "cell_type": "markdown",
   "metadata": {},
   "source": [
    "# 6. 패키지와 모듈"
   ]
  },
  {
   "cell_type": "markdown",
   "metadata": {},
   "source": [
    "## 6.1 기본 개념"
   ]
  },
  {
   "cell_type": "markdown",
   "metadata": {},
   "source": [
    "## 6. 2 모듈 임포트 및 함수 사용법"
   ]
  },
  {
   "cell_type": "markdown",
   "metadata": {},
   "source": [
    "## 6. 3 패키지에 속한 모듈 불러오기"
   ]
  }
 ],
 "metadata": {
  "blpn": {
   "base_numbering": 1,
   "blpnPosition": {
    "height": "calc(100% - 180px)",
    "right": "10px",
    "top": "150px",
    "width": "50%"
   },
   "blpn_cell": false,
   "blpn_section_display": true,
   "blpn_window_display": false,
   "nav_menu": {},
   "number_sections": true,
   "sideBar": true,
   "title_cell": "BlackPen 0.1.8",
   "title_sidebar": "BlackPen 0.1.8"
  },
  "kernelspec": {
   "display_name": "Python 3",
   "language": "python",
   "name": "python3"
  },
  "language_info": {
   "codemirror_mode": {
    "name": "ipython",
    "version": 3
   },
   "file_extension": ".py",
   "mimetype": "text/x-python",
   "name": "python",
   "nbconvert_exporter": "python",
   "pygments_lexer": "ipython3",
   "version": "3.7.6"
  }
 },
 "nbformat": 4,
 "nbformat_minor": 4
}
