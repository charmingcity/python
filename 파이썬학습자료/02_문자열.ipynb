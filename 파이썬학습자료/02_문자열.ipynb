{
 "cells": [
  {
   "cell_type": "markdown",
   "metadata": {},
   "source": [
    "### 문자열(str) : 불변형(immutable), 시퀀스형"
   ]
  },
  {
   "cell_type": "code",
   "execution_count": 34,
   "metadata": {},
   "outputs": [
    {
     "name": "stdout",
     "output_type": "stream",
     "text": [
      "Hello Python <class 'str'>\n",
      "Good Bye\n",
      "\n",
      "Desc : This is a Test Code!!\n",
      "Date : 2020-07-02\n",
      "(c) copyright\n",
      "\n",
      "this is a 'double' quotation\n"
     ]
    }
   ],
   "source": [
    "str1 = 'Hello Python'\n",
    "print(str1,type(str1))  # <class 'str'>\n",
    "\n",
    "str2 = \"Good Bye\"\n",
    "print(str2)\n",
    "\n",
    "str3 = \\\n",
    "'''\n",
    "Desc : This is a Test Code!!\n",
    "Date : 2020-07-02\n",
    "(c) copyright\n",
    "'''\n",
    "print(str3)\n",
    "\n",
    "str4 = \"this is a 'double' quotation\"\n",
    "print(str4)"
   ]
  },
  {
   "cell_type": "markdown",
   "metadata": {},
   "source": [
    "### 문자열의 indexing 과 slicing"
   ]
  },
  {
   "cell_type": "code",
   "execution_count": 45,
   "metadata": {},
   "outputs": [
    {
     "name": "stdout",
     "output_type": "stream",
     "text": [
      "Life is too short, you need python\n",
      "L i f e   t i L\n",
      "n o h\n",
      "nife is too long, you need python\n",
      "10\n"
     ]
    }
   ],
   "source": [
    "# indexing : 문자열의 요소를 접근하는 방법, a[index], 처음이 0으로 시작\n",
    "a = 'Life is too short, you need python'\n",
    "print(a)\n",
    "print(a[0],a[1],a[2],a[3],a[4],a[8],a[True],a[False])  # True는 1과 호환, False는 0과 호환\n",
    "print(a[-1],a[-2],a[-3])                               # 뒤에서 부터 인덱싱,  -1 : 맨 마지막 요소\n",
    "\n",
    "# a[len(a) - 1 ]  ==> a[-1]\n",
    "\n",
    "b = a[0]  # 읽기 OK!!\n",
    "# a[0] = 'n' # TypeError: 'str' object does not support item assignment\n",
    "             # 불변형 데이터는 요소 수정이 불가능, 요소를 변경하려면 새로운 객체를 다시생성\n",
    "\n",
    "# a = 'nife is too long, you need python'\n",
    "# print(a)"
   ]
  },
  {
   "cell_type": "code",
   "execution_count": 1,
   "metadata": {},
   "outputs": [
    {
     "name": "stdout",
     "output_type": "stream",
     "text": [
      "Lif\n",
      "Life is to\n",
      "Life is too short, you need python\n",
      "too short, you need python\n",
      "Life is too short, you need pytho\n",
      "pytho\n",
      "nohtyp deen uoy ,trohs oot si efiL\n",
      "Lesosr ue \n",
      "Lf stosot o edpto\n"
     ]
    }
   ],
   "source": [
    "# slicing : a[start:end + 1:step],   start <= data < end + 1\n",
    "a = 'Life is too short, you need python'\n",
    "print(a[0:3])    # from 0 to (3 - 1)\n",
    "print(a[0:10])   # from 0 to (10 - 1)\n",
    "\n",
    "print(a[:])      # 처음부터 끝까지 , a[0:34]\n",
    "print(a[8:])     # 8번 부터 끝까지\n",
    "\n",
    "print(a[:-1])    # 마지막 문자만 제외, a[0:33]\n",
    "print(a[-6:-1])\n",
    "\n",
    "print(a[0:30:3])  # 처음 부터 29번 까지 3개의 간격으로 slicing\n",
    "print(a[::2])     # 처음 부터 끝까지 2개의 간격으로 slicing\n",
    "\n",
    "print(a[::-1])  # 문자열의 순서를 거구로 변경\n",
    "\n",
    "# a[0:4] = 'nife'  # TypeError: 'str' object does not support item assignment\n",
    "                   # 불변형 데이터는 요소 수정이 불가능, 요소를 변경하려면 새로운 객체를 다시 생성    "
   ]
  },
  {
   "cell_type": "code",
   "execution_count": 81,
   "metadata": {},
   "outputs": [
    {
     "name": "stdout",
     "output_type": "stream",
     "text": [
      "hellobye\n",
      "hellohellohello\n",
      "--------------------------------------------------\n"
     ]
    }
   ],
   "source": [
    "# 문자열 연산 : +, *\n",
    "str1 = 'hello'\n",
    "str2 = 'bye'\n",
    "\n",
    "str3 = str1 + str2\n",
    "print(str3)\n",
    "\n",
    "str3 = str1 * 3\n",
    "print(str3)\n",
    "\n",
    "print('-'*50)"
   ]
  },
  {
   "cell_type": "code",
   "execution_count": 88,
   "metadata": {},
   "outputs": [
    {
     "name": "stdout",
     "output_type": "stream",
     "text": [
      "<class 'str'>\n",
      "I LIKE PROGRAMMING, I LIKE SWIMMING\n",
      "i like programming, i like swimming\n",
      "i like programming, i like swimming\n",
      "I LIKE PROGRAMMING, I LIKE SWIMMING\n",
      "I Like Programming, I Like Swimming\n"
     ]
    }
   ],
   "source": [
    "# 문자열 연산자\n",
    "a = 'i like programming, i like swimming' \n",
    "print(type(a))     # <class 'str'>\n",
    "\n",
    "b = a.upper()      # 대문자로 변환해서 반환\n",
    "print(b)\n",
    "print(a)\n",
    "\n",
    "c = b.lower()      # 소문자로 변환해서 반환\n",
    "print(c)\n",
    "print(b)\n",
    "\n",
    "d = a.title()      # 단어의 첫글자만 대문자로 변환\n",
    "print(d)"
   ]
  },
  {
   "cell_type": "code",
   "execution_count": 110,
   "metadata": {},
   "outputs": [
    {
     "name": "stdout",
     "output_type": "stream",
     "text": [
      "2\n",
      "27\n",
      "swim\n",
      "22\n",
      "-1\n",
      "22\n"
     ]
    }
   ],
   "source": [
    "a = 'i like programming, i like swimming'\n",
    "num = a.count('like')  # 문자의 사용 횟수\n",
    "print(num)             # 2\n",
    "\n",
    "num = a.find('swim')   # 문자 위치의 인덱스 값을 반환\n",
    "print(num)\n",
    "print(a[num:num + 4 ])\n",
    "\n",
    "num = a.find('like',3)  # 검색 시작 위치 인덱스를 3으로 지정, 문자 위치의 인덱스 값을 반환\n",
    "print(num)\n",
    "\n",
    "num = a.find('hello')   # 문자가 없으면 -1을 반환\n",
    "print(num)\n",
    "\n",
    "num = a.rfind('like')   # 역순으로 검색하여 문자 위치의 인덱스 값을 반환\n",
    "print(num)"
   ]
  },
  {
   "cell_type": "code",
   "execution_count": 116,
   "metadata": {},
   "outputs": [
    {
     "name": "stdout",
     "output_type": "stream",
     "text": [
      "2\n",
      "True\n"
     ]
    }
   ],
   "source": [
    "num = a.index('like')  # # 문자 위치의 인덱스 값을 반환\n",
    "print(num)\n",
    "\n",
    "# num = a.index('hello')   # 문자가 없으면 ValueError\n",
    "\n",
    "b = a.startswith('i like') # 특정 문자열로 시작하는 문자열인가, True/False 값으로 반환\n",
    "print(b)"
   ]
  },
  {
   "cell_type": "code",
   "execution_count": 121,
   "metadata": {},
   "outputs": [
    {
     "name": "stdout",
     "output_type": "stream",
     "text": [
      " spam and ham \n",
      "spam and ham\n",
      "spam and ham \n",
      " spam and ham\n",
      " spam and ham \n"
     ]
    }
   ],
   "source": [
    "# 제거\n",
    "a = ' spam and ham '\n",
    "print(a)\n",
    "\n",
    "s = a.strip() # 좌우 공백을 제거\n",
    "print(s)\n",
    "\n",
    "s = a.lstrip() # 좌측 공백을 제거\n",
    "print(s)\n",
    "\n",
    "s = a.rstrip() # 우측 공백을 제거\n",
    "print(s)\n",
    "print(a)  "
   ]
  },
  {
   "cell_type": "code",
   "execution_count": 128,
   "metadata": {},
   "outputs": [
    {
     "name": "stdout",
     "output_type": "stream",
     "text": [
      "['spam', 'and', 'ham']\n",
      "[' spam ', ' ham ']\n"
     ]
    },
    {
     "data": {
      "text/plain": [
       "['hello', 'bye']"
      ]
     },
     "execution_count": 128,
     "metadata": {},
     "output_type": "execute_result"
    }
   ],
   "source": [
    "# 분리\n",
    "a = ' spam and ham '\n",
    "s = a.split()     # 공백으로 분리하고 리스트로 반환\n",
    "print(s)\n",
    "\n",
    "s = a.split('and') # 'and'를 기준으로 분리하고 리스트로 반환\n",
    "print(s)\n",
    "\n",
    "'hello bye'.split()"
   ]
  },
  {
   "cell_type": "code",
   "execution_count": 135,
   "metadata": {},
   "outputs": [
    {
     "name": "stdout",
     "output_type": "stream",
     "text": [
      "a:b:c:d:e\n",
      "['spam', 'and', 'ham']\n",
      "spam#and#ham\n"
     ]
    }
   ],
   "source": [
    "# 결합\n",
    "s = ':'.join('abcde')  # 문자를 삽입해서 결합\n",
    "print(s)\n",
    "\n",
    "s1 = a.split()\n",
    "print(s1)\n",
    "s2 ='#'.join(s1)\n",
    "print(s2)"
   ]
  },
  {
   "cell_type": "code",
   "execution_count": 137,
   "metadata": {},
   "outputs": [
    {
     "name": "stdout",
     "output_type": "stream",
     "text": [
      "Your leg is too short\n",
      "Life is too short\n"
     ]
    }
   ],
   "source": [
    "# 교체\n",
    "a = 'Life is too short'\n",
    "b = a.replace('Life','Your leg')  # 'Life'를 'Your leg'으로 바꿈\n",
    "print(b)\n",
    "print(a)"
   ]
  },
  {
   "cell_type": "code",
   "execution_count": 150,
   "metadata": {},
   "outputs": [
    {
     "name": "stdout",
     "output_type": "stream",
     "text": [
      "ㄱㄴㄷㄹㅁㅂㅅㅇㅈㅊㅋㅌㅍㅎㅏㅔㅣㅗㅜ\n",
      "gndrmbs_jcktphaeiou\n",
      "{12593: 103, 12596: 110, 12599: 100, 12601: 114, 12609: 109, 12610: 98, 12613: 115, 12615: 95, 12616: 106, 12618: 99, 12619: 107, 12620: 116, 12621: 112, 12622: 104, 12623: 97, 12628: 101, 12643: 105, 12631: 111, 12636: 117}\n",
      "miri_oja\n",
      "ganibabo\n"
     ]
    }
   ],
   "source": [
    "# maketrans()/translate() 함수\n",
    "# 문자열을 mapping 하여 변환된 결과를 반환\n",
    "a = 'ㄱㄴㄷㄹㅁㅂㅅㅇㅈㅊㅋㅌㅍㅎ'   # 자음\n",
    "b = 'ㅏㅔㅣㅗㅜ'                  # 모음\n",
    "c = 'gndrmbs_jcktph'\n",
    "d = 'aeiou'\n",
    "\n",
    "kor = a + b\n",
    "eng = c + d\n",
    "print(kor)\n",
    "print(eng)\n",
    "\n",
    "transtable = ''.maketrans(kor,eng)\n",
    "print(transtable)\n",
    "\n",
    "result = 'ㅁㅣㄹㅣㅇㅗㅈㅏ'.translate(transtable)\n",
    "print(result)\n",
    "\n",
    "result = 'ㄱㅏㄴㅣㅂㅏㅂㅗ'.translate(transtable)\n",
    "print(result)"
   ]
  },
  {
   "cell_type": "code",
   "execution_count": 2,
   "metadata": {},
   "outputs": [
    {
     "name": "stdout",
     "output_type": "stream",
     "text": [
      "========================1=========================\n",
      "Name : hong gil dong\n",
      "Birthday : 2019/12/12\n",
      "ID Number : 20191212-1623210\n"
     ]
    }
   ],
   "source": [
    "# 1번 답안\n",
    "print( '{0:=^50}'.format( '1' ) )\n",
    "s = 'hong gil dong201912121623210'\n",
    "\n",
    "name = s[ :s.rfind( 'g' ) + 1 ]\n",
    "birthday_index = s.rfind( 'g' ) + 1\n",
    "birthday = s[ birthday_index: birthday_index + 9 ]\n",
    "idnumber = s[ s.rfind( 'g' ) + 1: ]\n",
    "\n",
    "print( 'Name : ' + name )\n",
    "print( 'Birthday : ' + birthday[ :4 ] + '/' + birthday[ 4:6 ] + '/' + birthday[ 6:8 ] )\n",
    "print( 'ID Number : ' + idnumber[ :8 ] + '-' + idnumber[ 8: ] )"
   ]
  },
  {
   "cell_type": "code",
   "execution_count": 3,
   "metadata": {},
   "outputs": [
    {
     "name": "stdout",
     "output_type": "stream",
     "text": [
      "========================2=========================\n",
      "ProgrammingPython\n"
     ]
    }
   ],
   "source": [
    "# 2번 답안\n",
    "print( '{0:=^50}'.format( '2' ) )\n",
    "s = 'PythonProgramming'\n",
    "\n",
    "print( s[ s.find( 'Programming' ): ] + s[ :s.find( 'Programming' ) ] )"
   ]
  },
  {
   "cell_type": "code",
   "execution_count": 4,
   "metadata": {},
   "outputs": [
    {
     "name": "stdout",
     "output_type": "stream",
     "text": [
      "========================3=========================\n",
      "hi world\n"
     ]
    }
   ],
   "source": [
    "# 3번 답안\n",
    "print( '{0:=^50}'.format( '3' ) )\n",
    "\n",
    "s = 'hello world'\n",
    "\n",
    "print( 'hi' + ' ' + s[ s.find( 'world' ): ] )"
   ]
  },
  {
   "cell_type": "code",
   "execution_count": null,
   "metadata": {},
   "outputs": [],
   "source": []
  }
 ],
 "metadata": {
  "kernelspec": {
   "display_name": "Python 3",
   "language": "python",
   "name": "python3"
  },
  "language_info": {
   "codemirror_mode": {
    "name": "ipython",
    "version": 3
   },
   "file_extension": ".py",
   "mimetype": "text/x-python",
   "name": "python",
   "nbconvert_exporter": "python",
   "pygments_lexer": "ipython3",
   "version": "3.7.6"
  }
 },
 "nbformat": 4,
 "nbformat_minor": 4
}
