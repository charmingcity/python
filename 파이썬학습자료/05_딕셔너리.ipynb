{
 "cells": [
  {
   "cell_type": "markdown",
   "metadata": {},
   "source": [
    "### 사전(dict) : 가변형(mutable), 순서가 없다, 연관형,매핑형, {} : 중괄호 사용\n",
    "#### {key:value,......},  key값은 반드시 immutable 형이어야 한다(숫자형,문자열,튜플)\n",
    "#### value는 mutable,immutable 모두 사용 가능하다"
   ]
  },
  {
   "cell_type": "code",
   "execution_count": 1,
   "metadata": {},
   "outputs": [
    {
     "name": "stdout",
     "output_type": "stream",
     "text": [
      "{'name': '홍길동', 'age': 30, 'phone': '010-1234-1234', 'birth': '2020-07-06', 10: 100, (1, 2): 'hi'}\n",
      "<class 'dict'>\n"
     ]
    }
   ],
   "source": [
    "a = {'name':'홍길동','age':30 , 'phone':'010-1234-1234','birth':'2020-07-06',10:100,(1,2):'hi' }\n",
    "print(a)\n",
    "print(type(a))  # <class 'dict'>"
   ]
  },
  {
   "cell_type": "code",
   "execution_count": 2,
   "metadata": {},
   "outputs": [
    {
     "name": "stdout",
     "output_type": "stream",
     "text": [
      "홍길동 30 010-1234-1234 2020-07-06 100 hi\n"
     ]
    }
   ],
   "source": [
    "# 요소 접근 : a[key]\n",
    "print(a['name'],a['age'],a['phone'],a['birth'],a[10],a[(1,2)])"
   ]
  },
  {
   "cell_type": "code",
   "execution_count": 3,
   "metadata": {},
   "outputs": [
    {
     "name": "stdout",
     "output_type": "stream",
     "text": [
      "{'name': '김철수', 'age': 20, 'phone': '010-1234-1234', 'birth': '2020-07-06', 10: 500, (1, 2): 'hi'}\n"
     ]
    }
   ],
   "source": [
    "# 요소 수정\n",
    "a['name'] = '김철수'    # 요소 변경이 가능\n",
    "a['age']  = 20\n",
    "a[10] = 500\n",
    "print(a)"
   ]
  },
  {
   "cell_type": "code",
   "execution_count": 4,
   "metadata": {},
   "outputs": [
    {
     "name": "stdout",
     "output_type": "stream",
     "text": [
      "{'name': '김철수', 'age': 20, 'phone': '010-1234-1234', 'birth': '2020-07-06', 10: 500, (1, 2): 'hi', '주소': '서울시', '직업': '학생', (10, 20, 30): '튜플데이터'}\n"
     ]
    }
   ],
   "source": [
    "# 요소 추가\n",
    "a['주소'] = '서울시'\n",
    "a['직업'] = '학생'\n",
    "a[(10,20,30)] = '튜플데이터'\n",
    "# a[[1,2,3]] = '리스트데이터'  # TypeError: unhashable type: 'list'\n",
    "print(a)"
   ]
  },
  {
   "cell_type": "code",
   "execution_count": 5,
   "metadata": {},
   "outputs": [
    {
     "name": "stdout",
     "output_type": "stream",
     "text": [
      "{'name': '김철수', 'age': 20, 'phone': '010-1234-1234', 'birth': '2020-07-06', 10: 500, '직업': '학생'}\n"
     ]
    }
   ],
   "source": [
    "# 제거\n",
    "del a['주소']\n",
    "del a[(10,20,30)]\n",
    "del a[(1,2)]\n",
    "print(a)"
   ]
  },
  {
   "cell_type": "code",
   "execution_count": 6,
   "metadata": {},
   "outputs": [
    {
     "name": "stdout",
     "output_type": "stream",
     "text": [
      "dict_keys(['name', 'age', 'phone', 'birth', 10, '직업'])\n",
      "dict_values(['김철수', 20, '010-1234-1234', '2020-07-06', 500, '학생'])\n",
      "dict_items([('name', '김철수'), ('age', 20), ('phone', '010-1234-1234'), ('birth', '2020-07-06'), (10, 500), ('직업', '학생')])\n"
     ]
    }
   ],
   "source": [
    "# 연산자\n",
    "print(a.keys())    # key 값들만 dict_keys 타입으로 반환\n",
    "print(a.values())  # value 값들만 dict_values 타입으로 반환\n",
    "print(a.items())   # key와 value값을 튜플로 만들어 dict_items 타입으로 반환"
   ]
  },
  {
   "cell_type": "code",
   "execution_count": 7,
   "metadata": {},
   "outputs": [
    {
     "name": "stdout",
     "output_type": "stream",
     "text": [
      "김철수\n",
      "김철수\n",
      "None\n",
      "독서\n"
     ]
    }
   ],
   "source": [
    "print(a['name'])\n",
    "print(a.get('name')) # 동일한 결과\n",
    "\n",
    "# a['hobby']  # KeyError: 'hobby'\n",
    "ret = a.get('hobby')  # key 가 없으면 None을 반환\n",
    "print(ret)\n",
    "\n",
    "print(a.get('hobby','독서')) # 'hobby' key가 없으면 '독서'를 반환"
   ]
  },
  {
   "cell_type": "code",
   "execution_count": 8,
   "metadata": {},
   "outputs": [
    {
     "name": "stdout",
     "output_type": "stream",
     "text": [
      "{'name': '김철수', 'age': 20, 'phone': '010-1234-1234', 'birth': '2020-07-06', 10: 500, '직업': '학생', 'gender': '남성', 'ten': 10}\n"
     ]
    }
   ],
   "source": [
    "# 추가\n",
    "d = {'gender':'남성','ten':10}\n",
    "a.update(d)  # 새로운 dict의 요소를 추가\n",
    "print(a)"
   ]
  },
  {
   "cell_type": "code",
   "execution_count": 9,
   "metadata": {},
   "outputs": [
    {
     "name": "stdout",
     "output_type": "stream",
     "text": [
      "10\n",
      "{'name': '김철수', 'age': 20, 'phone': '010-1234-1234', 'birth': '2020-07-06', 10: 500, '직업': '학생', 'gender': '남성'}\n"
     ]
    }
   ],
   "source": [
    "# 제거\n",
    "ret = a.pop('ten')\n",
    "print(ret)\n",
    "print(a)"
   ]
  },
  {
   "cell_type": "code",
   "execution_count": 10,
   "metadata": {},
   "outputs": [
    {
     "name": "stdout",
     "output_type": "stream",
     "text": [
      "{} <class 'dict'>\n"
     ]
    }
   ],
   "source": [
    "a.clear()    # 빈 사전으로 변경\n",
    "print(a,type(a))"
   ]
  },
  {
   "cell_type": "code",
   "execution_count": 11,
   "metadata": {},
   "outputs": [
    {
     "name": "stdout",
     "output_type": "stream",
     "text": [
      "{'a': 1, 'b': 1, 'c': 1, 'd': 1, 'e': 1, 'f': 1, 'g': 1} <class 'dict'>\n"
     ]
    }
   ],
   "source": [
    "# 사전 내장(dict comprehension)  : 자주 사용됨!!\n",
    "a = {k:1 for k in 'abcdefg'}\n",
    "print(a,type(a))"
   ]
  },
  {
   "cell_type": "code",
   "execution_count": 12,
   "metadata": {},
   "outputs": [
    {
     "name": "stdout",
     "output_type": "stream",
     "text": [
      "{'a': 1, 'b': 1, 'd': 1, 'e': 1, 'f': 1, 'g': 1}\n"
     ]
    }
   ],
   "source": [
    "# 조건식을 사용\n",
    "a = {k:1 for k in 'abcdefg' if k != 'c'}\n",
    "print(a)"
   ]
  },
  {
   "cell_type": "code",
   "execution_count": 13,
   "metadata": {},
   "outputs": [
    {
     "name": "stdout",
     "output_type": "stream",
     "text": [
      "{'name': 0, 'age': 0, 'phone': 0, 'birth': 0, 10: 0, '직업': 0}\n"
     ]
    }
   ],
   "source": [
    "b = ['name', 'age', 'phone', 'birth', 10, '직업']\n",
    "a = {k:0 for k in b}\n",
    "print(a)"
   ]
  },
  {
   "cell_type": "code",
   "execution_count": 14,
   "metadata": {},
   "outputs": [
    {
     "name": "stdout",
     "output_type": "stream",
     "text": [
      "[('name', '김철수'), ('age', 20), ('phone', '010-1234-1234'), ('birth', '2020-07-06'), (10, 500), ('직업', '학생')]\n",
      "{'name': '김철수', 'age': 20, 'phone': '010-1234-1234', 'birth': '2020-07-06', 10: 500, '직업': '학생'}\n"
     ]
    }
   ],
   "source": [
    "a1 = ['name', 'age', 'phone', 'birth', 10, '직업']\n",
    "a2 = ['김철수', 20, '010-1234-1234', '2020-07-06', 500, '학생']\n",
    "\n",
    "# a = {a1[0]:a2[0],a1[1]:a2[1]}\n",
    "\n",
    "# zip()함수\n",
    "print(list(zip(a1,a2)))\n",
    "\n",
    "# 두 개의 서로 다른 리스트를 사용하여 한 개의 사전을 생성\n",
    "a = {k:v for k,v in zip(a1,a2)}\n",
    "print(a)"
   ]
  },
  {
   "cell_type": "code",
   "execution_count": 15,
   "metadata": {},
   "outputs": [
    {
     "name": "stdout",
     "output_type": "stream",
     "text": [
      "0 a\n",
      "1 b\n",
      "2 c\n",
      "3 d\n",
      "4 e\n",
      "5 f\n",
      "6 g\n",
      "{'a': 0, 'b': 1, 'c': 2, 'd': 3, 'e': 4, 'f': 5, 'g': 6}\n",
      "{'e': 4, 'f': 5, 'g': 6}\n"
     ]
    }
   ],
   "source": [
    "# enumerate() 함수 : 인덱스와 요소값을 함께 튜플로 반환\n",
    "s = 'abcdefg'\n",
    "\n",
    "for i,k in enumerate(s):  # i는 인덱스 값,  k 는 요소 값\n",
    "    print(i,k)\n",
    "\n",
    "a = {k:m for m,k in enumerate(s)}  \n",
    "print(a)\n",
    "a2 = {k:m for m,k in enumerate(s) if (k != 'c') and (m > 3)}  \n",
    "print(a2)"
   ]
  },
  {
   "cell_type": "code",
   "execution_count": null,
   "metadata": {},
   "outputs": [],
   "source": []
  }
 ],
 "metadata": {
  "kernelspec": {
   "display_name": "Python 3",
   "language": "python",
   "name": "python3"
  },
  "language_info": {
   "codemirror_mode": {
    "name": "ipython",
    "version": 3
   },
   "file_extension": ".py",
   "mimetype": "text/x-python",
   "name": "python",
   "nbconvert_exporter": "python",
   "pygments_lexer": "ipython3",
   "version": "3.7.6"
  }
 },
 "nbformat": 4,
 "nbformat_minor": 4
}
