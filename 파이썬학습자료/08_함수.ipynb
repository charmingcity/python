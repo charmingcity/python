{
 "cells": [
  {
   "cell_type": "markdown",
   "metadata": {},
   "source": [
    "### 함수(function)"
   ]
  },
  {
   "cell_type": "code",
   "execution_count": 3,
   "metadata": {},
   "outputs": [],
   "source": [
    "# 함수 구현 방법\n",
    "'''\n",
    "def 함수명(매개변수,.....):\n",
    "    <수행할 문장1>\n",
    "    <수행할 문장2>\n",
    "    <수행할 문장3>\n",
    "    ...\n",
    "    return 반환할 값\n",
    "'''"
   ]
  },
  {
   "cell_type": "code",
   "execution_count": 24,
   "metadata": {},
   "outputs": [
    {
     "name": "stdout",
     "output_type": "stream",
     "text": [
      "<class 'function'>\n",
      "add called!!\n",
      "30\n",
      "subtract called!!\n",
      "-10\n",
      "multiply called!!\n",
      "200\n",
      "divide called!!\n",
      "0.5\n",
      "add called!!\n",
      "7\n",
      "add called!!\n",
      "GoodBye\n",
      "add called!!\n",
      "[1, 2, 3, 4, 5, 6]\n"
     ]
    }
   ],
   "source": [
    "# 함수 정의\n",
    "def add(a,b):\n",
    "    c = a + b\n",
    "    print('add called!!')\n",
    "    return c\n",
    "\n",
    "def subtract(a,b):\n",
    "    c = a - b\n",
    "    print('subtract called!!')\n",
    "    return c\n",
    "\n",
    "def multiply(a,b):\n",
    "    c = a * b\n",
    "    print('multiply called!!')\n",
    "    return c\n",
    "\n",
    "def divide(a,b):\n",
    "    c = a / b\n",
    "    print('divide called!!')\n",
    "    return c\n",
    "    \n",
    "print(type(add))  # <class 'function'>\n",
    "\n",
    "# 함수 호출\n",
    "ret = add(10,20)\n",
    "print(ret)\n",
    "\n",
    "ret = subtract(10,20)\n",
    "print(ret)\n",
    "\n",
    "ret = multiply(10,20)\n",
    "print(ret)\n",
    "\n",
    "ret = divide(10,20)\n",
    "print(ret)\n",
    "\n",
    "print(add(3,4))\n",
    "print(add('Good','Bye'))\n",
    "print(add([1,2,3],[4,5,6]))"
   ]
  },
  {
   "cell_type": "code",
   "execution_count": 12,
   "metadata": {},
   "outputs": [],
   "source": [
    "# 수학 함수\n",
    "# f(x) = 10*x + 1\n",
    "# f(2) = 10*2 + 1 = 21\n",
    "# f(x1,x2) = x1 + x2\n",
    "# f(10,20) = 10 + 20 = 30"
   ]
  },
  {
   "cell_type": "markdown",
   "metadata": {},
   "source": [
    "### 함수 구현 순서\n",
    "#### (1) def 를 사용하고 함수 이름을 결정\n",
    "#### (2) 매개변수(인자)를 결정\n",
    "#### (3) 인자를 사용하여 처리하는 코드를 구현\n",
    "#### (4) return 을 사용하여 결과값을 반환\n",
    "#### (5) 인자를 설정하여 함수를 호출하여 결과를 확인"
   ]
  },
  {
   "cell_type": "code",
   "execution_count": 22,
   "metadata": {},
   "outputs": [
    {
     "name": "stdout",
     "output_type": "stream",
     "text": [
      "f_1 is called!\n",
      "None\n"
     ]
    }
   ],
   "source": [
    "# 함수의 유형 4가지\n",
    "# [1] 반환값이 없고 인자도 없는 경우\n",
    "def f_1():\n",
    "    print('f_1 is called!')\n",
    "\n",
    "ret = f_1()  # None\n",
    "print(ret)"
   ]
  },
  {
   "cell_type": "code",
   "execution_count": 23,
   "metadata": {},
   "outputs": [
    {
     "name": "stdout",
     "output_type": "stream",
     "text": [
      "f_2 is called!\n",
      "13 30\n",
      "None\n"
     ]
    }
   ],
   "source": [
    "# [2] 반환값이 없고 인자는 있는 경우\n",
    "def f_2(a,b):\n",
    "    print('f_2 is called!')\n",
    "    print(a + b, a * b)\n",
    "    \n",
    "ret = f_2(10,3)\n",
    "print(ret)"
   ]
  },
  {
   "cell_type": "code",
   "execution_count": 29,
   "metadata": {},
   "outputs": [
    {
     "name": "stdout",
     "output_type": "stream",
     "text": [
      "f_3 is called!\n",
      "('Bread', 'Butter', 100, [1, 2, 3])\n",
      "<class 'tuple'>\n",
      "f_3 is called!\n",
      "Bread Butter 100\n"
     ]
    }
   ],
   "source": [
    "# [3] 반환값이 있고 인자는 없는 경우\n",
    "def f_3():\n",
    "    print('f_3 is called!')\n",
    "    return 'Bread','Butter',100,[1,2,3]\n",
    "\n",
    "ret = f_3()\n",
    "print(ret)\n",
    "print(type(ret))  # <class 'tuple'>\n",
    "\n",
    "a,b,c,_ = f_3()  # 튜플 언패킹\n",
    "print(a,b,c)"
   ]
  },
  {
   "cell_type": "code",
   "execution_count": 33,
   "metadata": {},
   "outputs": [
    {
     "name": "stdout",
     "output_type": "stream",
     "text": [
      "f_4 is called!\n",
      "(8, -2, 15, 0.6)\n"
     ]
    }
   ],
   "source": [
    "# [4] 반환값이 있고 인자도 있는 경우\n",
    "def f_4(a,b):\n",
    "    print('f_4 is called!')\n",
    "    return a+b,a-b,a*b,a/b\n",
    "\n",
    "print(f_4(3,5))"
   ]
  },
  {
   "cell_type": "code",
   "execution_count": 38,
   "metadata": {},
   "outputs": [
    {
     "name": "stdout",
     "output_type": "stream",
     "text": [
      "(5, 3)\n",
      "(5, 3)\n"
     ]
    }
   ],
   "source": [
    "# Quiz 1: 두 개의 정수형 니자를 주면 , 큰 수, 작은 수의 순서로 반환하는 함수 order()를 구현\n",
    "# 3,5 ==> 5,3\n",
    "# 5,3 ==> 5,3\n",
    "def order(a,b):\n",
    "    if a < b:\n",
    "        a,b = b,a\n",
    "    return a,b\n",
    "print(order(3,5))     # (5,3)\n",
    "print(order(5,3))     # (5,3)"
   ]
  },
  {
   "cell_type": "code",
   "execution_count": 39,
   "metadata": {},
   "outputs": [
    {
     "name": "stdout",
     "output_type": "stream",
     "text": [
      "30\n",
      "30\n"
     ]
    }
   ],
   "source": [
    "# Quiz 2: 두 개의 정수형 인자를 주면  큰 수를 반환하는 함수 max()를 구현\n",
    "def max(a,b):\n",
    "    if a > b:\n",
    "        return a\n",
    "    return b\n",
    "print(max(10,30)) \n",
    "print(max(30,10))        "
   ]
  },
  {
   "cell_type": "code",
   "execution_count": 40,
   "metadata": {},
   "outputs": [
    {
     "name": "stdout",
     "output_type": "stream",
     "text": [
      "5.5\n",
      "50.5\n"
     ]
    }
   ],
   "source": [
    "# Quiz 3: 정수를 요소로 갖는 리스트를 인자로 주면, 리스트의 평균을 반환하는 함수 mean()를 구현\n",
    "#         내장 함수인 sum(),len()을 사용 가능 \n",
    "def mean(l):\n",
    "    return sum(l)/len(l)\n",
    "\n",
    "print(mean([1,2,3,4,5,6,7,8,9,10]))\n",
    "print(mean(list(range(1,101))))    "
   ]
  },
  {
   "cell_type": "code",
   "execution_count": 42,
   "metadata": {},
   "outputs": [],
   "source": [
    "# globals() : 파이썬의 전역 심볼테이블을 얻는 함수"
   ]
  },
  {
   "cell_type": "code",
   "execution_count": 9,
   "metadata": {},
   "outputs": [
    {
     "name": "stdout",
     "output_type": "stream",
     "text": [
      "10 20\n",
      "() <class 'tuple'>\n",
      "30\n",
      "10 20\n",
      "(30,) <class 'tuple'>\n",
      "60\n",
      "10 20\n",
      "(30, 40, 50, 60, 70) <class 'tuple'>\n",
      "280\n"
     ]
    }
   ],
   "source": [
    "# 인자가 고정되지 않은 함수 처리 방법\n",
    "\n",
    "# (1) *인자 : tuple 방식, 가변 인수\n",
    "def add_many(a,b,*args):\n",
    "    total = a + b\n",
    "    print(a,b)\n",
    "    print(args,type(args))  # <class 'tuple'>\n",
    "    for k in args:\n",
    "        total += k\n",
    "    return total\n",
    "\n",
    "print(add_many(10,20))\n",
    "print(add_many(10,20,30))\n",
    "print(add_many(10,20,30,40,50,60,70))"
   ]
  },
  {
   "cell_type": "code",
   "execution_count": 40,
   "metadata": {},
   "outputs": [
    {
     "name": "stdout",
     "output_type": "stream",
     "text": [
      "10 20\n",
      "{} <class 'dict'>\n",
      "10 20\n",
      "{'depth': 5, 'dimension': 7} <class 'dict'>\n"
     ]
    }
   ],
   "source": [
    "# (2) **인자 : dict형식, 키워드 인수\n",
    "def func(width,height,**kw):\n",
    "    print(width,height)\n",
    "    print(kw,type(kw))    # <class 'dict'>\n",
    "#   print(kw[list(kw.keys())[0]])  # 5\n",
    "\n",
    "func(10,20)  \n",
    "func(width=10,height=20,depth=5,dimension=7)"
   ]
  },
  {
   "cell_type": "code",
   "execution_count": 23,
   "metadata": {},
   "outputs": [
    {
     "name": "stdout",
     "output_type": "stream",
     "text": [
      "None 20 000-0000-0000 True\n",
      "kim 30 101-1234-1234 False\n",
      "ko 10 000-0000-0000 True\n",
      "lee 50 000-0000-0000 False\n"
     ]
    }
   ],
   "source": [
    "# 기본 인수, default 인수\n",
    "def show_info(name=None,age=20,phone='000-0000-0000',emp=True):\n",
    "    print(name,age,phone,emp)\n",
    "\n",
    "show_info()    \n",
    "show_info('kim',30,'101-1234-1234',False)    \n",
    "show_info('ko',10)\n",
    "show_info(age = 50,name ='lee',emp=False)"
   ]
  },
  {
   "cell_type": "code",
   "execution_count": 10,
   "metadata": {},
   "outputs": [
    {
     "name": "stdout",
     "output_type": "stream",
     "text": [
      "foo: 20\n",
      "bar: 30 20 11\n",
      "Global: 10\n"
     ]
    }
   ],
   "source": [
    "# 함수 사용시 변수의 유효 범위 규칙 (Scope Rule)\n",
    "# local 변수  : 지역 변수, 변수가 선언된 함수 내에서만 사용 가능\n",
    "# global 변수 : 전역 변수, 모든 함수에서 접근 가능\n",
    "# LEGB 규칙 : Local > Enclosing Function Local > Global > Built-in\n",
    "\n",
    "x = 10          # G : 전역변수(Global Variable)\n",
    "y = 11          # G : 전역변수(Global Variable)\n",
    "\n",
    "def foo():\n",
    "    x = 20               # L : 지역변수(Local Variable)\n",
    "    foo_list = [1,2,3]   # L : 지역변수(Local Variable)\n",
    "    print('foo:',x)\n",
    "    \n",
    "    def bar():\n",
    "        a = 30               # L : 지역변수(Local Variable)\n",
    "        print('bar:',a,x,y)  # a ==> L, x ==> E, y : G\n",
    "       \n",
    "    bar()        \n",
    "\n",
    "foo()\n",
    "print('Global:',x)"
   ]
  },
  {
   "cell_type": "markdown",
   "metadata": {},
   "source": [
    "### 일급함수(First Class Function) : 함수 이름을 변수 처럼 사용 가능하다\n",
    "#### (1) 함수 객체를 다른 함수의 인자로 전달할 수가 있다\n",
    "#### (2) 함수 객체를 다른 함수에서 반환값으로 전달할 수 있다\n",
    "#### (3) 함수 객체를 다른 자료 구조에 저장해서 사용 가능"
   ]
  },
  {
   "cell_type": "code",
   "execution_count": 28,
   "metadata": {},
   "outputs": [
    {
     "name": "stdout",
     "output_type": "stream",
     "text": [
      "func_two is called!!\n",
      "add_two is called!\n",
      "30\n"
     ]
    }
   ],
   "source": [
    "# (1) 함수 객체를 다른 함수의 인자로 전달할 수가 있다\n",
    "def add_two(a,b):                 # (5)\n",
    "    print('add_two is called!')   # (6)\n",
    "    return a + b                  # (7)\n",
    "\n",
    "# print(type(add_two))  # <class 'function'>\n",
    "# b = add_two           # <class 'function'> \n",
    "# print(type(b))\n",
    "# b(10,20)              # 함수 호출\n",
    "\n",
    "def func_two(func,a,b):            # (2)\n",
    "    print('func_two is called!!')  # (3)\n",
    "    result = func(a,b)             # (4)\n",
    "    return result                  # (8)\n",
    "\n",
    "ret = func_two(add_two,10,20)      # (1)\n",
    "print(ret)                         # (9)"
   ]
  },
  {
   "cell_type": "code",
   "execution_count": 41,
   "metadata": {},
   "outputs": [
    {
     "name": "stdout",
     "output_type": "stream",
     "text": [
      "foo2 is called!!\n",
      "<class 'function'>\n",
      "bar2 is called!!\n"
     ]
    }
   ],
   "source": [
    "# (2) 함수 객체를 다른 함수에서 반환값으로 전달할 수 있다\n",
    "def foo2():  # 함수 클로저\n",
    "    print('foo2 is called!!')\n",
    "    \n",
    "    def bar2():\n",
    "        print('bar2 is called!!')\n",
    "        \n",
    "    return bar2        \n",
    "        \n",
    "ret = foo2()\n",
    "print(type(ret))  # <class 'function'>\n",
    "# bar2()   # NameError\n",
    "ret()      # OK!!   "
   ]
  },
  {
   "cell_type": "code",
   "execution_count": 48,
   "metadata": {},
   "outputs": [
    {
     "name": "stdout",
     "output_type": "stream",
     "text": [
      "add called!!\n",
      "30\n",
      "subtract called!!\n",
      "-10\n"
     ]
    }
   ],
   "source": [
    "# (3) 함수 객체를 다른 자료 구조에 저장해서 사용 가능\n",
    "\n",
    "# 함수 정의\n",
    "def add(a,b):\n",
    "    c = a + b\n",
    "    print('add called!!')\n",
    "    return c\n",
    "\n",
    "def subtract(a,b):\n",
    "    c = a - b\n",
    "    print('subtract called!!')\n",
    "    return c\n",
    "\n",
    "def multiply(a,b):\n",
    "    c = a * b\n",
    "    print('multiply called!!')\n",
    "    return c\n",
    "\n",
    "def divide(a,b):\n",
    "    c = a / b\n",
    "    print('divide called!!')\n",
    "    return c\n",
    "\n",
    "# list 사용\n",
    "func_list = [add,subtract,multiply,divide]\n",
    "# print(func_list)\n",
    "\n",
    "ret = func_list[0](10,20)\n",
    "print(ret)\n",
    "\n",
    "ret = func_list[1](10,20)\n",
    "print(ret)"
   ]
  },
  {
   "cell_type": "code",
   "execution_count": 50,
   "metadata": {},
   "outputs": [
    {
     "name": "stdout",
     "output_type": "stream",
     "text": [
      "add called!!\n",
      "60\n",
      "subtract called!!\n",
      "-20\n"
     ]
    }
   ],
   "source": [
    "# dict사용\n",
    "func_dict = {'add함수':add,'subtract함수':subtract,'multiply함수':multiply,'divide함수':divide}\n",
    "\n",
    "ret = func_dict['add함수'](20,40)\n",
    "print(ret)\n",
    "\n",
    "ret = func_dict['subtract함수'](20,40)\n",
    "print(ret)"
   ]
  },
  {
   "cell_type": "markdown",
   "metadata": {},
   "source": [
    "### 람다(lambda) 함수, 람다식\n",
    "#### : 한줄 짜리 함수식, 식을 정의하는 순간 바로 함수 객체로 사용, 바로 인수로 전달할 수 있다, def 키워드를 사용하지 않는다\n",
    "#### 함수명 = lambda 인수1,인수2,.. : 반환할 식"
   ]
  },
  {
   "cell_type": "code",
   "execution_count": 66,
   "metadata": {},
   "outputs": [
    {
     "name": "stdout",
     "output_type": "stream",
     "text": [
      "40\n",
      "lamda식: 10 30\n",
      "(40, None, -20)\n"
     ]
    }
   ],
   "source": [
    "# def add(a,b):\n",
    "#     return a + b\n",
    "# add(10,30)\n",
    "\n",
    "add_new = lambda a,b : a + b \n",
    "print(add_new(10,30))\n",
    "\n",
    "add_many_express = lambda a,b : (a + b,print('lamda식:',a,b),a - b) \n",
    "print(add_many_express(10,30))\n",
    "\n",
    "f = lambda : 1    # 인자가 없을 경우\n",
    "f()               # 항상 1을 반환하는 함수"
   ]
  },
  {
   "cell_type": "code",
   "execution_count": 64,
   "metadata": {},
   "outputs": [
    {
     "name": "stdout",
     "output_type": "stream",
     "text": [
      "[2, 5, 10, 17, 26]\n",
      "[3, 5, 7, 9, 11]\n",
      "lambda 사용: [2, 5, 10, 17, 26]\n",
      "lambda 사용: [3, 5, 7, 9, 11]\n",
      "lambda 사용: [3, 13, 37, 81, 151]\n"
     ]
    }
   ],
   "source": [
    "def f1(x):\n",
    "    return x*x + 1\n",
    "\n",
    "def f2(x):\n",
    "    return 2*x + 1\n",
    "\n",
    "# print([f1(1),f2(2),f1(3),f1(4),f1(5)])  # [2, 5, 10, 17, 26]\n",
    "\n",
    "def g(func):\n",
    "    return [func(x) for x in range(1,6)]\n",
    "print(g(f1))     # [2, 5, 10, 17, 26]\n",
    "print(g(f2))\n",
    "\n",
    "\n",
    "# 람다 사용\n",
    "print('lambda 사용:',g(lambda x:x*x + 1)) # [2, 5, 10, 17, 26]\n",
    "print('lambda 사용:',g(lambda x:2*x + 1))\n",
    "print('lambda 사용:',g(lambda x:x**3 + x**2 + 1))"
   ]
  },
  {
   "cell_type": "markdown",
   "metadata": {},
   "source": [
    "### 장식자(Decorator)\n",
    "#### : 함수를 받아 명령을 추가한 뒤 이를 다시 함수의 형태로 반환하는 함수이다.\n",
    "#### 함수의 내부를 수정하지 않고 기능에 변화를 주고 싶을 때 사용한다 .\n",
    "#### 일반적으로 함수의 전처리나 후처리에 대한 필요가 있을때 사용을 한다.\n",
    "#### 또한 데코레이터를 이용해, 반복을 줄이고 메소드나 함수의 책임을 확장한다"
   ]
  },
  {
   "cell_type": "code",
   "execution_count": 1,
   "metadata": {},
   "outputs": [],
   "source": [
    "def sample_decorator(func):       # 장식자\n",
    "    def sample_wrapper_func(a,b): # 기능이 추가되는 새로운 함수\n",
    "        print('전처리..')\n",
    "        func(a,b)\n",
    "        print('후처리..')\n",
    "    return sample_wrapper_func"
   ]
  },
  {
   "cell_type": "code",
   "execution_count": 5,
   "metadata": {},
   "outputs": [
    {
     "name": "stdout",
     "output_type": "stream",
     "text": [
      "I am here: 1 2\n",
      "전처리..\n",
      "I am here: 1 2\n",
      "후처리..\n"
     ]
    }
   ],
   "source": [
    "def myfunc(a,b):\n",
    "    print('I am here:',a,b)\n",
    "\n",
    "myfunc(1,2) \n",
    "\n",
    "myfunc = sample_decorator(myfunc) \n",
    "myfunc(1,2)"
   ]
  },
  {
   "cell_type": "code",
   "execution_count": 7,
   "metadata": {},
   "outputs": [
    {
     "name": "stdout",
     "output_type": "stream",
     "text": [
      "I am here: 1 2\n"
     ]
    }
   ],
   "source": [
    "@sample_decorator              # 장식자\n",
    "def myfunc(a,b):               # myfunc = sample_decorator(myfunc) \n",
    "    print('I am here:',a,b)\n",
    "\n",
    "myfunc(1,2)                   # 장식된 함수를 실행한다"
   ]
  },
  {
   "cell_type": "code",
   "execution_count": 8,
   "metadata": {},
   "outputs": [],
   "source": [
    "# 함수 호출 시 두 개의 실수를 인자로 주면 장식자가 인자를 정수로 먼저 변경한 후 \n",
    "# 해당 함수를 호출해 주는 장식자를 구현\n",
    "def int_decorator(func):    # 장식자\n",
    "    def int_wrapper_func(a,b):\n",
    "        print('전처리..')\n",
    "        a = int(a)\n",
    "        b = int(b)\n",
    "        c = func(a,b)\n",
    "        print('후처리')\n",
    "        return c\n",
    "    return int_wrapper_func        "
   ]
  },
  {
   "cell_type": "code",
   "execution_count": 10,
   "metadata": {},
   "outputs": [
    {
     "name": "stdout",
     "output_type": "stream",
     "text": [
      "전처리..\n",
      "후처리\n",
      "5\n"
     ]
    }
   ],
   "source": [
    "@int_decorator\n",
    "def add(a,b):     # add = int_decorator(add)\n",
    "    return a + b\n",
    "print(add(2.5,3.5))\n"
   ]
  },
  {
   "cell_type": "code",
   "execution_count": 11,
   "metadata": {},
   "outputs": [
    {
     "name": "stdout",
     "output_type": "stream",
     "text": [
      "6.0\n"
     ]
    }
   ],
   "source": [
    "# 장식자를 사용하지 않았을 때\n",
    "def add(a,b):     \n",
    "    return a + b\n",
    "print(add(2.5,3.5))"
   ]
  },
  {
   "cell_type": "code",
   "execution_count": 15,
   "metadata": {},
   "outputs": [
    {
     "name": "stdout",
     "output_type": "stream",
     "text": [
      "전처리..\n",
      "후처리\n",
      "3\n"
     ]
    }
   ],
   "source": [
    "@int_decorator\n",
    "def subtract(a,b):     # subtract = int_decorator(subtract)\n",
    "    return a - b\n",
    "print(subtract(5.5,2.1))"
   ]
  },
  {
   "cell_type": "code",
   "execution_count": 24,
   "metadata": {},
   "outputs": [],
   "source": [
    "# Quiz 1: 함수에 인자로 리스트 1개를 주면 장식자가 전처리로 요소중 음수를 모두 양수로 바꾸어 \n",
    "# 해당 함수를 호출해주는 장식자 abs_decorator를 구현하세요\n",
    "# 장식될 함수 sum_list()는 sum()을 사용하여 인자로 넘어온 리스트의 합계를 구하는 함수를 작성\n",
    "# 장식될 함수 mean_list()는 sum()과 len()을 사용하여 인자로 넘어온 리스트의 평균을 구하는 함수를 작성\n",
    "\n",
    "# 음수를 양수로 바꾸기 위해서는 파이썬 내장함수 abs()함수를 사용한다\n",
    "# 아래 리스트를 인자로 사용한다\n",
    "# a = [1,2,-3,4,-5,6,-7,8,-9,-10]\n",
    "\n",
    "# 리스트를 양수로 변경하는 코드\n",
    "# for i,k in enumerate(a):\n",
    "#     if k < 0:\n",
    "#         a[i] = abs(k)\n",
    "# print(a)\n",
    "\n",
    "def abs_decorator(func):   # 장식자\n",
    "    def abs_wrapper_func(a):\n",
    "        print('전처리..')\n",
    "        for i,k in enumerate(a):\n",
    "            if k < 0:\n",
    "                a[i] = abs(k)\n",
    "        print('*전처리 결과 :',a)\n",
    "        c = func(a)\n",
    "        print('후처리..')\n",
    "        return c\n",
    "    return abs_wrapper_func     "
   ]
  },
  {
   "cell_type": "code",
   "execution_count": 25,
   "metadata": {},
   "outputs": [
    {
     "name": "stdout",
     "output_type": "stream",
     "text": [
      "전처리..\n",
      "*전처리 결과 : [1, 2, 3, 4, 5, 6, 7, 8, 9, 10]\n",
      "후처리..\n",
      "55\n"
     ]
    }
   ],
   "source": [
    "@ abs_decorator  \n",
    "def sum_list(a):        # sum_list = abs_decorator( sum_list )\n",
    "    return sum(a)\n",
    "\n",
    "print(sum_list([1,2,-3,4,-5,6,-7,8,-9,-10]))"
   ]
  },
  {
   "cell_type": "code",
   "execution_count": 29,
   "metadata": {},
   "outputs": [
    {
     "name": "stdout",
     "output_type": "stream",
     "text": [
      "전처리..\n",
      "*전처리 결과 : [1, 2, 3, 4, 5, 6, 7, 8, 9, 10]\n",
      "후처리..\n",
      "5.5\n"
     ]
    }
   ],
   "source": [
    "@ abs_decorator  \n",
    "def mean_list(a):        # mean_list = abs_decorator( mean_list )\n",
    "    return sum(a)/len(a)\n",
    "\n",
    "print(mean_list([1,2,-3,4,-5,6,-7,8,-9,-10]))"
   ]
  },
  {
   "cell_type": "markdown",
   "metadata": {},
   "source": [
    "### 파이썬 내장(Built-in) 함수\n",
    "#### :map()/max()/min()/sum()/round()/id()/hex()/zip()등 다양한 내장 함수가 존재"
   ]
  },
  {
   "cell_type": "code",
   "execution_count": 38,
   "metadata": {},
   "outputs": [
    {
     "name": "stdout",
     "output_type": "stream",
     "text": [
      "<class 'map'>\n",
      "multi_two is called!!\n",
      "multi_two is called!!\n",
      "multi_two is called!!\n",
      "multi_two is called!!\n",
      "multi_two is called!!\n",
      "multi_two is called!!\n",
      "[2, 4, 6, 8, 10, 12]\n"
     ]
    }
   ],
   "source": [
    "# map() 함수\n",
    "def multi_two(x):\n",
    "    print('multi_two is called!!')\n",
    "    return x*2\n",
    "\n",
    "ret = map(multi_two,[1,2,3,4,5,6])\n",
    "print(type(ret))  # <class 'map'>\n",
    "print(list(ret))  # list로 형변환, map 객체로 데이터 접근시에 함수가 실제 호출됨"
   ]
  },
  {
   "cell_type": "code",
   "execution_count": 44,
   "metadata": {},
   "outputs": [
    {
     "name": "stdout",
     "output_type": "stream",
     "text": [
      "10\n",
      "a\n",
      "97\n",
      "4.124\n"
     ]
    }
   ],
   "source": [
    "print(abs(-10))  # 절대값\n",
    "print(chr(97))   # 아스키 코드를 문자로 변환\n",
    "print(ord('a'))  # 문자를 아스키 코드로 변환\n",
    "print(round(4.12355,3)) # 반올림해서 소수점 자리수대로 반환"
   ]
  },
  {
   "cell_type": "code",
   "execution_count": 46,
   "metadata": {},
   "outputs": [
    {
     "name": "stdout",
     "output_type": "stream",
     "text": [
      "[2, 4, 6, 8, 10, 12]\n"
     ]
    }
   ],
   "source": [
    "# Quiz 2 : 아래 코드를 람다 함수를 사용하여 구현해 보세요(def를 사용하지 않고 람다식으로 함수객체 생성)\n",
    "# def multi_two(x):\n",
    "#     return x*2\n",
    "\n",
    "# ret = map(multi_two,[1,2,3,4,5,6])\n",
    "# print(list(ret))\n",
    "\n",
    "ret = map(lambda x:x*2,[1,2,3,4,5,6])\n",
    "print(list(ret))"
   ]
  },
  {
   "cell_type": "code",
   "execution_count": 48,
   "metadata": {},
   "outputs": [
    {
     "name": "stdout",
     "output_type": "stream",
     "text": [
      "Your Height(cm):175\n",
      "Your Weight(kg):80\n",
      "키 : 175cm  몸무게:  80kg\n",
      "비만도 : 125.5% (비만)\n"
     ]
    }
   ],
   "source": [
    "def calc_fat_ratio(height,weight):\n",
    "    std_weight = (height  - 100) * 0.85\n",
    "    fat_ratio = (weight/std_weight)*100\n",
    "    if fat_ratio <= 90:\n",
    "        fat_grade = '저체중'\n",
    "    elif fat_ratio > 90 and fat_ratio <= 110:\n",
    "        fat_grade = '정상'\n",
    "    elif fat_ratio > 110 and fat_ratio <= 120:\n",
    "        fat_grade = '과체중'\n",
    "    else:\n",
    "        fat_grade = '비만'\n",
    "    return fat_ratio,fat_grade\n",
    "\n",
    "def get_health_info():\n",
    "    height = int(input('Your Height(cm):'))\n",
    "    weight = int(input('Your Weight(kg):'))\n",
    "    fat_ratio,fat_grade = calc_fat_ratio(height,weight)\n",
    "    print('키 : {0:3}cm  몸무게: {1:3}kg'.format(height,weight))\n",
    "    print('비만도 : {0:>5.1f}% ({1})'.format(fat_ratio,fat_grade))\n",
    "\n",
    "get_health_info()"
   ]
  },
  {
   "cell_type": "code",
   "execution_count": null,
   "metadata": {},
   "outputs": [],
   "source": []
  }
 ],
 "metadata": {
  "kernelspec": {
   "display_name": "Python 3",
   "language": "python",
   "name": "python3"
  },
  "language_info": {
   "codemirror_mode": {
    "name": "ipython",
    "version": 3
   },
   "file_extension": ".py",
   "mimetype": "text/x-python",
   "name": "python",
   "nbconvert_exporter": "python",
   "pygments_lexer": "ipython3",
   "version": "3.7.6"
  }
 },
 "nbformat": 4,
 "nbformat_minor": 4
}
