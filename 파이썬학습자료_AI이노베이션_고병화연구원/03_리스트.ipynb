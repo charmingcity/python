{
 "cells": [
  {
   "cell_type": "markdown",
   "metadata": {},
   "source": [
    "### 리스트(list) : 가변형(mutable), 시퀀스, 가장 유용한 자료형, []:대괄호 , 요소의 중복허용"
   ]
  },
  {
   "cell_type": "code",
   "execution_count": 3,
   "metadata": {},
   "outputs": [
    {
     "name": "stdout",
     "output_type": "stream",
     "text": [
      "[1, 2, 3, 4, 5, 6]\n",
      "<class 'list'>\n",
      "['a', 'hello', 1, 3.5, [1, 2, 3, 4, 5, 6], 3.5, 1]\n"
     ]
    }
   ],
   "source": [
    "a = [1,2,3,4,5,6]\n",
    "print(a)\n",
    "print(type(a)) # <class 'list'>\n",
    "\n",
    "b = ['a','hello',1,3.5,a,3.5,1]\n",
    "print(b)"
   ]
  },
  {
   "cell_type": "code",
   "execution_count": 10,
   "metadata": {},
   "outputs": [
    {
     "name": "stdout",
     "output_type": "stream",
     "text": [
      "1 2 3 6 5 2 1\n",
      "[10, 2, 3, 4, 5, 6]\n",
      "0\n",
      "['hi', 20, 0, 0]\n"
     ]
    }
   ],
   "source": [
    "# list의 인덱싱\n",
    "a = [1,2,3,4,5,6]\n",
    "print(a[0],a[1],a[2],a[-1],a[-2],a[True],a[False])\n",
    "\n",
    "a[0] = 10  #  가변형이므로 요소 변경이 가능하다\n",
    "print(a)\n",
    "\n",
    "a = [0,0,0,0]\n",
    "print(a[0])\n",
    "a[0] = 'hi'\n",
    "a[1] = 20\n",
    "print(a)"
   ]
  },
  {
   "cell_type": "code",
   "execution_count": 46,
   "metadata": {},
   "outputs": [
    {
     "name": "stdout",
     "output_type": "stream",
     "text": [
      "[1, 2, 3, 4, 5, 6] <class 'list'>\n",
      "[1, 2, 3, 4, 5, 6]\n",
      "[2]\n",
      "2\n",
      "[1, 4]\n",
      "[6, 5, 4, 3, 2, 1]\n",
      "[1, 8, 9, 10, 4, 5, 6]\n",
      "[1, 20, 30, 9, 10, 4, 5, 6]\n"
     ]
    }
   ],
   "source": [
    "# list의 슬라이싱 : a[start:end + 1:step]\n",
    "a = [1,2,3,4,5,6]\n",
    "print(a,type(a))\n",
    "\n",
    "print(a[:])\n",
    "print(a[1:2]) # list   [2]\n",
    "print(a[1])   # int ,scalar\n",
    "\n",
    "# str1 = 'Life'\n",
    "# print(type(str1[1:2])) # str\n",
    "# print(type(str1[1]))   # str\n",
    "\n",
    "print(a[::3])\n",
    "print(a[::-1])  # 요소의 순서를 거꾸로 변경\n",
    "\n",
    "a[1:3] = [8,9,10]  # 가변형이므로 요소 변경이 가능하다\n",
    "print(a)\n",
    "\n",
    "a[1:2] = [20,30]\n",
    "print(a)"
   ]
  },
  {
   "cell_type": "code",
   "execution_count": 47,
   "metadata": {},
   "outputs": [],
   "source": [
    "# 불변형 : 숫자형,문자열, 튜플\n",
    "# 가변형 : 리스트,사전, 집합"
   ]
  },
  {
   "cell_type": "code",
   "execution_count": 63,
   "metadata": {},
   "outputs": [
    {
     "name": "stdout",
     "output_type": "stream",
     "text": [
      "[0, 1, 2, 3, 4, 5, 6, 7, 8, 9]\n",
      "[0, 1, 2, 3, 4, 5, 6, 7, 8, 9]\n",
      "[0, 1, 2, 3, 4, 5, 6, 7, 8, 9]\n",
      "[-10, -8, -6, -4, -2, 0, 2, 4, 6, 8, 10]\n",
      "[0, 2, 4, 6, 8, 10, 12, 14, 16, 18, 20, 22, 24, 26, 28, 30, 32, 34, 36, 38, 40, 42, 44, 46, 48, 50, 52, 54, 56, 58, 60, 62, 64, 66, 68, 70, 72, 74, 76, 78, 80, 82, 84, 86, 88, 90, 92, 94, 96, 98, 100]\n",
      "[1, 3, 5, 7, 9, 11, 13, 15, 17, 19, 21, 23, 25, 27, 29, 31, 33, 35, 37, 39, 41, 43, 45, 47, 49, 51, 53, 55, 57, 59, 61, 63, 65, 67, 69, 71, 73, 75, 77, 79, 81, 83, 85, 87, 89, 91, 93, 95, 97, 99]\n"
     ]
    }
   ],
   "source": [
    "# range(start,end + 1,step)\n",
    "print(list(range(0,10,1)))\n",
    "print(list(range(10)))\n",
    "print(list(range(0,10)))\n",
    "\n",
    "print(list(range(-10,11,2)))\n",
    "\n",
    "print(list(range(0,101,2)))   # 0 ~ 100 까지 짝수\n",
    "print(list(range(1,101,2)))   # 0 ~ 100 까지 홀수"
   ]
  },
  {
   "cell_type": "code",
   "execution_count": 75,
   "metadata": {},
   "outputs": [
    {
     "name": "stdout",
     "output_type": "stream",
     "text": [
      "<class 'list'>\n",
      "10\n",
      "55\n",
      "1\n",
      "10\n"
     ]
    }
   ],
   "source": [
    "a = [1,2,3,4,5,6,7,8,9,10]  # list(range(1,11))\n",
    "print(type(a))\n",
    "print(len(a))  # 요소의 갯수, byte size가 아니다\n",
    "print(sum(a))  # 요소의 합\n",
    "print(min(a))  # 최소값\n",
    "print(max(a))  # 최대값"
   ]
  },
  {
   "cell_type": "code",
   "execution_count": 81,
   "metadata": {},
   "outputs": [
    {
     "name": "stdout",
     "output_type": "stream",
     "text": [
      "[1, 2, 3, 3, 4, 5]\n",
      "[1, 2, 3, 1, 2, 3, 1, 2, 3, 1, 2, 3, 1, 2, 3]\n",
      "[1, 2, 3, 1, 2, 3, 1, 2, 3, 1, 2, 3, 1, 2, 3]\n"
     ]
    }
   ],
   "source": [
    "# list 연산 : + , *\n",
    "a = [1,2,3]\n",
    "b = [3,4,5]\n",
    "c = a + b\n",
    "print(c)\n",
    "\n",
    "print(a*5)\n",
    "print(a + a + a + a + a)"
   ]
  },
  {
   "cell_type": "code",
   "execution_count": 89,
   "metadata": {},
   "outputs": [
    {
     "name": "stdout",
     "output_type": "stream",
     "text": [
      "True\n",
      "False\n",
      "[4, 5]\n"
     ]
    }
   ],
   "source": [
    "a = [1,2,3]\n",
    "print(3 in a) # 리스트 a 내에 요소 3이 들어 있는가?, True/False를 반환 \n",
    "print(4 in a)\n",
    "\n",
    "# s = 'abc'\n",
    "# del s[0]  # TypeError, 불변형이므로 요소 삭제가 불가능하다\n",
    "b = [3,4,5]\n",
    "del b[0]   # 가변형이므로 요소 삭제가 가능하다\n",
    "print(b)"
   ]
  },
  {
   "cell_type": "code",
   "execution_count": 117,
   "metadata": {},
   "outputs": [
    {
     "name": "stdout",
     "output_type": "stream",
     "text": [
      "[1, 2, 3, 4]\n",
      "None\n",
      "[1, 2, 3, 4, 5, 6, 7]\n"
     ]
    }
   ],
   "source": [
    "# list의 연산자\n",
    "# 추가\n",
    "a = [1,2,3]\n",
    "# a[3:4] = [4]\n",
    "b = a.append(4)  # 원본이 변경되고 None을 반환하므로 b를 사용할 필요가 없다\n",
    "print(a)\n",
    "print(b)  # None : 데이터 타입이 정해지지 않은 객체\n",
    "\n",
    "a[4:] = [5,6,7]     # 여러 개를 추가\n",
    "# a.append([4,5,6])  # 요소에 리스트 [4,5,6]를 추가\n",
    "print(a)"
   ]
  },
  {
   "cell_type": "code",
   "execution_count": 129,
   "metadata": {},
   "outputs": [
    {
     "name": "stdout",
     "output_type": "stream",
     "text": [
      "[]\n",
      "[0, 10, 20, 30, 40, 50, 60, 70, 80, 90]\n"
     ]
    }
   ],
   "source": [
    "a = [] # 빈 리스트\n",
    "print(a)\n",
    "# a[0] = 10  # IndexError \n",
    "for k in range(10):\n",
    "    k = k*10\n",
    "    a.append(k)\n",
    "print(a)"
   ]
  },
  {
   "cell_type": "code",
   "execution_count": 126,
   "metadata": {},
   "outputs": [
    {
     "name": "stdout",
     "output_type": "stream",
     "text": [
      "[1, 2, 2.5, 3, 4, 5]\n"
     ]
    }
   ],
   "source": [
    "# 삽입\n",
    "# insert(인덱스,데이터)\n",
    "a = [1,2,3,4,5]\n",
    "a.insert(2,2.5)\n",
    "print(a)"
   ]
  },
  {
   "cell_type": "code",
   "execution_count": 134,
   "metadata": {},
   "outputs": [
    {
     "data": {
      "text/plain": [
       "[1.5, 2.5, 1.5]"
      ]
     },
     "execution_count": 134,
     "metadata": {},
     "output_type": "execute_result"
    }
   ],
   "source": [
    "a = []\n",
    "a.insert(1,1.5)  # OK!!\n",
    "a.insert(1,2.5)  \n",
    "a.insert(10,1.5) # OK!!\n",
    "a"
   ]
  },
  {
   "cell_type": "code",
   "execution_count": 151,
   "metadata": {},
   "outputs": [
    {
     "name": "stdout",
     "output_type": "stream",
     "text": [
      "[1, 2, 4, 5, [6, 7]]\n",
      "[1, 2, 4, 5]\n"
     ]
    }
   ],
   "source": [
    "# 제거\n",
    "a = [1,2,3.5,4,5,[6,7]]\n",
    "a.remove(3.5)  # 원하는 요소를 제거  , 3.5는 인덱스가 아님\n",
    "print(a)\n",
    "a.remove([6,7])\n",
    "print(a)"
   ]
  },
  {
   "cell_type": "code",
   "execution_count": 153,
   "metadata": {},
   "outputs": [
    {
     "name": "stdout",
     "output_type": "stream",
     "text": [
      "[1, 2, 3.5, 4, 5, 6]\n",
      "[1, 2, 3.5, 4, 5]\n",
      "[1, 3.5, 4, 5]\n"
     ]
    }
   ],
   "source": [
    "a = [1,2,3.5,4,5,6,7]\n",
    "a.pop() # 마지막 요소를 제거\n",
    "print(a)\n",
    "a.pop() # 마지막 요소를 제거\n",
    "print(a)\n",
    "a.pop(1) # 인덱스를 넣어 삭제, 1번 요소를 제거 , del a[1]\n",
    "print(a)"
   ]
  },
  {
   "cell_type": "code",
   "execution_count": 156,
   "metadata": {},
   "outputs": [
    {
     "name": "stdout",
     "output_type": "stream",
     "text": [
      "[1, 5, 2, 4, 3]\n",
      "[1, 2, 3, 4, 5]\n",
      "[5, 4, 3, 2, 1]\n"
     ]
    }
   ],
   "source": [
    "# 정렬\n",
    "a = [1,5,2,4,3]\n",
    "print(a)\n",
    "a.sort()    # 오름차순\n",
    "print(a)\n",
    "\n",
    "a.sort(reverse=True)    # 내림 차순\n",
    "print(a)"
   ]
  },
  {
   "cell_type": "code",
   "execution_count": 170,
   "metadata": {},
   "outputs": [
    {
     "name": "stdout",
     "output_type": "stream",
     "text": [
      "0\n",
      "False\n"
     ]
    }
   ],
   "source": [
    "a = [10,20,30,40]\n",
    "print(a.index(10)) # 요소 10의 인덱스 값을 반환\n",
    "# a.index(50) # ValueError\n",
    "print(50 in a)  # False"
   ]
  },
  {
   "cell_type": "code",
   "execution_count": 175,
   "metadata": {},
   "outputs": [
    {
     "name": "stdout",
     "output_type": "stream",
     "text": [
      "[10, 20, 30, 40]\n",
      "[40, 30, 20, 10]\n",
      "[10, 20, 30, 40]\n",
      "[40, 30, 20, 10]\n"
     ]
    }
   ],
   "source": [
    "print(a)\n",
    "print(a[::-1])  # 원본은 변경 안되고 반환\n",
    "print(a)\n",
    "a.reverse()    # 원본이 변경\n",
    "print(a)"
   ]
  },
  {
   "cell_type": "code",
   "execution_count": 176,
   "metadata": {},
   "outputs": [
    {
     "name": "stdout",
     "output_type": "stream",
     "text": [
      "[1, 2, 3, 4, 5, 6]\n"
     ]
    }
   ],
   "source": [
    "a = [1,2,3]\n",
    "b = [4,5,6]\n",
    "a.extend(b)  # a = a + b\n",
    "print(a)"
   ]
  },
  {
   "cell_type": "code",
   "execution_count": 194,
   "metadata": {},
   "outputs": [
    {
     "name": "stdout",
     "output_type": "stream",
     "text": [
      "0\n",
      "2\n",
      "4\n",
      "6\n",
      "8\n",
      "10\n",
      "30\n",
      "[6, 8, 10]\n"
     ]
    }
   ],
   "source": [
    "# for문 , if문 사용\n",
    "# from 0 to 10 짝수의 합\n",
    "# sum(list(range(0,11,2)))\n",
    "total = 0\n",
    "a = []\n",
    "for k in range(0,11,2): # 전통적인 스타일\n",
    "    print(k)\n",
    "    if k > 4:\n",
    "        a.append(k)\n",
    "    total += k\n",
    "print(total)\n",
    "print(a)"
   ]
  },
  {
   "cell_type": "code",
   "execution_count": 192,
   "metadata": {},
   "outputs": [
    {
     "name": "stdout",
     "output_type": "stream",
     "text": [
      "[0, 2, 4, 6, 8, 10]\n",
      "30\n",
      "[0, 1, 2, 3, 4, 5, 6, 7, 8, 9]\n"
     ]
    }
   ],
   "source": [
    "# 리스트 내장(List Comprehension) : 파이썬 스타일(pythonic) ,필수 암기\n",
    "a = [k for k in range(0,11,2)]\n",
    "print(a)\n",
    "print(sum(a))\n",
    "\n",
    "b = [k for k in range(10)]\n",
    "print(b)"
   ]
  },
  {
   "cell_type": "code",
   "execution_count": 203,
   "metadata": {},
   "outputs": [
    {
     "name": "stdout",
     "output_type": "stream",
     "text": [
      "[0, 1, 2, 3, 4, 5, 6, 7, 8, 9]\n",
      "[5, 6, 7, 8, 9]\n"
     ]
    }
   ],
   "source": [
    "# 조건식이 포함된 리스트 내장\n",
    "a = list(range(10))\n",
    "print(a)\n",
    "\n",
    "b = [k for k in range(10) if k > 4]\n",
    "print(b)"
   ]
  },
  {
   "cell_type": "code",
   "execution_count": 205,
   "metadata": {},
   "outputs": [
    {
     "data": {
      "text/plain": [
       "[0, 3, 6, 9]"
      ]
     },
     "execution_count": 205,
     "metadata": {},
     "output_type": "execute_result"
    }
   ],
   "source": [
    "c = [k for k in a if k%3 == 0]  # 3의 배수로만 리스트를 생성\n",
    "c"
   ]
  },
  {
   "cell_type": "code",
   "execution_count": 206,
   "metadata": {},
   "outputs": [
    {
     "data": {
      "text/plain": [
       "[1, 2, 4, 5, 7, 8]"
      ]
     },
     "execution_count": 206,
     "metadata": {},
     "output_type": "execute_result"
    }
   ],
   "source": [
    "c = [k for k in a if k%3 != 0]  # 3의 배수가 아닌 수로 리스트를 생성\n",
    "c"
   ]
  },
  {
   "cell_type": "code",
   "execution_count": 207,
   "metadata": {},
   "outputs": [
    {
     "data": {
      "text/plain": [
       "[6, 9]"
      ]
     },
     "execution_count": 207,
     "metadata": {},
     "output_type": "execute_result"
    }
   ],
   "source": [
    "c = [k for k in a if (k%3 == 0) & (k > 4)]  # 3의 배수이고 4보다 큰수로 리스트를 생성\n",
    "c"
   ]
  },
  {
   "cell_type": "code",
   "execution_count": 229,
   "metadata": {},
   "outputs": [
    {
     "name": "stdout",
     "output_type": "stream",
     "text": [
      "[5, 6, 7, 'hello']\n",
      "6\n",
      "hello\n",
      "h\n",
      "h\n",
      "4\n"
     ]
    },
    {
     "data": {
      "text/plain": [
       "2"
      ]
     },
     "execution_count": 229,
     "metadata": {},
     "output_type": "execute_result"
    }
   ],
   "source": [
    "# 중첩(Nested) 리스트 : 리스트안에 또 다른 리스트가 포함됨\n",
    "a = [1,2,3,4,[5,6,7,'hello']]\n",
    "print(a[4])\n",
    "print(a[4][1])\n",
    "print(a[4][3])\n",
    "print(a[4][3][0])\n",
    "\n",
    "print('hello'[0])\n",
    "print([1,2,3,4][3])\n",
    "a[a[[0,1,2,[1,2,3,4,[0,1,2]]][3][4][:-1][0]]] # 복잡한 표현도 분해해서 해석"
   ]
  },
  {
   "cell_type": "code",
   "execution_count": 11,
   "metadata": {},
   "outputs": [
    {
     "name": "stdout",
     "output_type": "stream",
     "text": [
      "========================4=========================\n",
      "Input number1 : 2000\n",
      "Input number2 : 3000\n",
      "Input operator( 1:+, 2:-, 3:*, 4:/ ) : 1\n",
      "\n",
      " 2000   +   3000  = 5000.00\n"
     ]
    }
   ],
   "source": [
    "# LIST실습문제.py\n",
    "# 1번 답안\n",
    "print( '{0:=^50}'.format( '4' ) )\n",
    "op = [ '+', '-', '*', '/' ]\n",
    "number1 = input( 'Input number1 : ' )\n",
    "number2 = input( 'Input number2 : ' )\n",
    "op_select = int( input(\n",
    "    'Input operator( 1:+, 2:-, 3:*, 4:/ ) : ' ) )\n",
    "\n",
    "index = op_select - 1\n",
    "result = eval( number1 + op[ index ] + number2 )\n",
    "\n",
    "print()\n",
    "# print( 'number1 : {0:^6}'.format( number1 ) )\n",
    "# print( 'number2 : {0:^6}'.format( number2 ) )\n",
    "print( '{0:^6} {2:^3} {1:^6} = {3:<.2f}'.format(\n",
    "    number1, number2, op[ index ], result ) )"
   ]
  },
  {
   "cell_type": "code",
   "execution_count": 4,
   "metadata": {},
   "outputs": [
    {
     "name": "stdout",
     "output_type": "stream",
     "text": [
      "========================5=========================\n",
      "Input max number : 100\n",
      "\n",
      "[1, 2, 3, 4, 5, 6, 7, 8, 9, 10, 11, 12, 13, 14, 15, 16, 17, 18, 19, 20, 21, 22, 23, 24, 25, 26, 27, 28, 29, 30, 31, 32, 33, 34, 35, 36, 37, 38, 39, 40, 41, 42, 43, 44, 45, 46, 47, 48, 49, 50, 51, 52, 53, 54, 55, 56, 57, 58, 59, 60, 61, 62, 63, 64, 65, 66, 67, 68, 69, 70, 71, 72, 73, 74, 75, 76, 77, 78, 79, 80, 81, 82, 83, 84, 85, 86, 87, 88, 89, 90, 91, 92, 93, 94, 95, 96, 97, 98, 99, 100]\n",
      "1 ~  100   = 5050    \n"
     ]
    }
   ],
   "source": [
    "# 2번 답안\n",
    "print( '{0:=^50}'.format( '5' ) )\n",
    "max_number = int( input( 'Input max number : ' ) )\n",
    "\n",
    "l = list( range( 1, max_number + 1 ) )\n",
    "\n",
    "print()\n",
    "print( l )\n",
    "print( '1 ~ {0:^6} = {1:<8}'.format(max_number, sum( l )))"
   ]
  },
  {
   "cell_type": "code",
   "execution_count": 7,
   "metadata": {},
   "outputs": [
    {
     "name": "stdout",
     "output_type": "stream",
     "text": [
      "========================3=========================\n",
      "Input max number : 100\n",
      "\n",
      "even number :  [2, 4, 6, 8, 10, 12, 14, 16, 18, 20, 22, 24, 26, 28, 30, 32, 34, 36, 38, 40, 42, 44, 46, 48, 50, 52, 54, 56, 58, 60, 62, 64, 66, 68, 70, 72, 74, 76, 78, 80, 82, 84, 86, 88, 90, 92, 94, 96, 98, 100]\n",
      "1 ~  100   = 2550    \n",
      "\n",
      "odd number :  [1, 3, 5, 7, 9, 11, 13, 15, 17, 19, 21, 23, 25, 27, 29, 31, 33, 35, 37, 39, 41, 43, 45, 47, 49, 51, 53, 55, 57, 59, 61, 63, 65, 67, 69, 71, 73, 75, 77, 79, 81, 83, 85, 87, 89, 91, 93, 95, 97, 99]\n",
      "1 ~  100   = 2500    \n"
     ]
    }
   ],
   "source": [
    "# 3번 답안\n",
    "print( '{0:=^50}'.format( '3' ) )\n",
    "max_number = int( input( 'Input max number : ' ) )\n",
    "\n",
    "# even = list( range( 2, max_number + 1, 2 ) )\n",
    "# odd = list( range( 1, max_number + 1, 2 ) )\n",
    "even  = [k for k in range( 2, max_number + 1)\n",
    "         if k % 2 == 0]\n",
    "odd  = [k for k in range( 1, max_number + 1)\n",
    "         if k % 2 != 0]\n",
    "print()\n",
    "print( 'even number : ', even )\n",
    "print( '1 ~ {0:^6} = {1:<8}\\n'.format( max_number,\n",
    "                                       sum( even ) ) )\n",
    "\n",
    "print( 'odd number : ', odd )\n",
    "print( '1 ~ {0:^6} = {1:<8}'.format( max_number,\n",
    "                                     sum( odd ) ) )"
   ]
  },
  {
   "cell_type": "code",
   "execution_count": 8,
   "metadata": {},
   "outputs": [
    {
     "name": "stdout",
     "output_type": "stream",
     "text": [
      "========================4=========================\n",
      "Input max number : 100\n",
      "\n",
      "Multiple of 3 :  [3, 6, 9, 12, 15, 18, 21, 24, 27, 30, 33, 36, 39, 42, 45, 48, 51, 54, 57, 60, 63, 66, 69, 72, 75, 78, 81, 84, 87, 90, 93, 96, 99] \n",
      "\n",
      "Multiple of 5 :  [5, 10, 15, 20, 25, 30, 35, 40, 45, 50, 55, 60, 65, 70, 75, 80, 85, 90, 95, 100] \n",
      "\n",
      "Excluding Multiple of 3 and 5 :  [1, 2, 4, 7, 8, 11, 13, 14, 16, 17, 19, 22, 23, 26, 28, 29, 31, 32, 34, 37, 38, 41, 43, 44, 46, 47, 49, 52, 53, 56, 58, 59, 61, 62, 64, 67, 68, 71, 73, 74, 76, 77, 79, 82, 83, 86, 88, 89, 91, 92, 94, 97, 98]\n",
      "sum = 2632  \n"
     ]
    }
   ],
   "source": [
    "# 4번 답안\n",
    "print( '{0:=^50}'.format( '4' ) )\n",
    "max_number = int( input( 'Input max number : ' ) )\n",
    "\n",
    "l3 = [ x for x in range( 1, max_number + 1 ) if x % 3 == 0 ]\n",
    "l5 = [ x for x in range( 1, max_number + 1 ) if x % 5 == 0 ]\n",
    "l = [ x for x in range( 1, max_number + 1 ) if x % 3 != 0\n",
    "      and x % 5 != 0 ]\n",
    "\n",
    "print()\n",
    "\n",
    "print( 'Multiple of 3 : ', l3, '\\n' )\n",
    "print( 'Multiple of 5 : ', l5, '\\n' )\n",
    "print( 'Excluding Multiple of 3 and 5 : ', l )\n",
    "print( 'sum = {0:<6}'.format( sum( l ) ) )"
   ]
  },
  {
   "cell_type": "code",
   "execution_count": null,
   "metadata": {},
   "outputs": [],
   "source": []
  }
 ],
 "metadata": {
  "kernelspec": {
   "display_name": "Python 3",
   "language": "python",
   "name": "python3"
  },
  "language_info": {
   "codemirror_mode": {
    "name": "ipython",
    "version": 3
   },
   "file_extension": ".py",
   "mimetype": "text/x-python",
   "name": "python",
   "nbconvert_exporter": "python",
   "pygments_lexer": "ipython3",
   "version": "3.7.6"
  }
 },
 "nbformat": 4,
 "nbformat_minor": 4
}
