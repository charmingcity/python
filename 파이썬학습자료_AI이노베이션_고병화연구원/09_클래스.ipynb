{
 "cells": [
  {
   "cell_type": "markdown",
   "metadata": {},
   "source": [
    "### 클래스(class)"
   ]
  },
  {
   "cell_type": "code",
   "execution_count": null,
   "metadata": {},
   "outputs": [],
   "source": [
    "파이썬 클래스 관련 용어\n",
    "(1) 클래스(class) : class 문으로 정의하며, 멤버와 메서드를 가지는 객체이다, 새로운 이름 공간을 갖는 단위\n",
    "(2) 클래스 객체(class object) : 클래스와 같은 의미\n",
    "\n",
    "(3) 클래스 인스턴스  : 클래스를 호출하여 생성된 객체  \n",
    "(4) 클래스 인스턴스 객체 : 클래스 인스턴스와 같은 의미\n",
    "\n",
    "(5) 멤버 : 클래스 혹은 클래스 인스턴스 공간에 정의 된 변수\n",
    "(6) 메서드 : 클래스 공간에 정의된 함수, def 사용\n",
    "(7) 속성(Attribute) : 멤버와 메서드 전체를 가리킨다\n",
    "\n",
    "(8) 상속 : 상위 클래스의 속성과 행동을 그대로 받아들이고 추가로 필요한 기능을 덧 붙이는것   "
   ]
  },
  {
   "cell_type": "code",
   "execution_count": 15,
   "metadata": {},
   "outputs": [
    {
     "name": "stdout",
     "output_type": "stream",
     "text": [
      "<class '__main__.Simple'>\n",
      "<__main__.Simple object at 0x00000218CCA486C8>\n",
      "<__main__.Simple object at 0x00000218CCA48308>\n"
     ]
    }
   ],
   "source": [
    "# class 클래스 이름:\n",
    "#           속성 ....\n",
    "\n",
    "\n",
    "# 클래스 생성\n",
    "class Simple :\n",
    "    pass\n",
    "\n",
    "print(Simple)\n",
    "\n",
    "# 인스턴스의 생성\n",
    "s1 = Simple()\n",
    "print(s1)\n",
    "\n",
    "s2 = Simple()\n",
    "print(s2)\n",
    "\n",
    "# 인스턴스의 삭제(소멸) : 파이썬에서는 종료시 자동으로 소멸\n",
    "del s1\n",
    "# print(s1)  # NameError "
   ]
  },
  {
   "cell_type": "code",
   "execution_count": 14,
   "metadata": {},
   "outputs": [
    {
     "name": "stdout",
     "output_type": "stream",
     "text": [
      "100\n",
      "[1, 2, 3, 4]\n",
      "Hi\n",
      "300\n",
      "300\n",
      "500\n",
      "300\n",
      "300\n",
      "700\n",
      "500\n",
      "300\n"
     ]
    }
   ],
   "source": [
    "# 멤버 접근 :  클래스 멤버와 인스턴스 멤버\n",
    "\n",
    "# (1) 클래스 멤버의 구현과 접근 방법\n",
    "class MyClass:\n",
    "    cl_mem = 100\n",
    "    cl_list = [1,2,3,4]\n",
    "    a = 'Hi'\n",
    "\n",
    "# 클래스 객체를 통해서 접근\n",
    "print(MyClass.cl_mem)\n",
    "print(MyClass.cl_list)\n",
    "print(MyClass.a)\n",
    "\n",
    "# 변경\n",
    "MyClass.cl_mem = 300\n",
    "print(MyClass.cl_mem)\n",
    "\n",
    "# 인스턴스 객체를 통해서 접근\n",
    "m1 = MyClass()\n",
    "print(m1.cl_mem)       # 300\n",
    "m1.cl_mem = 500\n",
    "print(m1.cl_mem)       # 500\n",
    "print(MyClass.cl_mem)  # 300 , 인스턴스 객체에서 변경한 값이 클래스 멤버 값에 영향을 주지 않는다\n",
    "\n",
    "m2 = MyClass()\n",
    "print(m2.cl_mem)       # 300\n",
    "m2.cl_mem = 700\n",
    "print(m2.cl_mem)       # 700\n",
    "print(m1.cl_mem)       # 500\n",
    "print(MyClass.cl_mem)  # 300"
   ]
  },
  {
   "cell_type": "code",
   "execution_count": 38,
   "metadata": {},
   "outputs": [
    {
     "name": "stdout",
     "output_type": "stream",
     "text": [
      "MyClass2 생성자가 호출됨\n",
      "__init_: <__main__.MyClass2 object at 0x00000218CD4F3288> 10 20\n",
      "m1:      <__main__.MyClass2 object at 0x00000218CD4F3288>\n"
     ]
    }
   ],
   "source": [
    "# (2) 인스턴스 멤버의 구현과 접근\n",
    "# 클래스의 메서드 내에 구현한 멤버\n",
    "\n",
    "# 생성자 메서드의 구현,self는 파이썬 내장 예약어는 아님,생성된 인스턴스 객체 자신을 가리키는 변수로 self를 사용함\n",
    "class MyClass2:\n",
    "    def __init__(self,a,b): # 생성자 메서드 , 인스턴스 객체를 생성할 때 자동으로 호출, 인스턴스 멤버 초기화\n",
    "                            # 변수명을 self 대신 다른 이름으로 써도 가능하다                        \n",
    "        print('MyClass2 생성자가 호출됨')\n",
    "        print('__init_:',self,a,b)    \n",
    "\n",
    "m1 = MyClass2(10,20)   # __init__메서드의 a,b로 각각 10,20이 각각 전달됨\n",
    "print('m1:     ',m1)   # __init__메서드로 전달된 self와 m1이 같은 값임\n"
   ]
  },
  {
   "cell_type": "code",
   "execution_count": 49,
   "metadata": {},
   "outputs": [
    {
     "name": "stdout",
     "output_type": "stream",
     "text": [
      "MyClass2 생성자가 호출됨\n",
      "0\n",
      "50\n",
      "1\n",
      "80\n",
      "MyClass2 생성자가 호출됨\n",
      "0\n",
      "Hi\n",
      "1\n",
      "80\n"
     ]
    }
   ],
   "source": [
    "# 인스턴스 멤버의 구현(생성)과 초기화\n",
    "class MyClass2:\n",
    "    def __init__(self,var1): # 생성자 메서드 , 인스턴스 객체를 생성할 때 자동으로 호출, 인스턴스 멤버 초기화\n",
    "        print('MyClass2 생성자가 호출됨')\n",
    "        self.in_mem = 0     # 인스턴스 멤버를 생성, 초기화\n",
    "        self.in_list = [0]  # 인스턴스 멤버를 생성, 초기화\n",
    "        self.a = var1       # 인스턴스 멤버를 생성, 초기화\n",
    "\n",
    "m1 = MyClass2(50) # 인스턴스 생성 \n",
    "print(m1.in_mem)  # 인스턴스 멤버의 접근 ,인스턴스를 통해서 접근 가능\n",
    "print(m1.a) \n",
    "m1.in_mem = 1     # 인스턴스 멤버의 변경 , 인스턴스를 통해서 접근 가능\n",
    "m1.a = 80         # 인스턴스 멤버의 변경 , 인스턴스를 통해서 접근 가능\n",
    "print(m1.in_mem)  # 1 \n",
    "print(m1.a)       # 80\n",
    "\n",
    "m2 = MyClass2('Hi')\n",
    "print(m2.in_mem)  # 인스턴스 멤버의 접근 ,인스턴스를 통해서 접근 가능\n",
    "print(m2.a) \n",
    "m2.in_mem = 2\n",
    "print(m1.in_mem)  # 1 \n",
    "print(m1.a)       # 80"
   ]
  },
  {
   "cell_type": "code",
   "execution_count": 68,
   "metadata": {},
   "outputs": [
    {
     "name": "stdout",
     "output_type": "stream",
     "text": [
      "MyClass2 생성자가 호출됨\n",
      "0 0\n",
      "set 메서드가 호출됨\n",
      "30 40\n",
      "get 메서드가 호출됨\n",
      "(30, [0], 40)\n",
      "MyClass2 생성자가 호출됨\n",
      "0 0\n",
      "MyClass2 소멸자가 호출됨\n"
     ]
    }
   ],
   "source": [
    "# 인스턴스 메서드의 구현 : 생성된 인스턴스를 통해서 호출이 가능\n",
    "class MyClass2:\n",
    "    def __init__(self,var1): # 생성자 메서드 , 인스턴스 객체를 생성할 때 자동으로 호출, 인스턴스 멤버 초기화\n",
    "        print('MyClass2 생성자가 호출됨')\n",
    "        self.in_mem = 0     # 인스턴스 멤버를 생성, 초기화\n",
    "        self.in_list = [0]  # 인스턴스 멤버를 생성, 초기화\n",
    "        self.a = var1       # 인스턴스 멤버를 생성, 초기화\n",
    "        self.s = Simple()\n",
    "        \n",
    "    def set(self,var1,var2): # 인스턴스 메서드\n",
    "        print('set 메서드가 호출됨')\n",
    "        self.in_mem = var1   # 인스턴스 멤버의 변경\n",
    "        self.a = var2        # 인스턴스 멤버의 변경\n",
    "        \n",
    "    def get(self):           # 인스턴스 메서드\n",
    "        print('get 메서드가 호출됨')\n",
    "        return self.in_mem,self.in_list,self.a\n",
    "\n",
    "    def __del__(self): # 소멸자 , 인스턴스 삭제시 호출, 파이썬에서는 구현이 불필요\n",
    "        print('MyClass2 소멸자가 호출됨')\n",
    "\n",
    "m1 = MyClass2(0)\n",
    "print(m1.in_mem,m1.a)\n",
    "m1.set(30,40)           # 인스턴스 메서드의 호출\n",
    "print(m1.in_mem,m1.a)\n",
    "\n",
    "print(m1.get())\n",
    "\n",
    "m1.__init__(0)  # 인스턴스 객체가 생성 되는건 아님\n",
    "print(m1.in_mem,m1.a)\n",
    "del m1         # 인스턴스 삭제, 소멸자 호출\n",
    "# m1.__del__() # 소멸자만 호출됨, 인스턴스 객체는 삭제 되지 않음"
   ]
  },
  {
   "cell_type": "code",
   "execution_count": 76,
   "metadata": {},
   "outputs": [
    {
     "name": "stdout",
     "output_type": "stream",
     "text": [
      "30\n",
      "80\n"
     ]
    }
   ],
   "source": [
    "# 클래스 메서드와 정적 메서드 : 인스턴스 객체를 만들지 않아도 호출 가능\n",
    "\n",
    "# class MyClass:\n",
    "#     def add(self,a,b):  # 일반 메서드(인스턴스 메서드)\n",
    "#         return a + b\n",
    "# m1 = MyClass()    \n",
    "# m1.add(10,20)\n",
    "\n",
    "# 정적메서드(static method) : 메서드의 첫인수로 self를 받지 않는다, 반드시 장식자 @staticmethod를 사용 \n",
    "class MyClass:\n",
    "    @staticmethod\n",
    "    def add(a,b):           # 정적메서드\n",
    "        return a + b\n",
    "    \n",
    "print(MyClass.add(10,20))   # 인스턴스 객체 없이 클래스를 통하여 직접 호출   \n",
    "m1 = MyClass()    \n",
    "print(m1.add(30,50))        # 인스턴스 객체를 통하여 호출 가능"
   ]
  },
  {
   "cell_type": "code",
   "execution_count": 86,
   "metadata": {},
   "outputs": [
    {
     "name": "stdout",
     "output_type": "stream",
     "text": [
      "(30, '클래스')\n",
      "(80, '클래스')\n"
     ]
    }
   ],
   "source": [
    "# 클래스메서드(class method) : 메서드의 첫인수로 class를 받는다, 반드시 장식자 @classmethod를 사용 \n",
    "class MyClass:\n",
    "    cl_mem = '클래스'       # 클래스 멤버\n",
    "    @classmethod\n",
    "    def add(cls,a,b):      # 클래스 메서드, 클래스 멤버와 같이 사용, cls는 클래스 객체\n",
    "        return a + b,cls.cl_mem\n",
    "    \n",
    "print(MyClass.add(10,20))   # 인스턴스 객체 없이 클래스를 통하여 직접 호출   \n",
    "m1 = MyClass()    \n",
    "print(m1.add(30,50))        # 인스턴스 객체를 통하여 호출 가능"
   ]
  },
  {
   "cell_type": "markdown",
   "metadata": {},
   "source": [
    "\n",
    "### 클래스의 상속\n",
    "#### 클래스 A에서 상속된 클래스 B가 있다고 할때,\n",
    "#### 클래스 A를 기반(Base) 클래스, 부모(Parent) 클래스 또는 상위(Super) 클래스라고 하며,\n",
    "#### 클래스 B를 파생(Derived) 클래스, 자식(Child) 클래스 또는 하위(Sub) 클래스라 한다."
   ]
  },
  {
   "cell_type": "code",
   "execution_count": 87,
   "metadata": {},
   "outputs": [],
   "source": [
    "# 부모(상위,super) 클래스\n",
    "class Person:       \n",
    "    def __init__(self,name,phone=None):  # 생성자\n",
    "        self.name = name\n",
    "        self.phone = phone\n",
    "        \n",
    "    def get_info(self):\n",
    "        return self.name,self.phone"
   ]
  },
  {
   "cell_type": "code",
   "execution_count": 88,
   "metadata": {},
   "outputs": [
    {
     "name": "stdout",
     "output_type": "stream",
     "text": [
      "('홍길동', '010-1234-1234')\n"
     ]
    }
   ],
   "source": [
    "p = Person('홍길동','010-1234-1234')   # 인스턴스의 생성\n",
    "print(p.get_info())"
   ]
  },
  {
   "cell_type": "code",
   "execution_count": 89,
   "metadata": {},
   "outputs": [
    {
     "name": "stdout",
     "output_type": "stream",
     "text": [
      "(<class 'object'>,)\n"
     ]
    }
   ],
   "source": [
    "print(Person.__bases__)  # base 클래스를 모두 tuple로 반환 \n",
    "                         # 파이썬의 모든 클래스의 base 클래스는 object 이다."
   ]
  },
  {
   "cell_type": "code",
   "execution_count": 98,
   "metadata": {},
   "outputs": [],
   "source": [
    "# 자식(하위) 클래스\n",
    "class Employee(Person):                   # base 클래스는 괄호 안에 표현한\n",
    "    def __init__(self,name,phone,position,salary):\n",
    "#         self.name = name\n",
    "#         sel.phone = phone\n",
    "#         Person.__init__(slef,name,phone) # Person 클래스 생성자 호출\n",
    "          super().__init__(name,phone)     #  상위 클래스 생성자 호출\n",
    "          self.position = position\n",
    "          self.salary  = salary\n",
    "       \n",
    "\n",
    "    # 메서드의 확장\n",
    "    # 하위 클래스에서 그 속성을 변화시키지 위해서 상위 클래스의 메서드를 호출하고, \n",
    "    # 그 결과를 활용하는 것을 말한다.\n",
    "    def get_info(self):\n",
    "        ret = super().get_info()\n",
    "        return ret, self.position, self.salary        \n",
    "            \n",
    "#  super() 메서드 : 현재 클래스의 상위(수퍼) 클래스를 얻어 낸다        "
   ]
  },
  {
   "cell_type": "code",
   "execution_count": 97,
   "metadata": {},
   "outputs": [
    {
     "name": "stdout",
     "output_type": "stream",
     "text": [
      "(('김', '1111'), '과장', 500)\n",
      "(('홍', '2222'), '부장', 500)\n"
     ]
    }
   ],
   "source": [
    "m1 = Employee('김','1111','과장',500)\n",
    "print(m1.get_info())\n",
    "\n",
    "m2 = Employee('홍','2222','부장',500)\n",
    "print(m2.get_info())"
   ]
  },
  {
   "cell_type": "code",
   "execution_count": null,
   "metadata": {},
   "outputs": [],
   "source": []
  }
 ],
 "metadata": {
  "kernelspec": {
   "display_name": "Python 3",
   "language": "python",
   "name": "python3"
  },
  "language_info": {
   "codemirror_mode": {
    "name": "ipython",
    "version": 3
   },
   "file_extension": ".py",
   "mimetype": "text/x-python",
   "name": "python",
   "nbconvert_exporter": "python",
   "pygments_lexer": "ipython3",
   "version": "3.7.6"
  }
 },
 "nbformat": 4,
 "nbformat_minor": 4
}
