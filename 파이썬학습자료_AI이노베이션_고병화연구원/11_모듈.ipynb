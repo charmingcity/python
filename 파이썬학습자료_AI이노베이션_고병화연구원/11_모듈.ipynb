{
 "cells": [
  {
   "cell_type": "markdown",
   "metadata": {},
   "source": [
    "### 모듈\n",
    "#### : 함수나 변수 또는 클래스를 모아놓은 소스 파일 , xxx.py"
   ]
  },
  {
   "cell_type": "code",
   "execution_count": 4,
   "metadata": {},
   "outputs": [],
   "source": [
    "# # calculator.py\n",
    "# # 함수 정의\n",
    "# def add(a,b):\n",
    "#     c = a + b\n",
    "#     print('add called!!')\n",
    "#     return c\n",
    "\n",
    "# def subtract(a,b):\n",
    "#     c = a - b\n",
    "#     print('subtract called!!')\n",
    "#     return c\n",
    "\n",
    "# def multiply(a,b):\n",
    "#     c = a * b\n",
    "#     print('multiply called!!')\n",
    "#     return c\n",
    "\n",
    "# def divide(a,b):\n",
    "#     c = a / b\n",
    "#     print('divide called!!')\n",
    "#     return c\n",
    "    \n",
    "# if __name__ == '__main__':\n",
    "#     ret = add(10,20)\n",
    "#     print(ret)\n",
    "\n",
    "#     ret = subtract(10,20)\n",
    "#     print(ret)"
   ]
  },
  {
   "cell_type": "code",
   "execution_count": 3,
   "metadata": {},
   "outputs": [
    {
     "name": "stdout",
     "output_type": "stream",
     "text": [
      "add called!!\n",
      "30\n",
      "subtract called!!\n",
      "5\n"
     ]
    }
   ],
   "source": [
    "# 외부 모듈을 import : 함수로 구현된 모듈을 import\n",
    "import calculator as cl  # calculator 모듈을 가져옴, 이름을 cl로 접근 가능하게\n",
    "\n",
    "if __name__ == '__main__':\n",
    "    ret = cl.add(10,20)\n",
    "    print(ret)\n",
    "\n",
    "    ret = cl.subtract(10,5)\n",
    "    print(ret) "
   ]
  },
  {
   "cell_type": "code",
   "execution_count": 12,
   "metadata": {},
   "outputs": [],
   "source": [
    "# first.py (import second),  second.py ,   third.py\n",
    "# >> Python first.py     # __name__ 은 '__main__' , second.py의 __name__은 'second'\n",
    "# >> Python second.py    # second.py의 __name__은 '__main__'"
   ]
  },
  {
   "cell_type": "code",
   "execution_count": 7,
   "metadata": {},
   "outputs": [],
   "source": [
    "# 파이썬 외부 모듈(라이브러리) 설치 경로\n",
    "# C:\\Users\\사용자계정명\\Anaconda3\\Lib\\site-packages\n",
    "#  >> pip install tensorflow"
   ]
  },
  {
   "cell_type": "code",
   "execution_count": 10,
   "metadata": {},
   "outputs": [
    {
     "name": "stdout",
     "output_type": "stream",
     "text": [
      "add called!!\n"
     ]
    },
    {
     "data": {
      "text/plain": [
       "30"
      ]
     },
     "execution_count": 10,
     "metadata": {},
     "output_type": "execute_result"
    }
   ],
   "source": [
    "# 패키지나 모듈에서 일부 함수나 클래스를 가져오는 경우 \n",
    "from calculator import add\n",
    "from calculator import add,subtract\n",
    "from calculator import *\n",
    "add(10,20)"
   ]
  },
  {
   "cell_type": "code",
   "execution_count": 2,
   "metadata": {},
   "outputs": [
    {
     "name": "stdout",
     "output_type": "stream",
     "text": [
      "30\n",
      "10 20 30\n",
      "-10\n",
      "200\n",
      "0.5\n",
      "30 60 0.5\n"
     ]
    }
   ],
   "source": [
    "import calculator_class as clc   # class로 구현된 모듈을 import\n",
    "\n",
    "if __name__ == '__main__':\n",
    "    \n",
    "    c1 = clc.Calc()        # Calc 클래스의 인스턴스를 생성, 생성자 메서드가 호출됨\n",
    "    \n",
    "    ret = c1.add(10,20)    # 인스턴스 메서드 add를 호출\n",
    "    print(ret)\n",
    "    \n",
    "    print(c1.a,c1.b,c1.c)\n",
    "    \n",
    "    ret = c1.subtract(10,20)    # 인스턴스 메서드 subtract를 호출\n",
    "    print(ret)\n",
    "    \n",
    "    ret = c1.multiply(10,20) # 인스턴스 메서드의 호출\n",
    "    print(ret)\n",
    "\n",
    "    ret = c1.divide(30,60)  # 인스턴스 메서드의 호출\n",
    "    print(ret)\n",
    "\n",
    "    print(c1.a,c1.b,c1.c)"
   ]
  },
  {
   "cell_type": "code",
   "execution_count": null,
   "metadata": {},
   "outputs": [],
   "source": []
  }
 ],
 "metadata": {
  "kernelspec": {
   "display_name": "Python 3",
   "language": "python",
   "name": "python3"
  },
  "language_info": {
   "codemirror_mode": {
    "name": "ipython",
    "version": 3
   },
   "file_extension": ".py",
   "mimetype": "text/x-python",
   "name": "python",
   "nbconvert_exporter": "python",
   "pygments_lexer": "ipython3",
   "version": "3.7.6"
  }
 },
 "nbformat": 4,
 "nbformat_minor": 4
}
